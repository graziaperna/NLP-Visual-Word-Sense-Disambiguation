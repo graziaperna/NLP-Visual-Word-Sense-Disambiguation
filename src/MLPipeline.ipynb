{
  "cells": [
    {
      "cell_type": "code",
      "execution_count": 1,
      "metadata": {
        "id": "dxoEEdu-BCYs"
      },
      "outputs": [],
      "source": [
        "#%pip install -U spaCy\n",
        "#%pip install keras\n",
        "#%python -m spacy download en_core_web_sm\n",
        "#%pip install -U jax jaxlib\n",
        "#%pip install clean-text\n",
        "#%pip install --upgrade ipykernel\n",
        "#da eseguire al primo utilizzo"
      ]
    },
    {
      "cell_type": "code",
      "execution_count": 2,
      "metadata": {
        "id": "Wel4vXK2BCYu"
      },
      "outputs": [],
      "source": [
        "import string\n",
        "import spacy\n",
        "import json\n",
        "import re\n",
        "import numpy as np\n",
        "import pandas as pd\n",
        "from sklearn.feature_extraction.text import CountVectorizer,TfidfVectorizer\n",
        "from sklearn.base import TransformerMixin\n",
        "from sklearn.pipeline import Pipeline\n",
        "from spacy.lang.it.stop_words import STOP_WORDS\n",
        "from spacy.lang.en import English\n",
        "from sklearn.pipeline import Pipeline\n",
        "from sklearn.feature_extraction.text import CountVectorizer, TfidfTransformer\n",
        "from sklearn.model_selection import train_test_split, GridSearchCV\n",
        "from sklearn.ensemble import RandomForestClassifier\n",
        "from sklearn.multioutput import MultiOutputClassifier\n",
        "from sklearn.metrics import accuracy_score, precision_score, recall_score, f1_score, make_scorer\n",
        "from sklearn.model_selection import GridSearchCV\n",
        "from nltk.corpus import stopwords\n",
        "from nltk.tokenize import word_tokenize\n",
        "from nltk.stem.porter import PorterStemmer\n",
        "from pandas import read_csv\n",
        "from sklearn.svm import SVC\n",
        "from sklearn import metrics\n",
        "from sklearn import svm\n",
        "from sklearn import neural_network\n",
        "from sklearn import ensemble\n",
        "from nltk.corpus import stopwords\n",
        "from nltk.tokenize import word_tokenize\n",
        "from nltk.stem.porter import PorterStemmer\n",
        "from pandas import read_csv\n",
        "import nltk\n",
        "import random\n",
        "\n",
        "#init spaCy\n",
        "punctuations = string.punctuation\n",
        "nlp = spacy.load(\"en_core_web_lg\")\n",
        "stop_words = spacy.lang.en.stop_words.STOP_WORDS\n",
        "parser = English()\n",
        "\n",
        "# Custom transformer using spaCy\n",
        "class predictors(TransformerMixin):\n",
        "    def transform(self, X, **transform_params):\n",
        "        # Cleaning Text\n",
        "        return [clean_text(text) for text in X]\n",
        "\n",
        "    def fit(self, X, y=None, **fit_params):\n",
        "        return self\n",
        "\n",
        "    def get_params(self, deep=True):\n",
        "        return {}\n",
        "\n",
        "# Basic function to clean the text\n",
        "def clean_text(text):\n",
        "    # Removing spaces and converting text into lowercase\n",
        "    translator = str.maketrans(\"\", \"\", string.punctuation)\n",
        "    text_without_punctuation = text.translate(translator)\n",
        "    return text_without_punctuation.lower()\n",
        "    #return text.strip().lower()\n",
        "\n",
        "# Tokenizer function\n",
        "def spacy_tokenizer(sentence):\n",
        "    mytokens = parser(sentence)\n",
        "    mytokens = [ word.text for word in mytokens ]\n",
        "    # remove stop words\n",
        "    mytokens = [ word for word in mytokens if word not in stop_words and word not in punctuations ]\n",
        "    # return preprocessed list of tokens\n",
        "    return mytokens\n",
        "\n"
      ]
    },
    {
      "cell_type": "code",
      "execution_count": 3,
      "metadata": {
        "colab": {
          "base_uri": "https://localhost:8080/"
        },
        "id": "kmyyylg4Cg3U",
        "outputId": "ceed22cd-c394-41cf-b576-fd892f5ed982"
      },
      "outputs": [
        {
          "name": "stderr",
          "output_type": "stream",
          "text": [
            "[nltk_data] Downloading package stopwords to\n",
            "[nltk_data]     C:\\Users\\perna\\AppData\\Roaming\\nltk_data...\n",
            "[nltk_data]   Package stopwords is already up-to-date!\n"
          ]
        },
        {
          "data": {
            "text/plain": [
              "True"
            ]
          },
          "execution_count": 3,
          "metadata": {},
          "output_type": "execute_result"
        }
      ],
      "source": [
        "nltk.download('stopwords')"
      ]
    },
    {
      "cell_type": "code",
      "execution_count": 4,
      "metadata": {
        "colab": {
          "base_uri": "https://localhost:8080/",
          "height": 455
        },
        "id": "SvR_yoZ3BCYv",
        "outputId": "7acb3bfe-bf2d-4d39-a9b1-0127641e04b4"
      },
      "outputs": [
        {
          "name": "stdout",
          "output_type": "stream",
          "text": [
            "TRAIN: \n",
            " not sexist    10602\n",
            "sexist         3398\n",
            "Name: label_sexist, dtype: int64\n",
            "\n",
            "VALIDATION: \n",
            " not sexist    1514\n",
            "sexist         486\n",
            "Name: label_sexist, dtype: int64\n",
            "\n",
            "TEST: \n",
            " not sexist    3030\n",
            "sexist         970\n",
            "Name: label_sexist, dtype: int64\n",
            "\n"
          ]
        }
      ],
      "source": [
        "dft = read_csv('../Dataset/Processed datasets/train_sexist.csv')\n",
        "dfv = read_csv('../Dataset/Processed datasets/dev_sexist.csv')\n",
        "dfs = read_csv('../Dataset/Processed datasets/test_sexist.csv')\n",
        "\n",
        "x_train = dft['text']\n",
        "y_train = dft['label_sexist']\n",
        "x_val = dfv['text']\n",
        "y_val = dfv['label_sexist']\n",
        "x_test = dfs['text']\n",
        "y_test= dfs['label_sexist']\n",
        "dft.set_index('ID')\n",
        "dfv.set_index('ID')\n",
        "dfs.set_index('ID')\n",
        "print(\"TRAIN: \\n\", y_train.value_counts(), end=\"\\n\\n\")\n",
        "print(\"VALIDATION: \\n\", y_val.value_counts(), end=\"\\n\\n\")\n",
        "print(\"TEST: \\n\", y_test.value_counts(), end=\"\\n\\n\")"
      ]
    },
    {
      "cell_type": "code",
      "execution_count": 5,
      "metadata": {
        "id": "CoUpof7FFfS9"
      },
      "outputs": [],
      "source": [
        "vector = CountVectorizer(tokenizer = spacy_tokenizer, ngram_range=(1,1))"
      ]
    },
    {
      "cell_type": "code",
      "execution_count": 52,
      "metadata": {
        "id": "ppom7gakEyxi"
      },
      "outputs": [
        {
          "ename": "ValueError",
          "evalue": "pos_label=1 is not a valid label. It should be one of ['not sexist', 'sexist']",
          "output_type": "error",
          "traceback": [
            "\u001b[1;31m---------------------------------------------------------------------------\u001b[0m",
            "\u001b[1;31mValueError\u001b[0m                                Traceback (most recent call last)",
            "\u001b[1;32m~\\AppData\\Local\\Temp\\ipykernel_6736\\3188097299.py\u001b[0m in \u001b[0;36m<module>\u001b[1;34m\u001b[0m\n\u001b[0;32m     34\u001b[0m     \u001b[0mfold_val_predictions\u001b[0m \u001b[1;33m=\u001b[0m \u001b[0mpipe\u001b[0m\u001b[1;33m.\u001b[0m\u001b[0mpredict\u001b[0m\u001b[1;33m(\u001b[0m\u001b[0mfold_val_data\u001b[0m\u001b[1;33m)\u001b[0m\u001b[1;33m\u001b[0m\u001b[1;33m\u001b[0m\u001b[0m\n\u001b[0;32m     35\u001b[0m     \u001b[0mfold_val_accuracy\u001b[0m \u001b[1;33m=\u001b[0m \u001b[0maccuracy_score\u001b[0m\u001b[1;33m(\u001b[0m\u001b[0mfold_val_labels\u001b[0m\u001b[1;33m,\u001b[0m \u001b[0mfold_val_predictions\u001b[0m\u001b[1;33m)\u001b[0m\u001b[1;33m\u001b[0m\u001b[1;33m\u001b[0m\u001b[0m\n\u001b[1;32m---> 36\u001b[1;33m     \u001b[0mfold_val_precision\u001b[0m \u001b[1;33m=\u001b[0m \u001b[0mprecision_score\u001b[0m\u001b[1;33m(\u001b[0m\u001b[0mfold_val_labels\u001b[0m\u001b[1;33m,\u001b[0m \u001b[0mfold_val_predictions\u001b[0m\u001b[1;33m)\u001b[0m\u001b[1;33m\u001b[0m\u001b[1;33m\u001b[0m\u001b[0m\n\u001b[0m\u001b[0;32m     37\u001b[0m     \u001b[0mfold_val_recall\u001b[0m \u001b[1;33m=\u001b[0m \u001b[0mrecall_score\u001b[0m\u001b[1;33m(\u001b[0m\u001b[0mfold_val_labels\u001b[0m\u001b[1;33m,\u001b[0m \u001b[0mfold_val_predictions\u001b[0m\u001b[1;33m)\u001b[0m\u001b[1;33m\u001b[0m\u001b[1;33m\u001b[0m\u001b[0m\n\u001b[0;32m     38\u001b[0m     \u001b[0mfold_val_f1\u001b[0m \u001b[1;33m=\u001b[0m \u001b[0mf1_score\u001b[0m\u001b[1;33m(\u001b[0m\u001b[0mfold_val_labels\u001b[0m\u001b[1;33m,\u001b[0m \u001b[0mfold_val_predictions\u001b[0m\u001b[1;33m)\u001b[0m\u001b[1;33m\u001b[0m\u001b[1;33m\u001b[0m\u001b[0m\n",
            "\u001b[1;32md:\\Anaconda\\lib\\site-packages\\sklearn\\metrics\\_classification.py\u001b[0m in \u001b[0;36mprecision_score\u001b[1;34m(y_true, y_pred, labels, pos_label, average, sample_weight, zero_division)\u001b[0m\n\u001b[0;32m   1755\u001b[0m     \u001b[0marray\u001b[0m\u001b[1;33m(\u001b[0m\u001b[1;33m[\u001b[0m\u001b[1;36m0.5\u001b[0m\u001b[1;33m,\u001b[0m \u001b[1;36m1.\u001b[0m \u001b[1;33m,\u001b[0m \u001b[1;36m1.\u001b[0m \u001b[1;33m]\u001b[0m\u001b[1;33m)\u001b[0m\u001b[1;33m\u001b[0m\u001b[1;33m\u001b[0m\u001b[0m\n\u001b[0;32m   1756\u001b[0m     \"\"\"\n\u001b[1;32m-> 1757\u001b[1;33m     p, _, _, _ = precision_recall_fscore_support(\n\u001b[0m\u001b[0;32m   1758\u001b[0m         \u001b[0my_true\u001b[0m\u001b[1;33m,\u001b[0m\u001b[1;33m\u001b[0m\u001b[1;33m\u001b[0m\u001b[0m\n\u001b[0;32m   1759\u001b[0m         \u001b[0my_pred\u001b[0m\u001b[1;33m,\u001b[0m\u001b[1;33m\u001b[0m\u001b[1;33m\u001b[0m\u001b[0m\n",
            "\u001b[1;32md:\\Anaconda\\lib\\site-packages\\sklearn\\metrics\\_classification.py\u001b[0m in \u001b[0;36mprecision_recall_fscore_support\u001b[1;34m(y_true, y_pred, beta, labels, pos_label, average, warn_for, sample_weight, zero_division)\u001b[0m\n\u001b[0;32m   1542\u001b[0m     \u001b[1;32mif\u001b[0m \u001b[0mbeta\u001b[0m \u001b[1;33m<\u001b[0m \u001b[1;36m0\u001b[0m\u001b[1;33m:\u001b[0m\u001b[1;33m\u001b[0m\u001b[1;33m\u001b[0m\u001b[0m\n\u001b[0;32m   1543\u001b[0m         \u001b[1;32mraise\u001b[0m \u001b[0mValueError\u001b[0m\u001b[1;33m(\u001b[0m\u001b[1;34m\"beta should be >=0 in the F-beta score\"\u001b[0m\u001b[1;33m)\u001b[0m\u001b[1;33m\u001b[0m\u001b[1;33m\u001b[0m\u001b[0m\n\u001b[1;32m-> 1544\u001b[1;33m     \u001b[0mlabels\u001b[0m \u001b[1;33m=\u001b[0m \u001b[0m_check_set_wise_labels\u001b[0m\u001b[1;33m(\u001b[0m\u001b[0my_true\u001b[0m\u001b[1;33m,\u001b[0m \u001b[0my_pred\u001b[0m\u001b[1;33m,\u001b[0m \u001b[0maverage\u001b[0m\u001b[1;33m,\u001b[0m \u001b[0mlabels\u001b[0m\u001b[1;33m,\u001b[0m \u001b[0mpos_label\u001b[0m\u001b[1;33m)\u001b[0m\u001b[1;33m\u001b[0m\u001b[1;33m\u001b[0m\u001b[0m\n\u001b[0m\u001b[0;32m   1545\u001b[0m \u001b[1;33m\u001b[0m\u001b[0m\n\u001b[0;32m   1546\u001b[0m     \u001b[1;31m# Calculate tp_sum, pred_sum, true_sum ###\u001b[0m\u001b[1;33m\u001b[0m\u001b[1;33m\u001b[0m\u001b[0m\n",
            "\u001b[1;32md:\\Anaconda\\lib\\site-packages\\sklearn\\metrics\\_classification.py\u001b[0m in \u001b[0;36m_check_set_wise_labels\u001b[1;34m(y_true, y_pred, average, labels, pos_label)\u001b[0m\n\u001b[0;32m   1354\u001b[0m             \u001b[1;32mif\u001b[0m \u001b[0mpos_label\u001b[0m \u001b[1;32mnot\u001b[0m \u001b[1;32min\u001b[0m \u001b[0mpresent_labels\u001b[0m\u001b[1;33m:\u001b[0m\u001b[1;33m\u001b[0m\u001b[1;33m\u001b[0m\u001b[0m\n\u001b[0;32m   1355\u001b[0m                 \u001b[1;32mif\u001b[0m \u001b[0mlen\u001b[0m\u001b[1;33m(\u001b[0m\u001b[0mpresent_labels\u001b[0m\u001b[1;33m)\u001b[0m \u001b[1;33m>=\u001b[0m \u001b[1;36m2\u001b[0m\u001b[1;33m:\u001b[0m\u001b[1;33m\u001b[0m\u001b[1;33m\u001b[0m\u001b[0m\n\u001b[1;32m-> 1356\u001b[1;33m                     raise ValueError(\n\u001b[0m\u001b[0;32m   1357\u001b[0m                         \u001b[1;34mf\"pos_label={pos_label} is not a valid label. It \"\u001b[0m\u001b[1;33m\u001b[0m\u001b[1;33m\u001b[0m\u001b[0m\n\u001b[0;32m   1358\u001b[0m                         \u001b[1;34mf\"should be one of {present_labels}\"\u001b[0m\u001b[1;33m\u001b[0m\u001b[1;33m\u001b[0m\u001b[0m\n",
            "\u001b[1;31mValueError\u001b[0m: pos_label=1 is not a valid label. It should be one of ['not sexist', 'sexist']"
          ]
        }
      ],
      "source": [
        "from sklearn.model_selection import KFold\n",
        "from sklearn.preprocessing import MultiLabelBinarizer\n",
        "from sklearn.pipeline import Pipeline\n",
        "from sklearn.feature_extraction.text import CountVectorizer\n",
        "from sklearn.multiclass import OneVsRestClassifier\n",
        "from sklearn.svm import LinearSVC\n",
        "from sklearn.utils import class_weight\n",
        "import sklearn.metrics\n",
        "from sklearn.metrics import precision_score, recall_score, f1_score\n",
        "\n",
        "\n",
        "#Linear Support Vector Machine classifier\n",
        "accuracy_scores = []\n",
        "precision_scores = []\n",
        "recall_scores = []\n",
        "f1_scores = []\n",
        "accuracy_label = []\n",
        "precision_label = []\n",
        "recall_label = []\n",
        "f1_label = []\n",
        "\n",
        "class_labels = np.unique(y)\n",
        "classifier = svm.LinearSVC(max_iter = 10000, class_weight= {\"not sexist\": 0.2, \"sexist\": 1})\n",
        "# Multi-layer Perceptron classifier\n",
        "#classifier = neural_network.MLPClassifier(hidden_layer_sizes=(512,),verbose=True,max_iter=10)\n",
        "# Random Foreset\n",
        "#classifier = ensemble.RandomForestClassifier(class_weight='balanced')\n",
        "\n",
        "# Create the pipeline\n",
        "\n",
        "pipe = Pipeline([(\"cleaner\", predictors()),\n",
        "('vectorizer', vector),\n",
        "('classifier', classifier)])\n",
        "\n",
        "kf = KFold(n_splits=10, shuffle=True, random_state=42)\n",
        "\n",
        "for train_index, test_index in kf.split(X):\n",
        "    # Divisione dei dati in fold di addestramento e di test\n",
        "    X_train, X_test = X[train_index], X[test_index]\n",
        "    y_train, y_test = y[train_index], y[test_index]\n",
        "    # Addestramento del modello\n",
        "    pipe.fit(X_train, y_train)\n",
        "\n",
        "    # Valutazione delle performance del modello sul test set\n",
        "    predicted = pipe.predict(X_test)\n",
        "\n",
        "    # Calcolo delle metriche di valutazione per il fold corrente\n",
        "    accuracy = accuracy_score(y_test, predicted)\n",
        "    precision = precision_score(y_test, predicted, average='weighted')\n",
        "    recall = recall_score(y_test, predicted, average='weighted')\n",
        "    f1 = f1_score(y_test, predicted, average='weighted')\n",
        "\n",
        "    # Aggiunta delle metriche del fold corrente alle liste\n",
        "    accuracy_scores.append(accuracy)\n",
        "    precision_scores.append(precision)\n",
        "    recall_scores.append(recall)\n",
        "    f1_scores.append(f1)\n",
        "\n",
        "    # Calcolo delle metriche per ogni singola classe\n",
        "    precision_label = precision_score(y_test, predicted, average=None, labels=class_labels)\n",
        "    recall_label = recall_score(y_test, predicted, average=None, labels=class_labels)\n",
        "    f1_label = f1_score(y_test, predicted, average=None, labels=class_labels)\n",
        "\n",
        "#X_train, X_test, y_train, y_test = train_test_split(X, y, test_size=0.3, random_state=42)\n",
        "#y_test = y_test.reset_index(drop=True)"
      ]
    },
    {
      "cell_type": "code",
      "execution_count": 6,
      "metadata": {},
      "outputs": [
        {
          "data": {
            "text/plain": [
              "Pipeline(steps=[('cleaner', <__main__.predictors object at 0x0000029C395D1100>),\n",
              "                ('vectorizer',\n",
              "                 CountVectorizer(tokenizer=<function spacy_tokenizer at 0x0000029C2FE9E9D0>)),\n",
              "                ('classifier',\n",
              "                 LinearSVC(class_weight={'not sexist': 0.2, 'sexist': 1},\n",
              "                           max_iter=10000))])"
            ]
          },
          "execution_count": 6,
          "metadata": {},
          "output_type": "execute_result"
        }
      ],
      "source": [
        "from sklearn.model_selection import KFold\n",
        "from sklearn.preprocessing import MultiLabelBinarizer\n",
        "from sklearn.pipeline import Pipeline\n",
        "from sklearn.feature_extraction.text import CountVectorizer\n",
        "from sklearn.multiclass import OneVsRestClassifier\n",
        "from sklearn.svm import LinearSVC\n",
        "from sklearn.utils import class_weight\n",
        "import sklearn.metrics\n",
        "from sklearn.metrics import precision_score, recall_score, f1_score\n",
        "from sklearn.model_selection import cross_val_score\n",
        "from sklearn.metrics import make_scorer, precision_score\n",
        "\n",
        "\n",
        "classifier = svm.LinearSVC(max_iter = 10000, class_weight= {\"not sexist\": 0.2, \"sexist\": 1})\n",
        "# Multi-layer Perceptron classifier\n",
        "#classifier = neural_network.MLPClassifier(hidden_layer_sizes=(512,),verbose=True,max_iter=10)\n",
        "# Random Foreset\n",
        "#classifier = ensemble.RandomForestClassifier(class_weight='balanced')\n",
        "\n",
        "# Create the pipeline\n",
        "\n",
        "pipe = Pipeline([(\"cleaner\", predictors()),\n",
        "('vectorizer', vector),\n",
        "('classifier', classifier)])\n",
        "\n",
        "pipe.fit(x_train, y_train)\n"
      ]
    },
    {
      "cell_type": "code",
      "execution_count": 7,
      "metadata": {},
      "outputs": [
        {
          "name": "stdout",
          "output_type": "stream",
          "text": [
            "Validation Accuracy: 0.7830\n",
            "Validation Precision: 0.5487\n",
            "Validation Recall: 0.6029\n",
            "Validation F1 Score: 0.5745\n"
          ]
        }
      ],
      "source": [
        "y_pred = pipe.predict(x_val)\n",
        "\n",
        "# Calcolo delle metriche di valutazione sul set di test\n",
        "val_accuracy = accuracy_score(y_val, y_pred)\n",
        "val_precision = precision_score(y_val, y_pred, average=\"binary\", pos_label=\"sexist\")\n",
        "val_recall = recall_score(y_val, y_pred, average=\"binary\", pos_label=\"sexist\")\n",
        "val_f1 = f1_score(y_val, y_pred, average=\"binary\", pos_label=\"sexist\")\n",
        "\n",
        "# Print the evaluation metrics for the validation data\n",
        "print(\"Validation Accuracy: {:.4f}\".format(val_accuracy))\n",
        "print(\"Validation Precision: {:.4f}\".format(val_precision))\n",
        "print(\"Validation Recall: {:.4f}\".format(val_recall))\n",
        "print(\"Validation F1 Score: {:.4f}\".format(val_f1))\n"
      ]
    },
    {
      "cell_type": "code",
      "execution_count": 23,
      "metadata": {},
      "outputs": [
        {
          "name": "stdout",
          "output_type": "stream",
          "text": [
            "Accuracy: 0.82 (+/- 0.03)\n",
            "Test Accuracy: 0.813\n"
          ]
        }
      ],
      "source": [
        "from sklearn.ensemble import VotingClassifier\n",
        "from sklearn.metrics import accuracy_score\n",
        "from sklearn.model_selection import cross_val_score\n",
        "\n",
        "# Definisci i modelli che vuoi includere nell'ensemble\n",
        "model1 = svm.LinearSVC(max_iter=10000, class_weight=\"balanced\")\n",
        "model2 = RandomForestClassifier(class_weight=\"balanced\")\n",
        "model3 = neural_network.MLPClassifier(hidden_layer_sizes=(512,),verbose=True)\n",
        "\n",
        "pipe1 = Pipeline([(\"cleaner\", predictors()),\n",
        "('vectorizer', vector1),\n",
        "('classifier', model1)])\n",
        "\n",
        "pipe2 = Pipeline([(\"cleaner\", predictors()),\n",
        "('vectorizer', vector1),\n",
        "('classifier', model2)])\n",
        "\n",
        "\n",
        "\n",
        "ensemble = VotingClassifier(estimators=[\n",
        "    ('svc', pipe1),\n",
        "    ('rf', pipe2)\n",
        "], voting='hard')\n",
        "\n",
        "# Calcola l'accuratezza dell'ensemble con la cross-validation\n",
        "scores = cross_val_score(ensemble, x_train, y_train, cv=10)\n",
        "print(\"Accuracy: %0.2f (+/- %0.2f)\" % (scores.mean(), scores.std() * 2))\n",
        "\n",
        "# Addestra l'ensemble sul set di addestramento completo\n",
        "ensemble.fit(x_train, y_train)\n",
        "\n",
        "# Fai le previsioni sull'insieme di test\n",
        "predictions = ensemble.predict(x_test)\n",
        "\n",
        "# Calcola l'accuratezza delle previsioni sul set di test\n",
        "accuracy = accuracy_score(y_test, predictions)\n",
        "print(\"Test Accuracy:\", accuracy)\n"
      ]
    },
    {
      "cell_type": "code",
      "execution_count": 24,
      "metadata": {},
      "outputs": [
        {
          "name": "stdout",
          "output_type": "stream",
          "text": [
            "Accuracy: 0.8130\n",
            "Precision: 0.9440\n",
            "Recall: 0.2433\n",
            "F1 Score: 0.3869\n"
          ]
        }
      ],
      "source": [
        "# Calcolo delle metriche di valutazione sul set di test\n",
        "test_accuracy = accuracy_score(y_test, predictions)\n",
        "precision = precision_score(y_test, predictions, average=\"binary\", pos_label=\"sexist\")\n",
        "recall = recall_score(y_test, predictions, average=\"binary\", pos_label=\"sexist\")\n",
        "f1 = f1_score(y_test, predictions, average=\"binary\", pos_label=\"sexist\")\n",
        "\n",
        "# Print the evaluation metrics for the validation data\n",
        "print(\"Accuracy: {:.4f}\".format(test_accuracy))\n",
        "print(\"Precision: {:.4f}\".format(precision))\n",
        "print(\"Recall: {:.4f}\".format(recall))\n",
        "print(\"F1 Score: {:.4f}\".format(f1))"
      ]
    },
    {
      "cell_type": "code",
      "execution_count": 25,
      "metadata": {
        "colab": {
          "base_uri": "https://localhost:8080/"
        },
        "id": "7haCG9c2KhCe",
        "outputId": "decdbe03-47b4-4cec-91fb-3bf4a15d8507"
      },
      "outputs": [
        {
          "ename": "NameError",
          "evalue": "name 'accuracy_scores' is not defined",
          "output_type": "error",
          "traceback": [
            "\u001b[1;31m---------------------------------------------------------------------------\u001b[0m",
            "\u001b[1;31mNameError\u001b[0m                                 Traceback (most recent call last)",
            "\u001b[1;32m~\\AppData\\Local\\Temp\\ipykernel_20304\\3155816753.py\u001b[0m in \u001b[0;36m<module>\u001b[1;34m\u001b[0m\n\u001b[1;32m----> 1\u001b[1;33m \u001b[0mmean_accuracy\u001b[0m \u001b[1;33m=\u001b[0m \u001b[0mnp\u001b[0m\u001b[1;33m.\u001b[0m\u001b[0mmean\u001b[0m\u001b[1;33m(\u001b[0m\u001b[0maccuracy_scores\u001b[0m\u001b[1;33m)\u001b[0m\u001b[1;33m\u001b[0m\u001b[1;33m\u001b[0m\u001b[0m\n\u001b[0m\u001b[0;32m      2\u001b[0m \u001b[0mmean_precision\u001b[0m \u001b[1;33m=\u001b[0m \u001b[0mnp\u001b[0m\u001b[1;33m.\u001b[0m\u001b[0mmean\u001b[0m\u001b[1;33m(\u001b[0m\u001b[0mprecision_scores\u001b[0m\u001b[1;33m)\u001b[0m\u001b[1;33m\u001b[0m\u001b[1;33m\u001b[0m\u001b[0m\n\u001b[0;32m      3\u001b[0m \u001b[0mmean_recall\u001b[0m \u001b[1;33m=\u001b[0m \u001b[0mnp\u001b[0m\u001b[1;33m.\u001b[0m\u001b[0mmean\u001b[0m\u001b[1;33m(\u001b[0m\u001b[0mrecall_scores\u001b[0m\u001b[1;33m)\u001b[0m\u001b[1;33m\u001b[0m\u001b[1;33m\u001b[0m\u001b[0m\n\u001b[0;32m      4\u001b[0m \u001b[0mmean_f1\u001b[0m \u001b[1;33m=\u001b[0m \u001b[0mnp\u001b[0m\u001b[1;33m.\u001b[0m\u001b[0mmean\u001b[0m\u001b[1;33m(\u001b[0m\u001b[0mf1_scores\u001b[0m\u001b[1;33m)\u001b[0m\u001b[1;33m\u001b[0m\u001b[1;33m\u001b[0m\u001b[0m\n\u001b[0;32m      5\u001b[0m \u001b[1;33m\u001b[0m\u001b[0m\n",
            "\u001b[1;31mNameError\u001b[0m: name 'accuracy_scores' is not defined"
          ]
        }
      ],
      "source": [
        "mean_accuracy = np.mean(accuracy_scores)\n",
        "mean_precision = np.mean(precision_scores)\n",
        "mean_recall = np.mean(recall_scores)\n",
        "mean_f1 = np.mean(f1_scores)\n",
        "\n",
        "# Stampa delle metriche\n",
        "print(\"---------------------------------\")\n",
        "print(\"Metriche finali:\")\n",
        "print(f\"Accuratezza media: {mean_accuracy:.4f}\")\n",
        "print(f\"Precisione media: {mean_precision:.4f}\")\n",
        "print(f\"Richiamo medio: {mean_recall:.4f}\")\n",
        "print(f\"F1-score medio: {mean_f1:.4f}\")\n",
        "print(\"---------------------------------\\n\")\n",
        "\n",
        "# Stampa delle metriche per ogni singola classe\n",
        "print(\"---------------------------------\")\n",
        "print(\"Metriche per ogni singola classe:\")\n",
        "for i, label in enumerate(class_labels):\n",
        "    print(f\"Classe '{label}':\")\n",
        "    print(f\"Precisione: {precision_label[i]:.4f}\")\n",
        "    print(f\"Richiamo: {recall_label[i]:.4f}\")\n",
        "    print(f\"F1-score: {f1_label[i]:.4f}\")\n",
        "    print()\n",
        "print(\"---------------------------------\")"
      ]
    },
    {
      "cell_type": "code",
      "execution_count": null,
      "metadata": {},
      "outputs": [
        {
          "name": "stdout",
          "output_type": "stream",
          "text": [
            "2. derogation                               2271\n",
            "3. animosity                                1665\n",
            "4. prejudiced discussions                    475\n",
            "1. threats, plans to harm and incitement     443\n",
            "Name: label_category, dtype: int64\n"
          ]
        }
      ],
      "source": [
        "df1 = read_csv('../Dataset/final_dataset_category.csv')\n",
        "X1 = df1['text']\n",
        "y1 = df1['label_category']\n",
        "df1.set_index('ID')\n",
        "print(y1.value_counts())\n"
      ]
    },
    {
      "cell_type": "code",
      "execution_count": null,
      "metadata": {},
      "outputs": [],
      "source": [
        "from transformers import BertTokenizer\n",
        "\n",
        "tokenizer = BertTokenizer.from_pretrained('bert-large-uncased')\n",
        "\n",
        "vector1 = CountVectorizer(tokenizer = tokenizer.tokenize, ngram_range=(1,2))"
      ]
    },
    {
      "cell_type": "code",
      "execution_count": null,
      "metadata": {},
      "outputs": [],
      "source": [
        "from sklearn.model_selection import KFold\n",
        "from sklearn.preprocessing import MultiLabelBinarizer\n",
        "from sklearn.pipeline import Pipeline\n",
        "from sklearn.feature_extraction.text import CountVectorizer\n",
        "from sklearn.multiclass import OneVsRestClassifier\n",
        "from sklearn.svm import LinearSVC\n",
        "from sklearn.utils import class_weight\n",
        "import sklearn.metrics\n",
        "from sklearn.metrics import precision_score, recall_score, f1_score\n",
        "\n",
        "\n",
        "#Linear Support Vector Machine classifier\n",
        "accuracy_scores = []\n",
        "precision_scores = []\n",
        "recall_scores = []\n",
        "f1_scores = []\n",
        "accuracy_label = []\n",
        "precision_label = []\n",
        "recall_label = []\n",
        "f1_label = []\n",
        "\n",
        "class_labels = np.unique(y1)\n",
        "classifier = svm.LinearSVC(max_iter = 10000)\n",
        "# Multi-layer Perceptron classifier\n",
        "#classifier = neural_network.MLPClassifier(hidden_layer_sizes=(512,),verbose=True,max_iter=10)\n",
        "# Random Foreset\n",
        "#classifier = ensemble.RandomForestClassifier(class_weight='balanced')\n",
        "\n",
        "# Create the pipeline\n",
        "\n",
        "pipe1 = Pipeline([(\"cleaner\", predictors()),\n",
        "('vectorizer', vector1),\n",
        "('classifier', classifier)])\n",
        "\n",
        "kf = KFold(n_splits=10, shuffle=True, random_state=42)\n",
        "\n",
        "for train_index, test_index in kf.split(X1):\n",
        "    # Divisione dei dati in fold di addestramento e di test\n",
        "    X1_train, X1_test = X1[train_index], X1[test_index]\n",
        "    y1_train, y1_test = y1[train_index], y1[test_index]\n",
        "    # Addestramento del modello\n",
        "    pipe1.fit(X1_train, y1_train)\n",
        "\n",
        "    # Valutazione delle performance del modello sul test set\n",
        "    predicted = pipe1.predict(X1_test)\n",
        "\n",
        "    # Calcolo delle metriche di valutazione per il fold corrente\n",
        "    accuracy = accuracy_score(y1_test, predicted)\n",
        "    precision = precision_score(y1_test, predicted, average='weighted')\n",
        "    recall = recall_score(y1_test, predicted, average='weighted')\n",
        "    f1 = f1_score(y1_test, predicted, average='weighted')\n",
        "\n",
        "    # Aggiunta delle metriche del fold corrente alle liste\n",
        "    accuracy_scores.append(accuracy)\n",
        "    precision_scores.append(precision)\n",
        "    recall_scores.append(recall)\n",
        "    f1_scores.append(f1)\n",
        "\n",
        "    # Calcolo delle metriche per ogni singola classe\n",
        "    precision_label = precision_score(y1_test, predicted, average=None, labels=class_labels)\n",
        "    recall_label = recall_score(y1_test, predicted, average=None, labels=class_labels)\n",
        "    f1_label = f1_score(y1_test, predicted, average=None, labels=class_labels)\n"
      ]
    },
    {
      "cell_type": "code",
      "execution_count": null,
      "metadata": {},
      "outputs": [
        {
          "name": "stdout",
          "output_type": "stream",
          "text": [
            "---------------------------------\n",
            "Metriche finali:\n",
            "Accuratezza media: 0.5373\n",
            "Precisione media: 0.5349\n",
            "Richiamo medio: 0.5373\n",
            "F1-score medio: 0.5296\n",
            "---------------------------------\n",
            "\n",
            "---------------------------------\n",
            "Metriche per ogni singola classe:\n",
            "Classe '1. threats, plans to harm and incitement':\n",
            "Precisione: 0.5714\n",
            "Richiamo: 0.5333\n",
            "F1-score: 0.5517\n",
            "\n",
            "Classe '2. derogation':\n",
            "Precisione: 0.5783\n",
            "Richiamo: 0.6761\n",
            "F1-score: 0.6234\n",
            "\n",
            "Classe '3. animosity':\n",
            "Precisione: 0.5183\n",
            "Richiamo: 0.5000\n",
            "F1-score: 0.5090\n",
            "\n",
            "Classe '4. prejudiced discussions':\n",
            "Precisione: 0.6000\n",
            "Richiamo: 0.3158\n",
            "F1-score: 0.4138\n",
            "\n",
            "---------------------------------\n"
          ]
        }
      ],
      "source": [
        "mean_accuracy = np.mean(accuracy_scores)\n",
        "mean_precision = np.mean(precision_scores)\n",
        "mean_recall = np.mean(recall_scores)\n",
        "mean_f1 = np.mean(f1_scores)\n",
        "\n",
        "# Stampa delle metriche\n",
        "print(\"---------------------------------\")\n",
        "print(\"Metriche finali:\")\n",
        "print(f\"Accuratezza media: {mean_accuracy:.4f}\")\n",
        "print(f\"Precisione media: {mean_precision:.4f}\")\n",
        "print(f\"Richiamo medio: {mean_recall:.4f}\")\n",
        "print(f\"F1-score medio: {mean_f1:.4f}\")\n",
        "print(\"---------------------------------\\n\")\n",
        "\n",
        "# Stampa delle metriche per ogni singola classe\n",
        "print(\"---------------------------------\")\n",
        "print(\"Metriche per ogni singola classe:\")\n",
        "for i, label in enumerate(class_labels):\n",
        "    print(f\"Classe '{label}':\")\n",
        "    print(f\"Precisione: {precision_label[i]:.4f}\")\n",
        "    print(f\"Richiamo: {recall_label[i]:.4f}\")\n",
        "    print(f\"F1-score: {f1_label[i]:.4f}\")\n",
        "    print()\n",
        "print(\"---------------------------------\")"
      ]
    },
    {
      "cell_type": "code",
      "execution_count": null,
      "metadata": {},
      "outputs": [
        {
          "name": "stdout",
          "output_type": "stream",
          "text": [
            "Classe: ['1. threats, plans to harm and incitement']\n"
          ]
        }
      ],
      "source": [
        "single_instance = [\"I can smell her dying from here.\"]\n",
        "prediction = pipe.predict(single_instance)\n",
        "\n",
        "if (prediction == 'sexist'):\n",
        "    prediction = pipe1.predict(single_instance)\n",
        "\n",
        "print(f\"Classe: {prediction}\")"
      ]
    }
  ],
  "metadata": {
    "colab": {
      "include_colab_link": true,
      "provenance": []
    },
    "kernelspec": {
      "display_name": "base",
      "language": "python",
      "name": "python3"
    },
    "language_info": {
      "codemirror_mode": {
        "name": "ipython",
        "version": 3
      },
      "file_extension": ".py",
      "mimetype": "text/x-python",
      "name": "python",
      "nbconvert_exporter": "python",
      "pygments_lexer": "ipython3",
      "version": "3.9.13"
    },
    "orig_nbformat": 4
  },
  "nbformat": 4,
  "nbformat_minor": 0
}
