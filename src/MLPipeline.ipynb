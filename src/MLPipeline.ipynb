{
  "cells": [
    {
      "cell_type": "code",
      "execution_count": 707,
      "metadata": {
        "id": "dxoEEdu-BCYs"
      },
      "outputs": [],
      "source": [
        "#%pip install -U spaCy\n",
        "#%pip install keras\n",
        "#%python -m spacy download en_core_web_sm\n",
        "#%pip install -U jax jaxlib\n",
        "#%pip install clean-text\n",
        "#%pip install --upgrade ipykernel\n",
        "#da eseguire al primo utilizzo"
      ]
    },
    {
      "cell_type": "code",
      "execution_count": 708,
      "metadata": {
        "id": "Wel4vXK2BCYu"
      },
      "outputs": [],
      "source": [
        "import string\n",
        "import spacy\n",
        "import json\n",
        "import re\n",
        "import numpy as np\n",
        "import pandas as pd\n",
        "from sklearn.feature_extraction.text import CountVectorizer,TfidfVectorizer\n",
        "from sklearn.base import TransformerMixin\n",
        "from sklearn.pipeline import Pipeline\n",
        "from spacy.lang.it.stop_words import STOP_WORDS\n",
        "from spacy.lang.en import English\n",
        "from sklearn.pipeline import Pipeline\n",
        "from sklearn.feature_extraction.text import CountVectorizer, TfidfTransformer\n",
        "from sklearn.model_selection import train_test_split, GridSearchCV\n",
        "from sklearn.ensemble import RandomForestClassifier\n",
        "from sklearn.multioutput import MultiOutputClassifier\n",
        "from sklearn.metrics import accuracy_score, precision_score, recall_score, f1_score, make_scorer\n",
        "from sklearn.model_selection import GridSearchCV\n",
        "from nltk.corpus import stopwords\n",
        "from nltk.tokenize import word_tokenize\n",
        "from nltk.stem.porter import PorterStemmer\n",
        "from pandas import read_csv\n",
        "from sklearn.svm import SVC\n",
        "from sklearn import metrics\n",
        "from sklearn import svm\n",
        "from sklearn import neural_network\n",
        "from sklearn import ensemble\n",
        "from nltk.corpus import stopwords\n",
        "from nltk.tokenize import word_tokenize\n",
        "from nltk.stem.porter import PorterStemmer\n",
        "from pandas import read_csv\n",
        "import nltk\n",
        "import random\n",
        "\n",
        "#init spaCy\n",
        "punctuations = string.punctuation\n",
        "nlp = spacy.load(\"en_core_web_lg\")\n",
        "stop_words = spacy.lang.en.stop_words.STOP_WORDS\n",
        "parser = English()\n",
        "\n",
        "# Custom transformer using spaCy\n",
        "class predictors(TransformerMixin):\n",
        "    def transform(self, X, **transform_params):\n",
        "        # Cleaning Text\n",
        "        return [clean_text(text) for text in X]\n",
        "\n",
        "    def fit(self, X, y=None, **fit_params):\n",
        "        return self\n",
        "\n",
        "    def get_params(self, deep=True):\n",
        "        return {}\n",
        "\n",
        "# Basic function to clean the text\n",
        "def clean_text(text):\n",
        "    # Removing spaces and converting text into lowercase\n",
        "    translator = str.maketrans(\"\", \"\", string.punctuation)\n",
        "    text_without_punctuation = text.translate(translator)\n",
        "    return text_without_punctuation.lower()\n",
        "    #return text.strip().lower()\n",
        "\n",
        "# Tokenizer function\n",
        "def spacy_tokenizer(sentence):\n",
        "    mytokens = parser(sentence)\n",
        "    mytokens = [ word.text for word in mytokens ]\n",
        "    # remove stop words\n",
        "    mytokens = [ word for word in mytokens if word not in stop_words and word not in punctuations ]\n",
        "    # return preprocessed list of tokens\n",
        "    return mytokens\n",
        "\n"
      ]
    },
    {
      "cell_type": "code",
      "execution_count": 709,
      "metadata": {
        "colab": {
          "base_uri": "https://localhost:8080/"
        },
        "id": "kmyyylg4Cg3U",
        "outputId": "ceed22cd-c394-41cf-b576-fd892f5ed982"
      },
      "outputs": [
        {
          "name": "stderr",
          "output_type": "stream",
          "text": [
            "[nltk_data] Downloading package stopwords to\n",
            "[nltk_data]     C:\\Users\\perna\\AppData\\Roaming\\nltk_data...\n",
            "[nltk_data]   Package stopwords is already up-to-date!\n"
          ]
        },
        {
          "data": {
            "text/plain": [
              "True"
            ]
          },
          "execution_count": 709,
          "metadata": {},
          "output_type": "execute_result"
        }
      ],
      "source": [
        "nltk.download('stopwords')"
      ]
    },
    {
      "cell_type": "code",
      "execution_count": 710,
      "metadata": {
        "colab": {
          "base_uri": "https://localhost:8080/",
          "height": 455
        },
        "id": "SvR_yoZ3BCYv",
        "outputId": "7acb3bfe-bf2d-4d39-a9b1-0127641e04b4"
      },
      "outputs": [
        {
          "name": "stdout",
          "output_type": "stream",
          "text": [
            "not sexist    15146\n",
            "sexist         4854\n",
            "Name: label_sexist, dtype: int64\n"
          ]
        },
        {
          "data": {
            "text/html": [
              "<div>\n",
              "<style scoped>\n",
              "    .dataframe tbody tr th:only-of-type {\n",
              "        vertical-align: middle;\n",
              "    }\n",
              "\n",
              "    .dataframe tbody tr th {\n",
              "        vertical-align: top;\n",
              "    }\n",
              "\n",
              "    .dataframe thead th {\n",
              "        text-align: right;\n",
              "    }\n",
              "</style>\n",
              "<table border=\"1\" class=\"dataframe\">\n",
              "  <thead>\n",
              "    <tr style=\"text-align: right;\">\n",
              "      <th></th>\n",
              "      <th>text</th>\n",
              "      <th>label_sexist</th>\n",
              "    </tr>\n",
              "    <tr>\n",
              "      <th>ID</th>\n",
              "      <th></th>\n",
              "      <th></th>\n",
              "    </tr>\n",
              "  </thead>\n",
              "  <tbody>\n",
              "    <tr>\n",
              "      <th>0</th>\n",
              "      <td>In Nigeria, if you rape a woman, the men rape ...</td>\n",
              "      <td>not sexist</td>\n",
              "    </tr>\n",
              "    <tr>\n",
              "      <th>1</th>\n",
              "      <td>Then, she's a keeper. 😉</td>\n",
              "      <td>not sexist</td>\n",
              "    </tr>\n",
              "    <tr>\n",
              "      <th>2</th>\n",
              "      <td>This is like the Metallica video where the poo...</td>\n",
              "      <td>not sexist</td>\n",
              "    </tr>\n",
              "    <tr>\n",
              "      <th>3</th>\n",
              "      <td>woman?</td>\n",
              "      <td>not sexist</td>\n",
              "    </tr>\n",
              "    <tr>\n",
              "      <th>4</th>\n",
              "      <td>I bet she wished she had a gun</td>\n",
              "      <td>not sexist</td>\n",
              "    </tr>\n",
              "    <tr>\n",
              "      <th>...</th>\n",
              "      <td>...</td>\n",
              "      <td>...</td>\n",
              "    </tr>\n",
              "    <tr>\n",
              "      <th>19995</th>\n",
              "      <td>girls really get fucked almost every weekend ?</td>\n",
              "      <td>not sexist</td>\n",
              "    </tr>\n",
              "    <tr>\n",
              "      <th>19996</th>\n",
              "      <td>The hatred for moslems are Reasonable and Just...</td>\n",
              "      <td>not sexist</td>\n",
              "    </tr>\n",
              "    <tr>\n",
              "      <th>19997</th>\n",
              "      <td>Now this is a woman who gets it. 👆</td>\n",
              "      <td>not sexist</td>\n",
              "    </tr>\n",
              "    <tr>\n",
              "      <th>19998</th>\n",
              "      <td>“American Idol” finalist [USER] said nothing i...</td>\n",
              "      <td>not sexist</td>\n",
              "    </tr>\n",
              "    <tr>\n",
              "      <th>19999</th>\n",
              "      <td>this bi--th should be stoped she's the rapist</td>\n",
              "      <td>sexist</td>\n",
              "    </tr>\n",
              "  </tbody>\n",
              "</table>\n",
              "<p>20000 rows × 2 columns</p>\n",
              "</div>"
            ],
            "text/plain": [
              "                                                    text label_sexist\n",
              "ID                                                                   \n",
              "0      In Nigeria, if you rape a woman, the men rape ...   not sexist\n",
              "1                                Then, she's a keeper. 😉   not sexist\n",
              "2      This is like the Metallica video where the poo...   not sexist\n",
              "3                                                 woman?   not sexist\n",
              "4                         I bet she wished she had a gun   not sexist\n",
              "...                                                  ...          ...\n",
              "19995     girls really get fucked almost every weekend ?   not sexist\n",
              "19996  The hatred for moslems are Reasonable and Just...   not sexist\n",
              "19997                 Now this is a woman who gets it. 👆   not sexist\n",
              "19998  “American Idol” finalist [USER] said nothing i...   not sexist\n",
              "19999      this bi--th should be stoped she's the rapist       sexist\n",
              "\n",
              "[20000 rows x 2 columns]"
            ]
          },
          "execution_count": 710,
          "metadata": {},
          "output_type": "execute_result"
        }
      ],
      "source": [
        "df = read_csv('../Dataset/final_dataset_sexist.csv')\n",
        "\n",
        "X = df['text']\n",
        "y = df['label_sexist']\n",
        "print(y.value_counts())\n",
        "df.set_index('ID')\n"
      ]
    },
    {
      "cell_type": "code",
      "execution_count": 711,
      "metadata": {
        "id": "CoUpof7FFfS9"
      },
      "outputs": [],
      "source": [
        "vector = CountVectorizer(tokenizer = spacy_tokenizer, ngram_range=(1,1))"
      ]
    },
    {
      "cell_type": "code",
      "execution_count": 712,
      "metadata": {
        "id": "ppom7gakEyxi"
      },
      "outputs": [],
      "source": [
        "from sklearn.model_selection import train_test_split\n",
        "from sklearn.model_selection import KFold\n",
        "\n",
        "kf = KFold(n_splits=10, shuffle=True, random_state=42)\n",
        "\n",
        "for train_index, test_index in kf.split(X):\n",
        "    # Divisione dei dati in fold di addestramento e di test\n",
        "    X_train, X_test = X[train_index], X[test_index]\n",
        "    y_train, y_test = y[train_index], y[test_index]\n",
        "\n",
        "#X_train, X_test, y_train, y_test = train_test_split(X, y, test_size=0.3, random_state=42)\n",
        "#y_test = y_test.reset_index(drop=True)"
      ]
    },
    {
      "cell_type": "code",
      "execution_count": 713,
      "metadata": {
        "colab": {
          "base_uri": "https://localhost:8080/"
        },
        "id": "susyjG-voYoU",
        "outputId": "1f196f82-6a2c-4d15-e0dc-c357b36e36ee"
      },
      "outputs": [
        {
          "name": "stdout",
          "output_type": "stream",
          "text": [
            "x_train shape: (18000,)\n",
            "y_train shape: (18000,)\n",
            "x_test shape: (2000,)\n",
            "y_test shape: (2000,)\n"
          ]
        }
      ],
      "source": [
        "print(f\"x_train shape: {X_train.shape}\")  # (50, 4)\n",
        "print(f\"y_train shape: {y_train.shape}\")  # (50, 4)  ==> 2d, so something is wrong\n",
        "print(f\"x_test shape: {X_test.shape}\")  # (50,) => also bad\n",
        "print(f\"y_test shape: {y_test.shape}\")\n"
      ]
    },
    {
      "cell_type": "code",
      "execution_count": 714,
      "metadata": {
        "colab": {
          "base_uri": "https://localhost:8080/",
          "height": 250
        },
        "id": "k7XGh6XkE2D7",
        "outputId": "9df56327-71ae-4a48-952d-d6c23eaa4525"
      },
      "outputs": [
        {
          "data": {
            "text/plain": [
              "Pipeline(steps=[('cleaner', <__main__.predictors object at 0x000001FB9B8549D0>),\n",
              "                ('vectorizer',\n",
              "                 CountVectorizer(tokenizer=<function spacy_tokenizer at 0x000001FB207FB940>)),\n",
              "                ('classifier',\n",
              "                 LinearSVC(class_weight={'not sexist': 0.2, 'sexist': 1},\n",
              "                           max_iter=10000))])"
            ]
          },
          "execution_count": 714,
          "metadata": {},
          "output_type": "execute_result"
        }
      ],
      "source": [
        "from sklearn.preprocessing import MultiLabelBinarizer\n",
        "from sklearn.pipeline import Pipeline\n",
        "from sklearn.feature_extraction.text import CountVectorizer\n",
        "from sklearn.multiclass import OneVsRestClassifier\n",
        "from sklearn.svm import LinearSVC\n",
        "from sklearn.utils import class_weight\n",
        "\n",
        "\n",
        "#Linear Support Vector Machine classifier\n",
        "\n",
        "classifier = svm.LinearSVC(max_iter = 10000, class_weight= {\"not sexist\": 0.2, \"sexist\": 1})\n",
        "# Multi-layer Perceptron classifier\n",
        "#classifier = neural_network.MLPClassifier(hidden_layer_sizes=(512,),verbose=True,max_iter=10)\n",
        "# Random Foreset\n",
        "#classifier = ensemble.RandomForestClassifier(class_weight='balanced')\n",
        "\n",
        "# Create the pipeline\n",
        "\n",
        "pipe = Pipeline([(\"cleaner\", predictors()),\n",
        "('vectorizer', vector),\n",
        "('classifier', classifier)])\n",
        "\n",
        "# Addestramento del modello\n",
        "pipe.fit(X_train, y_train)"
      ]
    },
    {
      "cell_type": "code",
      "execution_count": 715,
      "metadata": {
        "id": "DYRWZZTlYzWD"
      },
      "outputs": [],
      "source": [
        "#!pip install scikit-learn -U\n",
        "import sklearn.metrics"
      ]
    },
    {
      "cell_type": "code",
      "execution_count": 716,
      "metadata": {
        "colab": {
          "base_uri": "https://localhost:8080/"
        },
        "id": "7haCG9c2KhCe",
        "outputId": "decdbe03-47b4-4cec-91fb-3bf4a15d8507"
      },
      "outputs": [
        {
          "name": "stdout",
          "output_type": "stream",
          "text": [
            "Accuracy: 0.7875\n",
            "======================================================\n",
            "P-macro=0.7154781493016786, R-macro=0.7415809838324693, F1-macro=0.7257532831365048\n",
            "======================================================\n",
            "P-micro=0.7875, R-micro=0.7875, F1-micro=0.7875\n",
            "======================================================\n",
            "              precision    recall  f1-score   support\n",
            "\n",
            "  not sexist     0.8838    0.8297    0.8559      1521\n",
            "      sexist     0.5472    0.6534    0.5956       479\n",
            "\n",
            "    accuracy                         0.7875      2000\n",
            "   macro avg     0.7155    0.7416    0.7258      2000\n",
            "weighted avg     0.8031    0.7875    0.7936      2000\n",
            "\n"
          ]
        }
      ],
      "source": [
        "predicted = pipe.predict(X_test)\n",
        "sklearn.metrics.f1_score(y_test, predicted,average='weighted')\n",
        "\n",
        "predicted = pipe.predict(X_test)\n",
        "\n",
        "acc = metrics.accuracy_score(y_test, predicted)\n",
        "print(\"Accuracy:\", acc)\n",
        "print(\"======================================================\")\n",
        "precision_macro = metrics.precision_score(y_test, predicted, average='macro')\n",
        "recall_macro = metrics.recall_score(y_test, predicted, average='macro')\n",
        "fm_macro = metrics.f1_score(y_test, predicted, average='macro')\n",
        "print(\"P-macro={0}, R-macro={1}, F1-macro={2}\".format(precision_macro, recall_macro, fm_macro))\n",
        "print(\"======================================================\")\n",
        "precision_micro = metrics.precision_score(y_test, predicted, average='micro')\n",
        "recall_micro = metrics.recall_score(y_test, predicted, average='micro')\n",
        "fm_micro = metrics.f1_score(y_test, predicted, average='micro')\n",
        "print(\"P-micro={0}, R-micro={1}, F1-micro={2}\".format(precision_micro, recall_micro, fm_micro))\n",
        "print(\"======================================================\")\n",
        "print(metrics.classification_report(y_test, predicted, digits=4))"
      ]
    },
    {
      "cell_type": "code",
      "execution_count": 717,
      "metadata": {},
      "outputs": [
        {
          "name": "stdout",
          "output_type": "stream",
          "text": [
            "2. derogation                               2271\n",
            "3. animosity                                1665\n",
            "4. prejudiced discussions                    475\n",
            "1. threats, plans to harm and incitement     443\n",
            "Name: label_category, dtype: int64\n"
          ]
        }
      ],
      "source": [
        "df1 = read_csv('../Dataset/final_dataset_category.csv')\n",
        "X1 = df1['text']\n",
        "y1 = df1['label_category']\n",
        "df1.set_index('ID')\n",
        "print(y1.value_counts())\n"
      ]
    },
    {
      "cell_type": "code",
      "execution_count": 718,
      "metadata": {},
      "outputs": [],
      "source": [
        "from sklearn.model_selection import train_test_split\n",
        "X1_train, X1_test, y1_train, y1_test = train_test_split(X1, y1, test_size=0.20, random_state=42)\n",
        "y1_test = y1_test.reset_index(drop=True)"
      ]
    },
    {
      "cell_type": "code",
      "execution_count": 719,
      "metadata": {},
      "outputs": [],
      "source": [
        "\n",
        "from transformers import BertTokenizer\n",
        "\n",
        "tokenizer = BertTokenizer.from_pretrained('bert-large-uncased')\n",
        "\n",
        "vector1 = CountVectorizer(tokenizer = tokenizer.tokenize, ngram_range=(1,2))\n"
      ]
    },
    {
      "cell_type": "code",
      "execution_count": 728,
      "metadata": {},
      "outputs": [
        {
          "data": {
            "text/plain": [
              "Pipeline(steps=[('cleaner', <__main__.predictors object at 0x000001FB7156F1C0>),\n",
              "                ('vectorizer',\n",
              "                 CountVectorizer(ngram_range=(1, 2),\n",
              "                                 tokenizer=<bound method PreTrainedTokenizer.tokenize of BertTokenizer(name_or_path='bert-large-uncased', vocab_size=30522, model_max_length=512, is_fast=False, padding_side='right', truncation_side='right', special_tokens={'unk_token': '[UNK]', 'sep_token': '[SEP]', 'pad_token': '[PAD]', 'cls_token': '[CLS]', 'mask_token': '[MASK]'}, clean_up_tokenization_spaces=True)>)),\n",
              "                ('classifier', LinearSVC(max_iter=10000))])"
            ]
          },
          "execution_count": 728,
          "metadata": {},
          "output_type": "execute_result"
        }
      ],
      "source": [
        "from sklearn.naive_bayes import MultinomialNB\n",
        "\n",
        "#Linear Support Vector Machine classifier\n",
        "classifier = svm.LinearSVC(max_iter= 10000)\n",
        "# Multi-layer Perceptron classifier\n",
        "#classifier = neural_network.MLPClassifier(hidden_layer_sizes=(512,),verbose=True, max_iter=100)\n",
        "# Random Foreset\n",
        "#classifier = ensemble.RandomForestClassifier()\n",
        "\n",
        "# Create the pipeline\n",
        "pipe1 = Pipeline([(\"cleaner\", predictors()),\n",
        "('vectorizer', vector1),\n",
        "('classifier', classifier)])\n",
        "\n",
        "# Addestramento del modello\n",
        "pipe1.fit(X1_train, y1_train)"
      ]
    },
    {
      "cell_type": "code",
      "execution_count": 729,
      "metadata": {},
      "outputs": [
        {
          "name": "stdout",
          "output_type": "stream",
          "text": [
            "Accuracy: 0.5355303810504635\n",
            "======================================================\n",
            "P-macro=0.5342900142792237, R-macro=0.4667128018427889, F1-macro=0.48899595166985743\n",
            "======================================================\n",
            "P-micro=0.5355303810504635, R-micro=0.5355303810504635, F1-micro=0.5355303810504635\n",
            "======================================================\n",
            "                                          precision    recall  f1-score   support\n",
            "\n",
            "1. threats, plans to harm and incitement     0.5070    0.4337    0.4675        83\n",
            "                           2. derogation     0.5685    0.6157    0.5912       458\n",
            "                            3. animosity     0.4901    0.5163    0.5029       337\n",
            "               4. prejudiced discussions     0.5714    0.3011    0.3944        93\n",
            "\n",
            "                                accuracy                         0.5355       971\n",
            "                               macro avg     0.5343    0.4667    0.4890       971\n",
            "                            weighted avg     0.5364    0.5355    0.5311       971\n",
            "\n"
          ]
        }
      ],
      "source": [
        "predicted = pipe1.predict(X1_test)\n",
        "sklearn.metrics.f1_score(y1_test, predicted,average='weighted',zero_division=0)\n",
        "\n",
        "predicted = pipe1.predict(X1_test)\n",
        "\n",
        "acc = metrics.accuracy_score(y1_test, predicted)\n",
        "print(\"Accuracy:\", acc)\n",
        "print(\"======================================================\")\n",
        "precision_macro = metrics.precision_score(y1_test, predicted, average='macro')\n",
        "recall_macro = metrics.recall_score(y1_test, predicted, average='macro')\n",
        "fm_macro = metrics.f1_score(y1_test, predicted, average='macro')\n",
        "print(\"P-macro={0}, R-macro={1}, F1-macro={2}\".format(precision_macro, recall_macro, fm_macro))\n",
        "print(\"======================================================\")\n",
        "precision_micro = metrics.precision_score(y1_test, predicted, average='micro')\n",
        "recall_micro = metrics.recall_score(y1_test, predicted, average='micro')\n",
        "fm_micro = metrics.f1_score(y1_test, predicted, average='micro')\n",
        "print(\"P-micro={0}, R-micro={1}, F1-micro={2}\".format(precision_micro, recall_micro, fm_micro))\n",
        "print(\"======================================================\")\n",
        "print(metrics.classification_report(y1_test, predicted, digits=4))"
      ]
    },
    {
      "cell_type": "code",
      "execution_count": 744,
      "metadata": {},
      "outputs": [
        {
          "name": "stdout",
          "output_type": "stream",
          "text": [
            "Classe: ['1. threats, plans to harm and incitement']\n"
          ]
        }
      ],
      "source": [
        "single_instance = [\"I can smell her dying from here.\"]\n",
        "prediction = pipe.predict(single_instance)\n",
        "\n",
        "if (prediction == 'sexist'):\n",
        "    prediction = pipe1.predict(single_instance)\n",
        "\n",
        "print(f\"Classe: {prediction}\")"
      ]
    }
  ],
  "metadata": {
    "colab": {
      "include_colab_link": true,
      "provenance": []
    },
    "kernelspec": {
      "display_name": "base",
      "language": "python",
      "name": "python3"
    },
    "language_info": {
      "codemirror_mode": {
        "name": "ipython",
        "version": 3
      },
      "file_extension": ".py",
      "mimetype": "text/x-python",
      "name": "python",
      "nbconvert_exporter": "python",
      "pygments_lexer": "ipython3",
      "version": "3.9.13"
    },
    "orig_nbformat": 4
  },
  "nbformat": 4,
  "nbformat_minor": 0
}
