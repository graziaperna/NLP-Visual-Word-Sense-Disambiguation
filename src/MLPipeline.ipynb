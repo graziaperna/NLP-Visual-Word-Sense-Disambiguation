{
  "cells": [
    {
      "cell_type": "code",
      "execution_count": 1,
      "metadata": {
        "id": "dxoEEdu-BCYs"
      },
      "outputs": [],
      "source": [
        "#%pip install -U spaCy\n",
        "#%pip install keras\n",
        "#%python -m spacy download en_core_web_sm\n",
        "#%pip install -U jax jaxlib\n",
        "#%pip install clean-text\n",
        "#%pip install --upgrade ipykernel\n",
        "#da eseguire al primo utilizzo"
      ]
    },
    {
      "cell_type": "code",
      "execution_count": 1,
      "metadata": {
        "id": "Wel4vXK2BCYu"
      },
      "outputs": [],
      "source": [
        "import string\n",
        "import spacy\n",
        "import json\n",
        "import re\n",
        "import numpy as np\n",
        "import pandas as pd\n",
        "from sklearn.feature_extraction.text import CountVectorizer,TfidfVectorizer\n",
        "from sklearn.base import TransformerMixin\n",
        "from sklearn.pipeline import Pipeline\n",
        "from spacy.lang.it.stop_words import STOP_WORDS\n",
        "from spacy.lang.en import English\n",
        "from sklearn.pipeline import Pipeline\n",
        "from sklearn.feature_extraction.text import CountVectorizer, TfidfTransformer\n",
        "from sklearn.model_selection import train_test_split, GridSearchCV\n",
        "from sklearn.ensemble import RandomForestClassifier\n",
        "from sklearn.multioutput import MultiOutputClassifier\n",
        "from sklearn.metrics import accuracy_score, precision_score, recall_score, f1_score, make_scorer\n",
        "from sklearn.model_selection import GridSearchCV\n",
        "from nltk.corpus import stopwords\n",
        "from nltk.tokenize import word_tokenize\n",
        "from nltk.stem.porter import PorterStemmer\n",
        "from pandas import read_csv\n",
        "from sklearn.svm import SVC\n",
        "from sklearn import metrics\n",
        "from sklearn import svm\n",
        "from sklearn import neural_network\n",
        "from sklearn import ensemble\n",
        "from nltk.corpus import stopwords\n",
        "from nltk.tokenize import word_tokenize\n",
        "from nltk.stem.porter import PorterStemmer\n",
        "from pandas import read_csv\n",
        "import nltk\n",
        "import random\n",
        "\n",
        "#init spaCy\n",
        "punctuations = string.punctuation\n",
        "nlp = spacy.load(\"en_core_web_lg\")\n",
        "stop_words = spacy.lang.en.stop_words.STOP_WORDS\n",
        "parser = English()\n",
        "\n",
        "# Custom transformer using spaCy\n",
        "class predictors(TransformerMixin):\n",
        "    def transform(self, X, **transform_params):\n",
        "        # Cleaning Text\n",
        "        return [clean_text(text) for text in X]\n",
        "\n",
        "    def fit(self, X, y=None, **fit_params):\n",
        "        return self\n",
        "\n",
        "    def get_params(self, deep=True):\n",
        "        return {}\n",
        "\n",
        "# Basic function to clean the text\n",
        "def clean_text(text):\n",
        "    # Removing spaces and converting text into lowercase\n",
        "    translator = str.maketrans(\"\", \"\", string.punctuation)\n",
        "    text_without_punctuation = text.translate(translator)\n",
        "    return text_without_punctuation.lower()\n",
        "    #return text.strip().lower()\n",
        "\n",
        "# Tokenizer function\n",
        "def spacy_tokenizer(sentence):\n",
        "    mytokens = parser(sentence)\n",
        "    mytokens = [ word.text for word in mytokens ]\n",
        "    # remove stop words\n",
        "    mytokens = [ word for word in mytokens if word not in stop_words and word not in punctuations ]\n",
        "    # return preprocessed list of tokens\n",
        "    return mytokens\n",
        "\n"
      ]
    },
    {
      "cell_type": "code",
      "execution_count": 3,
      "metadata": {
        "colab": {
          "base_uri": "https://localhost:8080/"
        },
        "id": "kmyyylg4Cg3U",
        "outputId": "ceed22cd-c394-41cf-b576-fd892f5ed982"
      },
      "outputs": [
        {
          "name": "stderr",
          "output_type": "stream",
          "text": [
            "[nltk_data] Downloading package stopwords to\n",
            "[nltk_data]     C:\\Users\\perna\\AppData\\Roaming\\nltk_data...\n",
            "[nltk_data]   Package stopwords is already up-to-date!\n"
          ]
        },
        {
          "data": {
            "text/plain": [
              "True"
            ]
          },
          "execution_count": 3,
          "metadata": {},
          "output_type": "execute_result"
        }
      ],
      "source": [
        "nltk.download('stopwords')"
      ]
    },
    {
      "cell_type": "code",
      "execution_count": 2,
      "metadata": {
        "colab": {
          "base_uri": "https://localhost:8080/",
          "height": 455
        },
        "id": "SvR_yoZ3BCYv",
        "outputId": "7acb3bfe-bf2d-4d39-a9b1-0127641e04b4"
      },
      "outputs": [
        {
          "name": "stdout",
          "output_type": "stream",
          "text": [
            "TRAIN: \n",
            " not sexist    10602\n",
            "sexist         3398\n",
            "Name: label_sexist, dtype: int64\n",
            "\n",
            "VALIDATION: \n",
            " not sexist    1514\n",
            "sexist         486\n",
            "Name: label_sexist, dtype: int64\n",
            "\n",
            "TEST: \n",
            " not sexist    3030\n",
            "sexist         970\n",
            "Name: label_sexist, dtype: int64\n",
            "\n"
          ]
        }
      ],
      "source": [
        "dft = read_csv('../Dataset/Processed datasets/train_sexist.csv')\n",
        "dfv = read_csv('../Dataset/Processed datasets/dev_sexist.csv')\n",
        "dfs = read_csv('../Dataset/Processed datasets/test_sexist.csv')\n",
        "\n",
        "x_train = dft['text']\n",
        "y_train = dft['label_sexist']\n",
        "x_val = dfv['text']\n",
        "y_val = dfv['label_sexist']\n",
        "x_test = dfs['text']\n",
        "y_test= dfs['label_sexist']\n",
        "dft.set_index('ID')\n",
        "dfv.set_index('ID')\n",
        "dfs.set_index('ID')\n",
        "print(\"TRAIN: \\n\", y_train.value_counts(), end=\"\\n\\n\")\n",
        "print(\"VALIDATION: \\n\", y_val.value_counts(), end=\"\\n\\n\")\n",
        "print(\"TEST: \\n\", y_test.value_counts(), end=\"\\n\\n\")"
      ]
    },
    {
      "cell_type": "code",
      "execution_count": 4,
      "metadata": {
        "id": "CoUpof7FFfS9"
      },
      "outputs": [],
      "source": [
        "vector = CountVectorizer(tokenizer = spacy_tokenizer, ngram_range=(1,1))"
      ]
    },
    {
      "attachments": {},
      "cell_type": "markdown",
      "metadata": {},
      "source": [
        "# **Task A**"
      ]
    },
    {
      "cell_type": "code",
      "execution_count": 19,
      "metadata": {},
      "outputs": [
        {
          "name": "stderr",
          "output_type": "stream",
          "text": [
            "d:\\Anaconda\\lib\\site-packages\\sklearn\\feature_extraction\\text.py:528: UserWarning: The parameter 'token_pattern' will not be used since 'tokenizer' is not None'\n",
            "  warnings.warn(\n"
          ]
        },
        {
          "data": {
            "text/html": [
              "<style>#sk-container-id-1 {color: black;background-color: white;}#sk-container-id-1 pre{padding: 0;}#sk-container-id-1 div.sk-toggleable {background-color: white;}#sk-container-id-1 label.sk-toggleable__label {cursor: pointer;display: block;width: 100%;margin-bottom: 0;padding: 0.3em;box-sizing: border-box;text-align: center;}#sk-container-id-1 label.sk-toggleable__label-arrow:before {content: \"▸\";float: left;margin-right: 0.25em;color: #696969;}#sk-container-id-1 label.sk-toggleable__label-arrow:hover:before {color: black;}#sk-container-id-1 div.sk-estimator:hover label.sk-toggleable__label-arrow:before {color: black;}#sk-container-id-1 div.sk-toggleable__content {max-height: 0;max-width: 0;overflow: hidden;text-align: left;background-color: #f0f8ff;}#sk-container-id-1 div.sk-toggleable__content pre {margin: 0.2em;color: black;border-radius: 0.25em;background-color: #f0f8ff;}#sk-container-id-1 input.sk-toggleable__control:checked~div.sk-toggleable__content {max-height: 200px;max-width: 100%;overflow: auto;}#sk-container-id-1 input.sk-toggleable__control:checked~label.sk-toggleable__label-arrow:before {content: \"▾\";}#sk-container-id-1 div.sk-estimator input.sk-toggleable__control:checked~label.sk-toggleable__label {background-color: #d4ebff;}#sk-container-id-1 div.sk-label input.sk-toggleable__control:checked~label.sk-toggleable__label {background-color: #d4ebff;}#sk-container-id-1 input.sk-hidden--visually {border: 0;clip: rect(1px 1px 1px 1px);clip: rect(1px, 1px, 1px, 1px);height: 1px;margin: -1px;overflow: hidden;padding: 0;position: absolute;width: 1px;}#sk-container-id-1 div.sk-estimator {font-family: monospace;background-color: #f0f8ff;border: 1px dotted black;border-radius: 0.25em;box-sizing: border-box;margin-bottom: 0.5em;}#sk-container-id-1 div.sk-estimator:hover {background-color: #d4ebff;}#sk-container-id-1 div.sk-parallel-item::after {content: \"\";width: 100%;border-bottom: 1px solid gray;flex-grow: 1;}#sk-container-id-1 div.sk-label:hover label.sk-toggleable__label {background-color: #d4ebff;}#sk-container-id-1 div.sk-serial::before {content: \"\";position: absolute;border-left: 1px solid gray;box-sizing: border-box;top: 0;bottom: 0;left: 50%;z-index: 0;}#sk-container-id-1 div.sk-serial {display: flex;flex-direction: column;align-items: center;background-color: white;padding-right: 0.2em;padding-left: 0.2em;position: relative;}#sk-container-id-1 div.sk-item {position: relative;z-index: 1;}#sk-container-id-1 div.sk-parallel {display: flex;align-items: stretch;justify-content: center;background-color: white;position: relative;}#sk-container-id-1 div.sk-item::before, #sk-container-id-1 div.sk-parallel-item::before {content: \"\";position: absolute;border-left: 1px solid gray;box-sizing: border-box;top: 0;bottom: 0;left: 50%;z-index: -1;}#sk-container-id-1 div.sk-parallel-item {display: flex;flex-direction: column;z-index: 1;position: relative;background-color: white;}#sk-container-id-1 div.sk-parallel-item:first-child::after {align-self: flex-end;width: 50%;}#sk-container-id-1 div.sk-parallel-item:last-child::after {align-self: flex-start;width: 50%;}#sk-container-id-1 div.sk-parallel-item:only-child::after {width: 0;}#sk-container-id-1 div.sk-dashed-wrapped {border: 1px dashed gray;margin: 0 0.4em 0.5em 0.4em;box-sizing: border-box;padding-bottom: 0.4em;background-color: white;}#sk-container-id-1 div.sk-label label {font-family: monospace;font-weight: bold;display: inline-block;line-height: 1.2em;}#sk-container-id-1 div.sk-label-container {text-align: center;}#sk-container-id-1 div.sk-container {/* jupyter's `normalize.less` sets `[hidden] { display: none; }` but bootstrap.min.css set `[hidden] { display: none !important; }` so we also need the `!important` here to be able to override the default hidden behavior on the sphinx rendered scikit-learn.org. See: https://github.com/scikit-learn/scikit-learn/issues/21755 */display: inline-block !important;position: relative;}#sk-container-id-1 div.sk-text-repr-fallback {display: none;}</style><div id=\"sk-container-id-1\" class=\"sk-top-container\"><div class=\"sk-text-repr-fallback\"><pre>Pipeline(steps=[(&#x27;cleaner&#x27;, &lt;__main__.predictors object at 0x000001614C7BC940&gt;),\n",
              "                (&#x27;vectorizer&#x27;,\n",
              "                 CountVectorizer(tokenizer=&lt;function spacy_tokenizer at 0x0000016173919CA0&gt;)),\n",
              "                (&#x27;classifier&#x27;,\n",
              "                 LinearSVC(class_weight={&#x27;not sexist&#x27;: 0.2, &#x27;sexist&#x27;: 1},\n",
              "                           max_iter=10000))])</pre><b>In a Jupyter environment, please rerun this cell to show the HTML representation or trust the notebook. <br />On GitHub, the HTML representation is unable to render, please try loading this page with nbviewer.org.</b></div><div class=\"sk-container\" hidden><div class=\"sk-item sk-dashed-wrapped\"><div class=\"sk-label-container\"><div class=\"sk-label sk-toggleable\"><input class=\"sk-toggleable__control sk-hidden--visually\" id=\"sk-estimator-id-1\" type=\"checkbox\" ><label for=\"sk-estimator-id-1\" class=\"sk-toggleable__label sk-toggleable__label-arrow\">Pipeline</label><div class=\"sk-toggleable__content\"><pre>Pipeline(steps=[(&#x27;cleaner&#x27;, &lt;__main__.predictors object at 0x000001614C7BC940&gt;),\n",
              "                (&#x27;vectorizer&#x27;,\n",
              "                 CountVectorizer(tokenizer=&lt;function spacy_tokenizer at 0x0000016173919CA0&gt;)),\n",
              "                (&#x27;classifier&#x27;,\n",
              "                 LinearSVC(class_weight={&#x27;not sexist&#x27;: 0.2, &#x27;sexist&#x27;: 1},\n",
              "                           max_iter=10000))])</pre></div></div></div><div class=\"sk-serial\"><div class=\"sk-item\"><div class=\"sk-estimator sk-toggleable\"><input class=\"sk-toggleable__control sk-hidden--visually\" id=\"sk-estimator-id-2\" type=\"checkbox\" ><label for=\"sk-estimator-id-2\" class=\"sk-toggleable__label sk-toggleable__label-arrow\">predictors</label><div class=\"sk-toggleable__content\"><pre>&lt;__main__.predictors object at 0x000001614C7BC940&gt;</pre></div></div></div><div class=\"sk-item\"><div class=\"sk-estimator sk-toggleable\"><input class=\"sk-toggleable__control sk-hidden--visually\" id=\"sk-estimator-id-3\" type=\"checkbox\" ><label for=\"sk-estimator-id-3\" class=\"sk-toggleable__label sk-toggleable__label-arrow\">CountVectorizer</label><div class=\"sk-toggleable__content\"><pre>CountVectorizer(tokenizer=&lt;function spacy_tokenizer at 0x0000016173919CA0&gt;)</pre></div></div></div><div class=\"sk-item\"><div class=\"sk-estimator sk-toggleable\"><input class=\"sk-toggleable__control sk-hidden--visually\" id=\"sk-estimator-id-4\" type=\"checkbox\" ><label for=\"sk-estimator-id-4\" class=\"sk-toggleable__label sk-toggleable__label-arrow\">LinearSVC</label><div class=\"sk-toggleable__content\"><pre>LinearSVC(class_weight={&#x27;not sexist&#x27;: 0.2, &#x27;sexist&#x27;: 1}, max_iter=10000)</pre></div></div></div></div></div></div></div>"
            ],
            "text/plain": [
              "Pipeline(steps=[('cleaner', <__main__.predictors object at 0x000001614C7BC940>),\n",
              "                ('vectorizer',\n",
              "                 CountVectorizer(tokenizer=<function spacy_tokenizer at 0x0000016173919CA0>)),\n",
              "                ('classifier',\n",
              "                 LinearSVC(class_weight={'not sexist': 0.2, 'sexist': 1},\n",
              "                           max_iter=10000))])"
            ]
          },
          "execution_count": 19,
          "metadata": {},
          "output_type": "execute_result"
        }
      ],
      "source": [
        "from sklearn.model_selection import KFold\n",
        "from sklearn.preprocessing import MultiLabelBinarizer\n",
        "from sklearn.pipeline import Pipeline\n",
        "from sklearn.feature_extraction.text import CountVectorizer\n",
        "from sklearn.multiclass import OneVsRestClassifier\n",
        "from sklearn.svm import LinearSVC\n",
        "from sklearn.utils import class_weight\n",
        "import sklearn.metrics\n",
        "from sklearn.metrics import precision_score, recall_score, f1_score\n",
        "from sklearn.model_selection import cross_val_score\n",
        "from sklearn.metrics import make_scorer, precision_score\n",
        "from sklearn.neighbors import KNeighborsClassifier\n",
        "\n",
        "\n",
        "classifier = svm.LinearSVC(max_iter = 10000, class_weight= {\"not sexist\": 0.2, \"sexist\": 1})\n",
        "# Multi-layer Perceptron classifier\n",
        "#classifier = neural_network.MLPClassifier(hidden_layer_sizes=(512,),verbose=True,max_iter=10)\n",
        "# Random Foreset\n",
        "#classifier = ensemble.RandomForestClassifier(class_weight='balanced')\n",
        "\n",
        "# Create the pipeline\n",
        "\n",
        "pipe = Pipeline([(\"cleaner\", predictors()),\n",
        "('vectorizer', vector),\n",
        "('classifier', classifier)])\n",
        "\n",
        "pipe.fit(x_train, y_train)\n"
      ]
    },
    {
      "cell_type": "code",
      "execution_count": 20,
      "metadata": {},
      "outputs": [
        {
          "name": "stdout",
          "output_type": "stream",
          "text": [
            "Validation Accuracy: 0.7830\n",
            "Validation Precision: 0.7085\n",
            "Validation Recall: 0.7218\n",
            "Validation F1 Score: 0.7144\n"
          ]
        },
        {
          "name": "stderr",
          "output_type": "stream",
          "text": [
            "d:\\Anaconda\\lib\\site-packages\\sklearn\\metrics\\_classification.py:1396: UserWarning: Note that pos_label (set to 'sexist') is ignored when average != 'binary' (got 'macro'). You may use labels=[pos_label] to specify a single positive class.\n",
            "  warnings.warn(\n",
            "d:\\Anaconda\\lib\\site-packages\\sklearn\\metrics\\_classification.py:1396: UserWarning: Note that pos_label (set to 'sexist') is ignored when average != 'binary' (got 'macro'). You may use labels=[pos_label] to specify a single positive class.\n",
            "  warnings.warn(\n",
            "d:\\Anaconda\\lib\\site-packages\\sklearn\\metrics\\_classification.py:1396: UserWarning: Note that pos_label (set to 'sexist') is ignored when average != 'binary' (got 'macro'). You may use labels=[pos_label] to specify a single positive class.\n",
            "  warnings.warn(\n"
          ]
        }
      ],
      "source": [
        "y_pred = pipe.predict(x_val)\n",
        "\n",
        "# Calcolo delle metriche di valutazione sul set di test\n",
        "val_accuracy = accuracy_score(y_val, y_pred)\n",
        "val_precision = precision_score(y_val, y_pred, average=\"macro\", pos_label=\"sexist\")\n",
        "val_recall = recall_score(y_val, y_pred, average=\"macro\", pos_label=\"sexist\")\n",
        "val_f1 = f1_score(y_val, y_pred, average=\"macro\", pos_label=\"sexist\")\n",
        "\n",
        "# Print the evaluation metrics for the validation data\n",
        "print(\"Validation Accuracy: {:.4f}\".format(val_accuracy))\n",
        "print(\"Validation Precision: {:.4f}\".format(val_precision))\n",
        "print(\"Validation Recall: {:.4f}\".format(val_recall))\n",
        "print(\"Validation F1 Score: {:.4f}\".format(val_f1))\n"
      ]
    },
    {
      "cell_type": "code",
      "execution_count": 7,
      "metadata": {},
      "outputs": [
        {
          "name": "stdout",
          "output_type": "stream",
          "text": [
            "Number of CPUs in the system: 8\n"
          ]
        }
      ],
      "source": [
        "import os\n",
        "  \n",
        "n_cpu = os.cpu_count()\n",
        "print(\"Number of CPUs in the system:\", n_cpu)"
      ]
    },
    {
      "cell_type": "code",
      "execution_count": 21,
      "metadata": {},
      "outputs": [
        {
          "name": "stderr",
          "output_type": "stream",
          "text": [
            "d:\\Anaconda\\lib\\site-packages\\sklearn\\feature_extraction\\text.py:528: UserWarning: The parameter 'token_pattern' will not be used since 'tokenizer' is not None'\n",
            "  warnings.warn(\n"
          ]
        },
        {
          "name": "stdout",
          "output_type": "stream",
          "text": [
            "Migliori iperparametri: {'classifier__C': 0.4, 'classifier__class_weight': 'balanced', 'vectorizer__ngram_range': (1, 2)}\n"
          ]
        }
      ],
      "source": [
        "params = {'vectorizer__ngram_range': [(1,1),(1,2)],\n",
        "          'classifier__C': [0.4,0.6],\n",
        "          'classifier__class_weight': [{\"not sexist\": 0.7, \"sexist\": 1}, 'balanced', None]}\n",
        "\n",
        "pipe_optimized = GridSearchCV(pipe,param_grid=params,cv=10,scoring=make_scorer(f1_score, average=\"macro\"),n_jobs=n_cpu-1,refit=True)\n",
        "pipe_optimized.fit(x_train, y_train)\n",
        "print(\"Migliori iperparametri:\",pipe_optimized.best_params_)"
      ]
    },
    {
      "cell_type": "code",
      "execution_count": 22,
      "metadata": {},
      "outputs": [
        {
          "name": "stderr",
          "output_type": "stream",
          "text": [
            "d:\\Anaconda\\lib\\site-packages\\sklearn\\feature_extraction\\text.py:528: UserWarning: The parameter 'token_pattern' will not be used since 'tokenizer' is not None'\n",
            "  warnings.warn(\n"
          ]
        },
        {
          "data": {
            "text/html": [
              "<style>#sk-container-id-2 {color: black;background-color: white;}#sk-container-id-2 pre{padding: 0;}#sk-container-id-2 div.sk-toggleable {background-color: white;}#sk-container-id-2 label.sk-toggleable__label {cursor: pointer;display: block;width: 100%;margin-bottom: 0;padding: 0.3em;box-sizing: border-box;text-align: center;}#sk-container-id-2 label.sk-toggleable__label-arrow:before {content: \"▸\";float: left;margin-right: 0.25em;color: #696969;}#sk-container-id-2 label.sk-toggleable__label-arrow:hover:before {color: black;}#sk-container-id-2 div.sk-estimator:hover label.sk-toggleable__label-arrow:before {color: black;}#sk-container-id-2 div.sk-toggleable__content {max-height: 0;max-width: 0;overflow: hidden;text-align: left;background-color: #f0f8ff;}#sk-container-id-2 div.sk-toggleable__content pre {margin: 0.2em;color: black;border-radius: 0.25em;background-color: #f0f8ff;}#sk-container-id-2 input.sk-toggleable__control:checked~div.sk-toggleable__content {max-height: 200px;max-width: 100%;overflow: auto;}#sk-container-id-2 input.sk-toggleable__control:checked~label.sk-toggleable__label-arrow:before {content: \"▾\";}#sk-container-id-2 div.sk-estimator input.sk-toggleable__control:checked~label.sk-toggleable__label {background-color: #d4ebff;}#sk-container-id-2 div.sk-label input.sk-toggleable__control:checked~label.sk-toggleable__label {background-color: #d4ebff;}#sk-container-id-2 input.sk-hidden--visually {border: 0;clip: rect(1px 1px 1px 1px);clip: rect(1px, 1px, 1px, 1px);height: 1px;margin: -1px;overflow: hidden;padding: 0;position: absolute;width: 1px;}#sk-container-id-2 div.sk-estimator {font-family: monospace;background-color: #f0f8ff;border: 1px dotted black;border-radius: 0.25em;box-sizing: border-box;margin-bottom: 0.5em;}#sk-container-id-2 div.sk-estimator:hover {background-color: #d4ebff;}#sk-container-id-2 div.sk-parallel-item::after {content: \"\";width: 100%;border-bottom: 1px solid gray;flex-grow: 1;}#sk-container-id-2 div.sk-label:hover label.sk-toggleable__label {background-color: #d4ebff;}#sk-container-id-2 div.sk-serial::before {content: \"\";position: absolute;border-left: 1px solid gray;box-sizing: border-box;top: 0;bottom: 0;left: 50%;z-index: 0;}#sk-container-id-2 div.sk-serial {display: flex;flex-direction: column;align-items: center;background-color: white;padding-right: 0.2em;padding-left: 0.2em;position: relative;}#sk-container-id-2 div.sk-item {position: relative;z-index: 1;}#sk-container-id-2 div.sk-parallel {display: flex;align-items: stretch;justify-content: center;background-color: white;position: relative;}#sk-container-id-2 div.sk-item::before, #sk-container-id-2 div.sk-parallel-item::before {content: \"\";position: absolute;border-left: 1px solid gray;box-sizing: border-box;top: 0;bottom: 0;left: 50%;z-index: -1;}#sk-container-id-2 div.sk-parallel-item {display: flex;flex-direction: column;z-index: 1;position: relative;background-color: white;}#sk-container-id-2 div.sk-parallel-item:first-child::after {align-self: flex-end;width: 50%;}#sk-container-id-2 div.sk-parallel-item:last-child::after {align-self: flex-start;width: 50%;}#sk-container-id-2 div.sk-parallel-item:only-child::after {width: 0;}#sk-container-id-2 div.sk-dashed-wrapped {border: 1px dashed gray;margin: 0 0.4em 0.5em 0.4em;box-sizing: border-box;padding-bottom: 0.4em;background-color: white;}#sk-container-id-2 div.sk-label label {font-family: monospace;font-weight: bold;display: inline-block;line-height: 1.2em;}#sk-container-id-2 div.sk-label-container {text-align: center;}#sk-container-id-2 div.sk-container {/* jupyter's `normalize.less` sets `[hidden] { display: none; }` but bootstrap.min.css set `[hidden] { display: none !important; }` so we also need the `!important` here to be able to override the default hidden behavior on the sphinx rendered scikit-learn.org. See: https://github.com/scikit-learn/scikit-learn/issues/21755 */display: inline-block !important;position: relative;}#sk-container-id-2 div.sk-text-repr-fallback {display: none;}</style><div id=\"sk-container-id-2\" class=\"sk-top-container\"><div class=\"sk-text-repr-fallback\"><pre>Pipeline(steps=[(&#x27;cleaner&#x27;, &lt;__main__.predictors object at 0x000001614C7BC940&gt;),\n",
              "                (&#x27;vectorizer&#x27;,\n",
              "                 CountVectorizer(ngram_range=(1, 2),\n",
              "                                 tokenizer=&lt;function spacy_tokenizer at 0x0000016173919CA0&gt;)),\n",
              "                (&#x27;classifier&#x27;,\n",
              "                 LinearSVC(C=0.4, class_weight=&#x27;balanced&#x27;, max_iter=10000))])</pre><b>In a Jupyter environment, please rerun this cell to show the HTML representation or trust the notebook. <br />On GitHub, the HTML representation is unable to render, please try loading this page with nbviewer.org.</b></div><div class=\"sk-container\" hidden><div class=\"sk-item sk-dashed-wrapped\"><div class=\"sk-label-container\"><div class=\"sk-label sk-toggleable\"><input class=\"sk-toggleable__control sk-hidden--visually\" id=\"sk-estimator-id-5\" type=\"checkbox\" ><label for=\"sk-estimator-id-5\" class=\"sk-toggleable__label sk-toggleable__label-arrow\">Pipeline</label><div class=\"sk-toggleable__content\"><pre>Pipeline(steps=[(&#x27;cleaner&#x27;, &lt;__main__.predictors object at 0x000001614C7BC940&gt;),\n",
              "                (&#x27;vectorizer&#x27;,\n",
              "                 CountVectorizer(ngram_range=(1, 2),\n",
              "                                 tokenizer=&lt;function spacy_tokenizer at 0x0000016173919CA0&gt;)),\n",
              "                (&#x27;classifier&#x27;,\n",
              "                 LinearSVC(C=0.4, class_weight=&#x27;balanced&#x27;, max_iter=10000))])</pre></div></div></div><div class=\"sk-serial\"><div class=\"sk-item\"><div class=\"sk-estimator sk-toggleable\"><input class=\"sk-toggleable__control sk-hidden--visually\" id=\"sk-estimator-id-6\" type=\"checkbox\" ><label for=\"sk-estimator-id-6\" class=\"sk-toggleable__label sk-toggleable__label-arrow\">predictors</label><div class=\"sk-toggleable__content\"><pre>&lt;__main__.predictors object at 0x000001614C7BC940&gt;</pre></div></div></div><div class=\"sk-item\"><div class=\"sk-estimator sk-toggleable\"><input class=\"sk-toggleable__control sk-hidden--visually\" id=\"sk-estimator-id-7\" type=\"checkbox\" ><label for=\"sk-estimator-id-7\" class=\"sk-toggleable__label sk-toggleable__label-arrow\">CountVectorizer</label><div class=\"sk-toggleable__content\"><pre>CountVectorizer(ngram_range=(1, 2),\n",
              "                tokenizer=&lt;function spacy_tokenizer at 0x0000016173919CA0&gt;)</pre></div></div></div><div class=\"sk-item\"><div class=\"sk-estimator sk-toggleable\"><input class=\"sk-toggleable__control sk-hidden--visually\" id=\"sk-estimator-id-8\" type=\"checkbox\" ><label for=\"sk-estimator-id-8\" class=\"sk-toggleable__label sk-toggleable__label-arrow\">LinearSVC</label><div class=\"sk-toggleable__content\"><pre>LinearSVC(C=0.4, class_weight=&#x27;balanced&#x27;, max_iter=10000)</pre></div></div></div></div></div></div></div>"
            ],
            "text/plain": [
              "Pipeline(steps=[('cleaner', <__main__.predictors object at 0x000001614C7BC940>),\n",
              "                ('vectorizer',\n",
              "                 CountVectorizer(ngram_range=(1, 2),\n",
              "                                 tokenizer=<function spacy_tokenizer at 0x0000016173919CA0>)),\n",
              "                ('classifier',\n",
              "                 LinearSVC(C=0.4, class_weight='balanced', max_iter=10000))])"
            ]
          },
          "execution_count": 22,
          "metadata": {},
          "output_type": "execute_result"
        }
      ],
      "source": [
        "best_params = pipe_optimized.best_params_\n",
        "pipe.set_params(**best_params)\n",
        "pipe.fit(x_train, y_train)"
      ]
    },
    {
      "cell_type": "code",
      "execution_count": 23,
      "metadata": {},
      "outputs": [
        {
          "name": "stdout",
          "output_type": "stream",
          "text": [
            "Validation Accuracy: 0.8410\n",
            "Validation Precision: 0.7993\n",
            "Validation Recall: 0.7384\n",
            "Validation F1 Score: 0.7606\n"
          ]
        },
        {
          "name": "stderr",
          "output_type": "stream",
          "text": [
            "d:\\Anaconda\\lib\\site-packages\\sklearn\\metrics\\_classification.py:1396: UserWarning: Note that pos_label (set to 'sexist') is ignored when average != 'binary' (got 'macro'). You may use labels=[pos_label] to specify a single positive class.\n",
            "  warnings.warn(\n",
            "d:\\Anaconda\\lib\\site-packages\\sklearn\\metrics\\_classification.py:1396: UserWarning: Note that pos_label (set to 'sexist') is ignored when average != 'binary' (got 'macro'). You may use labels=[pos_label] to specify a single positive class.\n",
            "  warnings.warn(\n",
            "d:\\Anaconda\\lib\\site-packages\\sklearn\\metrics\\_classification.py:1396: UserWarning: Note that pos_label (set to 'sexist') is ignored when average != 'binary' (got 'macro'). You may use labels=[pos_label] to specify a single positive class.\n",
            "  warnings.warn(\n"
          ]
        }
      ],
      "source": [
        "y_pred = pipe_optimized.predict(x_test)\n",
        "\n",
        "# Calcolo delle metriche di valutazione sul set di test\n",
        "\n",
        "val_accuracy = accuracy_score(y_test, y_pred)\n",
        "val_precision = precision_score(y_test, y_pred, average=\"macro\", pos_label=\"sexist\")\n",
        "val_recall = recall_score(y_test, y_pred, average=\"macro\", pos_label=\"sexist\")\n",
        "val_f1 = f1_score(y_test, y_pred, average=\"macro\", pos_label=\"sexist\")\n",
        "\n",
        "# Print the evaluation metrics for the validation data\n",
        "\n",
        "print(\"Validation Accuracy: {:.4f}\".format(val_accuracy))\n",
        "print(\"Validation Precision: {:.4f}\".format(val_precision))\n",
        "print(\"Validation Recall: {:.4f}\".format(val_recall))\n",
        "print(\"Validation F1 Score: {:.4f}\".format(val_f1))"
      ]
    },
    {
      "attachments": {},
      "cell_type": "markdown",
      "metadata": {},
      "source": [
        "# **Task B**"
      ]
    },
    {
      "cell_type": "code",
      "execution_count": null,
      "metadata": {},
      "outputs": [
        {
          "name": "stdout",
          "output_type": "stream",
          "text": [
            "2. derogation                               2271\n",
            "3. animosity                                1665\n",
            "4. prejudiced discussions                    475\n",
            "1. threats, plans to harm and incitement     443\n",
            "Name: label_category, dtype: int64\n"
          ]
        }
      ],
      "source": [
        "df1 = read_csv('../Dataset/final_dataset_category.csv')\n",
        "X1 = df1['text']\n",
        "y1 = df1['label_category']\n",
        "df1.set_index('ID')\n",
        "print(y1.value_counts())\n"
      ]
    },
    {
      "cell_type": "code",
      "execution_count": null,
      "metadata": {},
      "outputs": [],
      "source": [
        "from transformers import BertTokenizer\n",
        "\n",
        "tokenizer = BertTokenizer.from_pretrained('bert-large-uncased')\n",
        "\n",
        "vector1 = CountVectorizer(tokenizer = tokenizer.tokenize, ngram_range=(1,2))"
      ]
    },
    {
      "cell_type": "code",
      "execution_count": null,
      "metadata": {},
      "outputs": [],
      "source": [
        "from sklearn.model_selection import KFold\n",
        "from sklearn.preprocessing import MultiLabelBinarizer\n",
        "from sklearn.pipeline import Pipeline\n",
        "from sklearn.feature_extraction.text import CountVectorizer\n",
        "from sklearn.multiclass import OneVsRestClassifier\n",
        "from sklearn.svm import LinearSVC\n",
        "from sklearn.utils import class_weight\n",
        "import sklearn.metrics\n",
        "from sklearn.metrics import precision_score, recall_score, f1_score\n",
        "\n",
        "\n",
        "#Linear Support Vector Machine classifier\n",
        "accuracy_scores = []\n",
        "precision_scores = []\n",
        "recall_scores = []\n",
        "f1_scores = []\n",
        "accuracy_label = []\n",
        "precision_label = []\n",
        "recall_label = []\n",
        "f1_label = []\n",
        "\n",
        "class_labels = np.unique(y1)\n",
        "classifier = svm.LinearSVC(max_iter = 10000)\n",
        "# Multi-layer Perceptron classifier\n",
        "#classifier = neural_network.MLPClassifier(hidden_layer_sizes=(512,),verbose=True,max_iter=10)\n",
        "# Random Foreset\n",
        "#classifier = ensemble.RandomForestClassifier(class_weight='balanced')\n",
        "\n",
        "# Create the pipeline\n",
        "\n",
        "pipe1 = Pipeline([(\"cleaner\", predictors()),\n",
        "('vectorizer', vector1),\n",
        "('classifier', classifier)])\n",
        "\n",
        "kf = KFold(n_splits=10, shuffle=True, random_state=42)\n",
        "\n",
        "for train_index, test_index in kf.split(X1):\n",
        "    # Divisione dei dati in fold di addestramento e di test\n",
        "    X1_train, X1_test = X1[train_index], X1[test_index]\n",
        "    y1_train, y1_test = y1[train_index], y1[test_index]\n",
        "    # Addestramento del modello\n",
        "    pipe1.fit(X1_train, y1_train)\n",
        "\n",
        "    # Valutazione delle performance del modello sul test set\n",
        "    predicted = pipe1.predict(X1_test)\n",
        "\n",
        "    # Calcolo delle metriche di valutazione per il fold corrente\n",
        "    accuracy = accuracy_score(y1_test, predicted)\n",
        "    precision = precision_score(y1_test, predicted, average='weighted')\n",
        "    recall = recall_score(y1_test, predicted, average='weighted')\n",
        "    f1 = f1_score(y1_test, predicted, average='weighted')\n",
        "\n",
        "    # Aggiunta delle metriche del fold corrente alle liste\n",
        "    accuracy_scores.append(accuracy)\n",
        "    precision_scores.append(precision)\n",
        "    recall_scores.append(recall)\n",
        "    f1_scores.append(f1)\n",
        "\n",
        "    # Calcolo delle metriche per ogni singola classe\n",
        "    precision_label = precision_score(y1_test, predicted, average=None, labels=class_labels)\n",
        "    recall_label = recall_score(y1_test, predicted, average=None, labels=class_labels)\n",
        "    f1_label = f1_score(y1_test, predicted, average=None, labels=class_labels)\n"
      ]
    },
    {
      "cell_type": "code",
      "execution_count": null,
      "metadata": {},
      "outputs": [
        {
          "name": "stdout",
          "output_type": "stream",
          "text": [
            "---------------------------------\n",
            "Metriche finali:\n",
            "Accuratezza media: 0.5373\n",
            "Precisione media: 0.5349\n",
            "Richiamo medio: 0.5373\n",
            "F1-score medio: 0.5296\n",
            "---------------------------------\n",
            "\n",
            "---------------------------------\n",
            "Metriche per ogni singola classe:\n",
            "Classe '1. threats, plans to harm and incitement':\n",
            "Precisione: 0.5714\n",
            "Richiamo: 0.5333\n",
            "F1-score: 0.5517\n",
            "\n",
            "Classe '2. derogation':\n",
            "Precisione: 0.5783\n",
            "Richiamo: 0.6761\n",
            "F1-score: 0.6234\n",
            "\n",
            "Classe '3. animosity':\n",
            "Precisione: 0.5183\n",
            "Richiamo: 0.5000\n",
            "F1-score: 0.5090\n",
            "\n",
            "Classe '4. prejudiced discussions':\n",
            "Precisione: 0.6000\n",
            "Richiamo: 0.3158\n",
            "F1-score: 0.4138\n",
            "\n",
            "---------------------------------\n"
          ]
        }
      ],
      "source": [
        "mean_accuracy = np.mean(accuracy_scores)\n",
        "mean_precision = np.mean(precision_scores)\n",
        "mean_recall = np.mean(recall_scores)\n",
        "mean_f1 = np.mean(f1_scores)\n",
        "\n",
        "# Stampa delle metriche\n",
        "print(\"---------------------------------\")\n",
        "print(\"Metriche finali:\")\n",
        "print(f\"Accuratezza media: {mean_accuracy:.4f}\")\n",
        "print(f\"Precisione media: {mean_precision:.4f}\")\n",
        "print(f\"Richiamo medio: {mean_recall:.4f}\")\n",
        "print(f\"F1-score medio: {mean_f1:.4f}\")\n",
        "print(\"---------------------------------\\n\")\n",
        "\n",
        "# Stampa delle metriche per ogni singola classe\n",
        "print(\"---------------------------------\")\n",
        "print(\"Metriche per ogni singola classe:\")\n",
        "for i, label in enumerate(class_labels):\n",
        "    print(f\"Classe '{label}':\")\n",
        "    print(f\"Precisione: {precision_label[i]:.4f}\")\n",
        "    print(f\"Richiamo: {recall_label[i]:.4f}\")\n",
        "    print(f\"F1-score: {f1_label[i]:.4f}\")\n",
        "    print()\n",
        "print(\"---------------------------------\")"
      ]
    },
    {
      "cell_type": "code",
      "execution_count": null,
      "metadata": {},
      "outputs": [
        {
          "name": "stdout",
          "output_type": "stream",
          "text": [
            "Classe: ['1. threats, plans to harm and incitement']\n"
          ]
        }
      ],
      "source": [
        "single_instance = [\"I can smell her dying from here.\"]\n",
        "prediction = pipe.predict(single_instance)\n",
        "\n",
        "if (prediction == 'sexist'):\n",
        "    prediction = pipe1.predict(single_instance)\n",
        "\n",
        "print(f\"Classe: {prediction}\")"
      ]
    }
  ],
  "metadata": {
    "colab": {
      "include_colab_link": true,
      "provenance": []
    },
    "kernelspec": {
      "display_name": "base",
      "language": "python",
      "name": "python3"
    },
    "language_info": {
      "codemirror_mode": {
        "name": "ipython",
        "version": 3
      },
      "file_extension": ".py",
      "mimetype": "text/x-python",
      "name": "python",
      "nbconvert_exporter": "python",
      "pygments_lexer": "ipython3",
      "version": "3.9.13"
    },
    "orig_nbformat": 4
  },
  "nbformat": 4,
  "nbformat_minor": 0
}
