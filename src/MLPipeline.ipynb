{
  "cells": [
    {
      "cell_type": "code",
      "execution_count": 1,
      "metadata": {
        "id": "dxoEEdu-BCYs"
      },
      "outputs": [],
      "source": [
        "#%pip install -U spaCy\n",
        "#%pip install keras\n",
        "#%python -m spacy download en_core_web_sm\n",
        "#%pip install -U jax jaxlib\n",
        "#%pip install clean-text\n",
        "#%pip install --upgrade ipykernel\n",
        "#da eseguire al primo utilizzo"
      ]
    },
    {
      "cell_type": "code",
      "execution_count": 27,
      "metadata": {
        "id": "Wel4vXK2BCYu"
      },
      "outputs": [
        {
          "name": "stdout",
          "output_type": "stream",
          "text": [
            "Number of CPUs in the system: 8\n"
          ]
        }
      ],
      "source": [
        "import string\n",
        "import spacy\n",
        "import numpy as np\n",
        "import pandas as pd\n",
        "from sklearn import svm\n",
        "from sklearn.feature_extraction.text import CountVectorizer\n",
        "from sklearn.base import TransformerMixin\n",
        "from sklearn.pipeline import Pipeline\n",
        "from spacy.lang.en import English\n",
        "from sklearn.pipeline import Pipeline\n",
        "from sklearn.model_selection import GridSearchCV\n",
        "from sklearn.metrics import accuracy_score, precision_score, recall_score, f1_score, make_scorer\n",
        "from pandas import read_csv\n",
        "import nltk\n",
        "import os\n",
        "from nltk.stem import WordNetLemmatizer\n",
        "from nltk.tokenize import TreebankWordTokenizer\n",
        "from sklearn.svm import LinearSVC\n",
        "from sklearn.utils import compute_class_weight\n",
        "\n",
        "\n",
        "\n",
        "\n",
        "  \n",
        "n_cpu = os.cpu_count()\n",
        "print(\"Number of CPUs in the system:\", n_cpu)\n",
        "\n",
        "#init spaCy\n",
        "punctuations = string.punctuation\n",
        "\n",
        "# Custom transformer using spaCy\n",
        "class predictors(TransformerMixin):\n",
        "    def transform(self, X, **transform_params):\n",
        "        # Cleaning Text\n",
        "        return [clean_text(text) for text in X]\n",
        "\n",
        "    def fit(self, X, y=None, **fit_params):\n",
        "        return self\n",
        "\n",
        "    def get_params(self, deep=True):\n",
        "        return {}\n",
        "\n",
        "# Basic function to clean the text\n",
        "def clean_text(text):\n",
        "    # Removing spaces and converting text into lowercase\n",
        "    translator = str.maketrans(\"\", \"\", string.punctuation)\n",
        "    text_without_punctuation = text.translate(translator)\n",
        "    return text_without_punctuation.lower()\n",
        "    #return text.strip().lower()\n",
        "\n",
        "def treebankWordTokenizer(sentence):\n",
        "\n",
        "    tokenizer = TreebankWordTokenizer()\n",
        "    lemmatizer = WordNetLemmatizer()\n",
        "\n",
        "    # Tokenize the sentence\n",
        "    tokens = tokenizer.tokenize(sentence)\n",
        "\n",
        "    # Lemmatize each token\n",
        "    lemmatized_tokens = [lemmatizer.lemmatize(token) for token in tokens]\n",
        "\n",
        "    return lemmatized_tokens\n",
        "\n"
      ]
    },
    {
      "cell_type": "code",
      "execution_count": 28,
      "metadata": {
        "colab": {
          "base_uri": "https://localhost:8080/"
        },
        "id": "kmyyylg4Cg3U",
        "outputId": "ceed22cd-c394-41cf-b576-fd892f5ed982"
      },
      "outputs": [
        {
          "name": "stderr",
          "output_type": "stream",
          "text": [
            "[nltk_data] Downloading package wordnet to\n",
            "[nltk_data]     C:\\Users\\perna\\AppData\\Roaming\\nltk_data...\n",
            "[nltk_data]   Package wordnet is already up-to-date!\n",
            "[nltk_data] Downloading package omw-1.4 to\n",
            "[nltk_data]     C:\\Users\\perna\\AppData\\Roaming\\nltk_data...\n",
            "[nltk_data]   Package omw-1.4 is already up-to-date!\n"
          ]
        },
        {
          "data": {
            "text/plain": [
              "True"
            ]
          },
          "execution_count": 28,
          "metadata": {},
          "output_type": "execute_result"
        }
      ],
      "source": [
        "nltk.download('wordnet')\n",
        "nltk.download('omw-1.4')"
      ]
    },
    {
      "cell_type": "code",
      "execution_count": 29,
      "metadata": {},
      "outputs": [],
      "source": [
        "vector = CountVectorizer(tokenizer = treebankWordTokenizer, ngram_range=(1,2))"
      ]
    },
    {
      "cell_type": "code",
      "execution_count": 48,
      "metadata": {},
      "outputs": [],
      "source": [
        "def evaluation_metrics(x, y, pipe):\n",
        "\n",
        "    y_pred = pipe.predict(x)\n",
        "\n",
        "    accuracy = accuracy_score(y, y_pred)\n",
        "    precision = precision_score(y, y_pred, average=\"macro\")\n",
        "    recall = recall_score(y, y_pred, average=\"macro\")\n",
        "    f1 = f1_score(y, y_pred, average=\"macro\")\n",
        "\n",
        "    print(\"Accuracy: {:.4f}\".format(accuracy))\n",
        "    print(\"Precision: {:.4f}\".format(precision))\n",
        "    print(\"Recall: {:.4f}\".format(recall))\n",
        "    print(\"F1 Score: {:.4f}\".format(f1))"
      ]
    },
    {
      "attachments": {},
      "cell_type": "markdown",
      "metadata": {},
      "source": [
        "# Task A"
      ]
    },
    {
      "cell_type": "code",
      "execution_count": 31,
      "metadata": {
        "colab": {
          "base_uri": "https://localhost:8080/",
          "height": 455
        },
        "id": "SvR_yoZ3BCYv",
        "outputId": "7acb3bfe-bf2d-4d39-a9b1-0127641e04b4"
      },
      "outputs": [
        {
          "name": "stdout",
          "output_type": "stream",
          "text": [
            "TRAIN: \n",
            " not sexist    10602\n",
            "sexist         3398\n",
            "Name: label_sexist, dtype: int64\n",
            "\n",
            "VALIDATION: \n",
            " not sexist    1514\n",
            "sexist         486\n",
            "Name: label_sexist, dtype: int64\n",
            "\n",
            "TEST: \n",
            " not sexist    3030\n",
            "sexist         970\n",
            "Name: label_sexist, dtype: int64\n",
            "\n"
          ]
        }
      ],
      "source": [
        "dft = read_csv('../Dataset/Processed datasets/train_sexist.csv')\n",
        "dfv = read_csv('../Dataset/Processed datasets/dev_sexist.csv')\n",
        "dfs = read_csv('../Dataset/Processed datasets/test_sexist.csv')\n",
        "\n",
        "x_train = dft['text']\n",
        "y_train = dft['label_sexist']\n",
        "x_val = dfv['text']\n",
        "y_val = dfv['label_sexist']\n",
        "x_test = dfs['text']\n",
        "y_test= dfs['label_sexist']\n",
        "dft.set_index('ID')\n",
        "dfv.set_index('ID')\n",
        "dfs.set_index('ID')\n",
        "print(\"TRAIN: \\n\", y_train.value_counts(), end=\"\\n\\n\")\n",
        "print(\"VALIDATION: \\n\", y_val.value_counts(), end=\"\\n\\n\")\n",
        "print(\"TEST: \\n\", y_test.value_counts(), end=\"\\n\\n\")"
      ]
    },
    {
      "cell_type": "code",
      "execution_count": 64,
      "metadata": {},
      "outputs": [
        {
          "name": "stderr",
          "output_type": "stream",
          "text": [
            "d:\\Anaconda\\lib\\site-packages\\sklearn\\feature_extraction\\text.py:528: UserWarning: The parameter 'token_pattern' will not be used since 'tokenizer' is not None'\n",
            "  warnings.warn(\n"
          ]
        },
        {
          "data": {
            "text/html": [
              "<style>#sk-container-id-15 {color: black;background-color: white;}#sk-container-id-15 pre{padding: 0;}#sk-container-id-15 div.sk-toggleable {background-color: white;}#sk-container-id-15 label.sk-toggleable__label {cursor: pointer;display: block;width: 100%;margin-bottom: 0;padding: 0.3em;box-sizing: border-box;text-align: center;}#sk-container-id-15 label.sk-toggleable__label-arrow:before {content: \"▸\";float: left;margin-right: 0.25em;color: #696969;}#sk-container-id-15 label.sk-toggleable__label-arrow:hover:before {color: black;}#sk-container-id-15 div.sk-estimator:hover label.sk-toggleable__label-arrow:before {color: black;}#sk-container-id-15 div.sk-toggleable__content {max-height: 0;max-width: 0;overflow: hidden;text-align: left;background-color: #f0f8ff;}#sk-container-id-15 div.sk-toggleable__content pre {margin: 0.2em;color: black;border-radius: 0.25em;background-color: #f0f8ff;}#sk-container-id-15 input.sk-toggleable__control:checked~div.sk-toggleable__content {max-height: 200px;max-width: 100%;overflow: auto;}#sk-container-id-15 input.sk-toggleable__control:checked~label.sk-toggleable__label-arrow:before {content: \"▾\";}#sk-container-id-15 div.sk-estimator input.sk-toggleable__control:checked~label.sk-toggleable__label {background-color: #d4ebff;}#sk-container-id-15 div.sk-label input.sk-toggleable__control:checked~label.sk-toggleable__label {background-color: #d4ebff;}#sk-container-id-15 input.sk-hidden--visually {border: 0;clip: rect(1px 1px 1px 1px);clip: rect(1px, 1px, 1px, 1px);height: 1px;margin: -1px;overflow: hidden;padding: 0;position: absolute;width: 1px;}#sk-container-id-15 div.sk-estimator {font-family: monospace;background-color: #f0f8ff;border: 1px dotted black;border-radius: 0.25em;box-sizing: border-box;margin-bottom: 0.5em;}#sk-container-id-15 div.sk-estimator:hover {background-color: #d4ebff;}#sk-container-id-15 div.sk-parallel-item::after {content: \"\";width: 100%;border-bottom: 1px solid gray;flex-grow: 1;}#sk-container-id-15 div.sk-label:hover label.sk-toggleable__label {background-color: #d4ebff;}#sk-container-id-15 div.sk-serial::before {content: \"\";position: absolute;border-left: 1px solid gray;box-sizing: border-box;top: 0;bottom: 0;left: 50%;z-index: 0;}#sk-container-id-15 div.sk-serial {display: flex;flex-direction: column;align-items: center;background-color: white;padding-right: 0.2em;padding-left: 0.2em;position: relative;}#sk-container-id-15 div.sk-item {position: relative;z-index: 1;}#sk-container-id-15 div.sk-parallel {display: flex;align-items: stretch;justify-content: center;background-color: white;position: relative;}#sk-container-id-15 div.sk-item::before, #sk-container-id-15 div.sk-parallel-item::before {content: \"\";position: absolute;border-left: 1px solid gray;box-sizing: border-box;top: 0;bottom: 0;left: 50%;z-index: -1;}#sk-container-id-15 div.sk-parallel-item {display: flex;flex-direction: column;z-index: 1;position: relative;background-color: white;}#sk-container-id-15 div.sk-parallel-item:first-child::after {align-self: flex-end;width: 50%;}#sk-container-id-15 div.sk-parallel-item:last-child::after {align-self: flex-start;width: 50%;}#sk-container-id-15 div.sk-parallel-item:only-child::after {width: 0;}#sk-container-id-15 div.sk-dashed-wrapped {border: 1px dashed gray;margin: 0 0.4em 0.5em 0.4em;box-sizing: border-box;padding-bottom: 0.4em;background-color: white;}#sk-container-id-15 div.sk-label label {font-family: monospace;font-weight: bold;display: inline-block;line-height: 1.2em;}#sk-container-id-15 div.sk-label-container {text-align: center;}#sk-container-id-15 div.sk-container {/* jupyter's `normalize.less` sets `[hidden] { display: none; }` but bootstrap.min.css set `[hidden] { display: none !important; }` so we also need the `!important` here to be able to override the default hidden behavior on the sphinx rendered scikit-learn.org. See: https://github.com/scikit-learn/scikit-learn/issues/21755 */display: inline-block !important;position: relative;}#sk-container-id-15 div.sk-text-repr-fallback {display: none;}</style><div id=\"sk-container-id-15\" class=\"sk-top-container\"><div class=\"sk-text-repr-fallback\"><pre>Pipeline(steps=[(&#x27;cleaner&#x27;, &lt;__main__.predictors object at 0x000001BCAB9D40A0&gt;),\n",
              "                (&#x27;vectorizer&#x27;,\n",
              "                 CountVectorizer(ngram_range=(1, 2),\n",
              "                                 tokenizer=&lt;function treebankWordTokenizer at 0x000001BCE883B160&gt;)),\n",
              "                (&#x27;classifier&#x27;,\n",
              "                 LinearSVC(class_weight={&#x27;not sexist&#x27;: 0.2, &#x27;sexist&#x27;: 1},\n",
              "                           max_iter=10000))])</pre><b>In a Jupyter environment, please rerun this cell to show the HTML representation or trust the notebook. <br />On GitHub, the HTML representation is unable to render, please try loading this page with nbviewer.org.</b></div><div class=\"sk-container\" hidden><div class=\"sk-item sk-dashed-wrapped\"><div class=\"sk-label-container\"><div class=\"sk-label sk-toggleable\"><input class=\"sk-toggleable__control sk-hidden--visually\" id=\"sk-estimator-id-57\" type=\"checkbox\" ><label for=\"sk-estimator-id-57\" class=\"sk-toggleable__label sk-toggleable__label-arrow\">Pipeline</label><div class=\"sk-toggleable__content\"><pre>Pipeline(steps=[(&#x27;cleaner&#x27;, &lt;__main__.predictors object at 0x000001BCAB9D40A0&gt;),\n",
              "                (&#x27;vectorizer&#x27;,\n",
              "                 CountVectorizer(ngram_range=(1, 2),\n",
              "                                 tokenizer=&lt;function treebankWordTokenizer at 0x000001BCE883B160&gt;)),\n",
              "                (&#x27;classifier&#x27;,\n",
              "                 LinearSVC(class_weight={&#x27;not sexist&#x27;: 0.2, &#x27;sexist&#x27;: 1},\n",
              "                           max_iter=10000))])</pre></div></div></div><div class=\"sk-serial\"><div class=\"sk-item\"><div class=\"sk-estimator sk-toggleable\"><input class=\"sk-toggleable__control sk-hidden--visually\" id=\"sk-estimator-id-58\" type=\"checkbox\" ><label for=\"sk-estimator-id-58\" class=\"sk-toggleable__label sk-toggleable__label-arrow\">predictors</label><div class=\"sk-toggleable__content\"><pre>&lt;__main__.predictors object at 0x000001BCAB9D40A0&gt;</pre></div></div></div><div class=\"sk-item\"><div class=\"sk-estimator sk-toggleable\"><input class=\"sk-toggleable__control sk-hidden--visually\" id=\"sk-estimator-id-59\" type=\"checkbox\" ><label for=\"sk-estimator-id-59\" class=\"sk-toggleable__label sk-toggleable__label-arrow\">CountVectorizer</label><div class=\"sk-toggleable__content\"><pre>CountVectorizer(ngram_range=(1, 2),\n",
              "                tokenizer=&lt;function treebankWordTokenizer at 0x000001BCE883B160&gt;)</pre></div></div></div><div class=\"sk-item\"><div class=\"sk-estimator sk-toggleable\"><input class=\"sk-toggleable__control sk-hidden--visually\" id=\"sk-estimator-id-60\" type=\"checkbox\" ><label for=\"sk-estimator-id-60\" class=\"sk-toggleable__label sk-toggleable__label-arrow\">LinearSVC</label><div class=\"sk-toggleable__content\"><pre>LinearSVC(class_weight={&#x27;not sexist&#x27;: 0.2, &#x27;sexist&#x27;: 1}, max_iter=10000)</pre></div></div></div></div></div></div></div>"
            ],
            "text/plain": [
              "Pipeline(steps=[('cleaner', <__main__.predictors object at 0x000001BCAB9D40A0>),\n",
              "                ('vectorizer',\n",
              "                 CountVectorizer(ngram_range=(1, 2),\n",
              "                                 tokenizer=<function treebankWordTokenizer at 0x000001BCE883B160>)),\n",
              "                ('classifier',\n",
              "                 LinearSVC(class_weight={'not sexist': 0.2, 'sexist': 1},\n",
              "                           max_iter=10000))])"
            ]
          },
          "execution_count": 64,
          "metadata": {},
          "output_type": "execute_result"
        }
      ],
      "source": [
        "classifier = svm.LinearSVC(max_iter = 10000, class_weight= {\"not sexist\": 0.2, \"sexist\": 1})\n",
        "\n",
        "# Create the pipeline\n",
        "\n",
        "pipe_sexism = Pipeline([(\"cleaner\", predictors()),\n",
        "('vectorizer', vector),\n",
        "('classifier', classifier)])\n",
        "\n",
        "pipe_sexism.fit(x_train, y_train)\n"
      ]
    },
    {
      "cell_type": "code",
      "execution_count": 65,
      "metadata": {},
      "outputs": [
        {
          "name": "stdout",
          "output_type": "stream",
          "text": [
            "Accuracy: 0.8340\n",
            "Precision: 0.7899\n",
            "Recall: 0.7255\n",
            "F1 Score: 0.7481\n"
          ]
        }
      ],
      "source": [
        "#evaluation metrics for the validation data\n",
        "\n",
        "evaluation_metrics(x_val, y_val, pipe_sexism)"
      ]
    },
    {
      "cell_type": "code",
      "execution_count": 57,
      "metadata": {},
      "outputs": [
        {
          "name": "stderr",
          "output_type": "stream",
          "text": [
            "d:\\Anaconda\\lib\\site-packages\\sklearn\\feature_extraction\\text.py:528: UserWarning: The parameter 'token_pattern' will not be used since 'tokenizer' is not None'\n",
            "  warnings.warn(\n"
          ]
        },
        {
          "name": "stdout",
          "output_type": "stream",
          "text": [
            "Migliori iperparametri: {'classifier__C': 0.2, 'classifier__class_weight': 'balanced', 'vectorizer__ngram_range': (1, 2)}\n"
          ]
        }
      ],
      "source": [
        "params = {'vectorizer__ngram_range': [(1,1),(1,2)],\n",
        "          'classifier__C': [0.2, 0.4, 1],\n",
        "          'classifier__class_weight': ['balanced', None]}\n",
        "\n",
        "pipe_optimized = GridSearchCV(pipe_sexism,param_grid=params,cv=10,scoring=make_scorer(f1_score, average=\"macro\"),n_jobs=n_cpu-1,refit=True)\n",
        "pipe_optimized.fit(x_train, y_train)\n",
        "print(\"Migliori iperparametri:\",pipe_optimized.best_params_)"
      ]
    },
    {
      "cell_type": "code",
      "execution_count": 58,
      "metadata": {},
      "outputs": [
        {
          "name": "stderr",
          "output_type": "stream",
          "text": [
            "d:\\Anaconda\\lib\\site-packages\\sklearn\\feature_extraction\\text.py:528: UserWarning: The parameter 'token_pattern' will not be used since 'tokenizer' is not None'\n",
            "  warnings.warn(\n"
          ]
        },
        {
          "data": {
            "text/html": [
              "<style>#sk-container-id-13 {color: black;background-color: white;}#sk-container-id-13 pre{padding: 0;}#sk-container-id-13 div.sk-toggleable {background-color: white;}#sk-container-id-13 label.sk-toggleable__label {cursor: pointer;display: block;width: 100%;margin-bottom: 0;padding: 0.3em;box-sizing: border-box;text-align: center;}#sk-container-id-13 label.sk-toggleable__label-arrow:before {content: \"▸\";float: left;margin-right: 0.25em;color: #696969;}#sk-container-id-13 label.sk-toggleable__label-arrow:hover:before {color: black;}#sk-container-id-13 div.sk-estimator:hover label.sk-toggleable__label-arrow:before {color: black;}#sk-container-id-13 div.sk-toggleable__content {max-height: 0;max-width: 0;overflow: hidden;text-align: left;background-color: #f0f8ff;}#sk-container-id-13 div.sk-toggleable__content pre {margin: 0.2em;color: black;border-radius: 0.25em;background-color: #f0f8ff;}#sk-container-id-13 input.sk-toggleable__control:checked~div.sk-toggleable__content {max-height: 200px;max-width: 100%;overflow: auto;}#sk-container-id-13 input.sk-toggleable__control:checked~label.sk-toggleable__label-arrow:before {content: \"▾\";}#sk-container-id-13 div.sk-estimator input.sk-toggleable__control:checked~label.sk-toggleable__label {background-color: #d4ebff;}#sk-container-id-13 div.sk-label input.sk-toggleable__control:checked~label.sk-toggleable__label {background-color: #d4ebff;}#sk-container-id-13 input.sk-hidden--visually {border: 0;clip: rect(1px 1px 1px 1px);clip: rect(1px, 1px, 1px, 1px);height: 1px;margin: -1px;overflow: hidden;padding: 0;position: absolute;width: 1px;}#sk-container-id-13 div.sk-estimator {font-family: monospace;background-color: #f0f8ff;border: 1px dotted black;border-radius: 0.25em;box-sizing: border-box;margin-bottom: 0.5em;}#sk-container-id-13 div.sk-estimator:hover {background-color: #d4ebff;}#sk-container-id-13 div.sk-parallel-item::after {content: \"\";width: 100%;border-bottom: 1px solid gray;flex-grow: 1;}#sk-container-id-13 div.sk-label:hover label.sk-toggleable__label {background-color: #d4ebff;}#sk-container-id-13 div.sk-serial::before {content: \"\";position: absolute;border-left: 1px solid gray;box-sizing: border-box;top: 0;bottom: 0;left: 50%;z-index: 0;}#sk-container-id-13 div.sk-serial {display: flex;flex-direction: column;align-items: center;background-color: white;padding-right: 0.2em;padding-left: 0.2em;position: relative;}#sk-container-id-13 div.sk-item {position: relative;z-index: 1;}#sk-container-id-13 div.sk-parallel {display: flex;align-items: stretch;justify-content: center;background-color: white;position: relative;}#sk-container-id-13 div.sk-item::before, #sk-container-id-13 div.sk-parallel-item::before {content: \"\";position: absolute;border-left: 1px solid gray;box-sizing: border-box;top: 0;bottom: 0;left: 50%;z-index: -1;}#sk-container-id-13 div.sk-parallel-item {display: flex;flex-direction: column;z-index: 1;position: relative;background-color: white;}#sk-container-id-13 div.sk-parallel-item:first-child::after {align-self: flex-end;width: 50%;}#sk-container-id-13 div.sk-parallel-item:last-child::after {align-self: flex-start;width: 50%;}#sk-container-id-13 div.sk-parallel-item:only-child::after {width: 0;}#sk-container-id-13 div.sk-dashed-wrapped {border: 1px dashed gray;margin: 0 0.4em 0.5em 0.4em;box-sizing: border-box;padding-bottom: 0.4em;background-color: white;}#sk-container-id-13 div.sk-label label {font-family: monospace;font-weight: bold;display: inline-block;line-height: 1.2em;}#sk-container-id-13 div.sk-label-container {text-align: center;}#sk-container-id-13 div.sk-container {/* jupyter's `normalize.less` sets `[hidden] { display: none; }` but bootstrap.min.css set `[hidden] { display: none !important; }` so we also need the `!important` here to be able to override the default hidden behavior on the sphinx rendered scikit-learn.org. See: https://github.com/scikit-learn/scikit-learn/issues/21755 */display: inline-block !important;position: relative;}#sk-container-id-13 div.sk-text-repr-fallback {display: none;}</style><div id=\"sk-container-id-13\" class=\"sk-top-container\"><div class=\"sk-text-repr-fallback\"><pre>Pipeline(steps=[(&#x27;cleaner&#x27;, &lt;__main__.predictors object at 0x000001BCAE1E39D0&gt;),\n",
              "                (&#x27;vectorizer&#x27;,\n",
              "                 CountVectorizer(ngram_range=(1, 2),\n",
              "                                 tokenizer=&lt;function treebankWordTokenizer at 0x000001BCE883B160&gt;)),\n",
              "                (&#x27;classifier&#x27;,\n",
              "                 LinearSVC(C=0.2, class_weight=&#x27;balanced&#x27;, max_iter=10000))])</pre><b>In a Jupyter environment, please rerun this cell to show the HTML representation or trust the notebook. <br />On GitHub, the HTML representation is unable to render, please try loading this page with nbviewer.org.</b></div><div class=\"sk-container\" hidden><div class=\"sk-item sk-dashed-wrapped\"><div class=\"sk-label-container\"><div class=\"sk-label sk-toggleable\"><input class=\"sk-toggleable__control sk-hidden--visually\" id=\"sk-estimator-id-49\" type=\"checkbox\" ><label for=\"sk-estimator-id-49\" class=\"sk-toggleable__label sk-toggleable__label-arrow\">Pipeline</label><div class=\"sk-toggleable__content\"><pre>Pipeline(steps=[(&#x27;cleaner&#x27;, &lt;__main__.predictors object at 0x000001BCAE1E39D0&gt;),\n",
              "                (&#x27;vectorizer&#x27;,\n",
              "                 CountVectorizer(ngram_range=(1, 2),\n",
              "                                 tokenizer=&lt;function treebankWordTokenizer at 0x000001BCE883B160&gt;)),\n",
              "                (&#x27;classifier&#x27;,\n",
              "                 LinearSVC(C=0.2, class_weight=&#x27;balanced&#x27;, max_iter=10000))])</pre></div></div></div><div class=\"sk-serial\"><div class=\"sk-item\"><div class=\"sk-estimator sk-toggleable\"><input class=\"sk-toggleable__control sk-hidden--visually\" id=\"sk-estimator-id-50\" type=\"checkbox\" ><label for=\"sk-estimator-id-50\" class=\"sk-toggleable__label sk-toggleable__label-arrow\">predictors</label><div class=\"sk-toggleable__content\"><pre>&lt;__main__.predictors object at 0x000001BCAE1E39D0&gt;</pre></div></div></div><div class=\"sk-item\"><div class=\"sk-estimator sk-toggleable\"><input class=\"sk-toggleable__control sk-hidden--visually\" id=\"sk-estimator-id-51\" type=\"checkbox\" ><label for=\"sk-estimator-id-51\" class=\"sk-toggleable__label sk-toggleable__label-arrow\">CountVectorizer</label><div class=\"sk-toggleable__content\"><pre>CountVectorizer(ngram_range=(1, 2),\n",
              "                tokenizer=&lt;function treebankWordTokenizer at 0x000001BCE883B160&gt;)</pre></div></div></div><div class=\"sk-item\"><div class=\"sk-estimator sk-toggleable\"><input class=\"sk-toggleable__control sk-hidden--visually\" id=\"sk-estimator-id-52\" type=\"checkbox\" ><label for=\"sk-estimator-id-52\" class=\"sk-toggleable__label sk-toggleable__label-arrow\">LinearSVC</label><div class=\"sk-toggleable__content\"><pre>LinearSVC(C=0.2, class_weight=&#x27;balanced&#x27;, max_iter=10000)</pre></div></div></div></div></div></div></div>"
            ],
            "text/plain": [
              "Pipeline(steps=[('cleaner', <__main__.predictors object at 0x000001BCAE1E39D0>),\n",
              "                ('vectorizer',\n",
              "                 CountVectorizer(ngram_range=(1, 2),\n",
              "                                 tokenizer=<function treebankWordTokenizer at 0x000001BCE883B160>)),\n",
              "                ('classifier',\n",
              "                 LinearSVC(C=0.2, class_weight='balanced', max_iter=10000))])"
            ]
          },
          "execution_count": 58,
          "metadata": {},
          "output_type": "execute_result"
        }
      ],
      "source": [
        "best_params = pipe_optimized.best_params_\n",
        "pipe_sexism.set_params(**best_params)\n",
        "pipe_sexism.fit(x_train, y_train)"
      ]
    },
    {
      "cell_type": "code",
      "execution_count": 59,
      "metadata": {},
      "outputs": [
        {
          "name": "stdout",
          "output_type": "stream",
          "text": [
            "Accuracy: 0.8405\n",
            "Precision: 0.7947\n",
            "Recall: 0.7444\n",
            "F1 Score: 0.7637\n"
          ]
        }
      ],
      "source": [
        "#evaluation metrics for the test data\n",
        "\n",
        "evaluation_metrics(x_test, y_test, pipe_sexism)"
      ]
    },
    {
      "attachments": {},
      "cell_type": "markdown",
      "metadata": {},
      "source": [
        "# Task B"
      ]
    },
    {
      "cell_type": "code",
      "execution_count": 12,
      "metadata": {},
      "outputs": [
        {
          "name": "stdout",
          "output_type": "stream",
          "text": [
            "TRAIN: \n",
            " 2. derogation                               1590\n",
            "3. animosity                                1165\n",
            "4. prejudiced discussions                    333\n",
            "1. threats, plans to harm and incitement     310\n",
            "Name: label_category, dtype: int64\n",
            "\n",
            "VALIDATION: \n",
            " 2. derogation                               227\n",
            "3. animosity                                167\n",
            "4. prejudiced discussions                    48\n",
            "1. threats, plans to harm and incitement     44\n",
            "Name: label_category, dtype: int64\n",
            "\n",
            "TEST: \n",
            " 2. derogation                               454\n",
            "3. animosity                                333\n",
            "4. prejudiced discussions                    94\n",
            "1. threats, plans to harm and incitement     89\n",
            "Name: label_category, dtype: int64\n",
            "\n"
          ]
        }
      ],
      "source": [
        "dft = read_csv('../Dataset/Processed datasets/train_category.csv')\n",
        "dfv = read_csv('../Dataset/Processed datasets/dev_category.csv')\n",
        "dfs = read_csv('../Dataset/Processed datasets/test_category.csv')\n",
        "\n",
        "x1_train = dft['text']\n",
        "y1_train = dft['label_category']\n",
        "x1_val = dfv['text']\n",
        "y1_val = dfv['label_category']\n",
        "x1_test = dfs['text']\n",
        "y1_test= dfs['label_category']\n",
        "dft.set_index('ID')\n",
        "dfv.set_index('ID')\n",
        "dfs.set_index('ID')\n",
        "\n",
        "print(\"TRAIN: \\n\", y1_train.value_counts(), end=\"\\n\\n\")\n",
        "print(\"VALIDATION: \\n\", y1_val.value_counts(), end=\"\\n\\n\")\n",
        "print(\"TEST: \\n\", y1_test.value_counts(), end=\"\\n\\n\")\n"
      ]
    },
    {
      "cell_type": "code",
      "execution_count": 73,
      "metadata": {},
      "outputs": [],
      "source": [
        "#vector that uses TreebankWordTokenizer without lemmatization\n",
        "vector_no_lemma = CountVectorizer(tokenizer = TreebankWordTokenizer().tokenize, ngram_range=(1,2))"
      ]
    },
    {
      "cell_type": "code",
      "execution_count": 74,
      "metadata": {},
      "outputs": [
        {
          "name": "stderr",
          "output_type": "stream",
          "text": [
            "d:\\Anaconda\\lib\\site-packages\\sklearn\\feature_extraction\\text.py:528: UserWarning: The parameter 'token_pattern' will not be used since 'tokenizer' is not None'\n",
            "  warnings.warn(\n"
          ]
        },
        {
          "data": {
            "text/html": [
              "<style>#sk-container-id-18 {color: black;background-color: white;}#sk-container-id-18 pre{padding: 0;}#sk-container-id-18 div.sk-toggleable {background-color: white;}#sk-container-id-18 label.sk-toggleable__label {cursor: pointer;display: block;width: 100%;margin-bottom: 0;padding: 0.3em;box-sizing: border-box;text-align: center;}#sk-container-id-18 label.sk-toggleable__label-arrow:before {content: \"▸\";float: left;margin-right: 0.25em;color: #696969;}#sk-container-id-18 label.sk-toggleable__label-arrow:hover:before {color: black;}#sk-container-id-18 div.sk-estimator:hover label.sk-toggleable__label-arrow:before {color: black;}#sk-container-id-18 div.sk-toggleable__content {max-height: 0;max-width: 0;overflow: hidden;text-align: left;background-color: #f0f8ff;}#sk-container-id-18 div.sk-toggleable__content pre {margin: 0.2em;color: black;border-radius: 0.25em;background-color: #f0f8ff;}#sk-container-id-18 input.sk-toggleable__control:checked~div.sk-toggleable__content {max-height: 200px;max-width: 100%;overflow: auto;}#sk-container-id-18 input.sk-toggleable__control:checked~label.sk-toggleable__label-arrow:before {content: \"▾\";}#sk-container-id-18 div.sk-estimator input.sk-toggleable__control:checked~label.sk-toggleable__label {background-color: #d4ebff;}#sk-container-id-18 div.sk-label input.sk-toggleable__control:checked~label.sk-toggleable__label {background-color: #d4ebff;}#sk-container-id-18 input.sk-hidden--visually {border: 0;clip: rect(1px 1px 1px 1px);clip: rect(1px, 1px, 1px, 1px);height: 1px;margin: -1px;overflow: hidden;padding: 0;position: absolute;width: 1px;}#sk-container-id-18 div.sk-estimator {font-family: monospace;background-color: #f0f8ff;border: 1px dotted black;border-radius: 0.25em;box-sizing: border-box;margin-bottom: 0.5em;}#sk-container-id-18 div.sk-estimator:hover {background-color: #d4ebff;}#sk-container-id-18 div.sk-parallel-item::after {content: \"\";width: 100%;border-bottom: 1px solid gray;flex-grow: 1;}#sk-container-id-18 div.sk-label:hover label.sk-toggleable__label {background-color: #d4ebff;}#sk-container-id-18 div.sk-serial::before {content: \"\";position: absolute;border-left: 1px solid gray;box-sizing: border-box;top: 0;bottom: 0;left: 50%;z-index: 0;}#sk-container-id-18 div.sk-serial {display: flex;flex-direction: column;align-items: center;background-color: white;padding-right: 0.2em;padding-left: 0.2em;position: relative;}#sk-container-id-18 div.sk-item {position: relative;z-index: 1;}#sk-container-id-18 div.sk-parallel {display: flex;align-items: stretch;justify-content: center;background-color: white;position: relative;}#sk-container-id-18 div.sk-item::before, #sk-container-id-18 div.sk-parallel-item::before {content: \"\";position: absolute;border-left: 1px solid gray;box-sizing: border-box;top: 0;bottom: 0;left: 50%;z-index: -1;}#sk-container-id-18 div.sk-parallel-item {display: flex;flex-direction: column;z-index: 1;position: relative;background-color: white;}#sk-container-id-18 div.sk-parallel-item:first-child::after {align-self: flex-end;width: 50%;}#sk-container-id-18 div.sk-parallel-item:last-child::after {align-self: flex-start;width: 50%;}#sk-container-id-18 div.sk-parallel-item:only-child::after {width: 0;}#sk-container-id-18 div.sk-dashed-wrapped {border: 1px dashed gray;margin: 0 0.4em 0.5em 0.4em;box-sizing: border-box;padding-bottom: 0.4em;background-color: white;}#sk-container-id-18 div.sk-label label {font-family: monospace;font-weight: bold;display: inline-block;line-height: 1.2em;}#sk-container-id-18 div.sk-label-container {text-align: center;}#sk-container-id-18 div.sk-container {/* jupyter's `normalize.less` sets `[hidden] { display: none; }` but bootstrap.min.css set `[hidden] { display: none !important; }` so we also need the `!important` here to be able to override the default hidden behavior on the sphinx rendered scikit-learn.org. See: https://github.com/scikit-learn/scikit-learn/issues/21755 */display: inline-block !important;position: relative;}#sk-container-id-18 div.sk-text-repr-fallback {display: none;}</style><div id=\"sk-container-id-18\" class=\"sk-top-container\"><div class=\"sk-text-repr-fallback\"><pre>Pipeline(steps=[(&#x27;cleaner&#x27;, &lt;__main__.predictors object at 0x000001BCAE2DBD90&gt;),\n",
              "                (&#x27;vectorizer&#x27;,\n",
              "                 CountVectorizer(ngram_range=(1, 2),\n",
              "                                 tokenizer=&lt;bound method TreebankWordTokenizer.tokenize of &lt;nltk.tokenize.treebank.TreebankWordTokenizer object at 0x000001BCAE4B40D0&gt;&gt;)),\n",
              "                (&#x27;classifier&#x27;,\n",
              "                 LinearSVC(class_weight=&#x27;balanced&#x27;, max_iter=10000))])</pre><b>In a Jupyter environment, please rerun this cell to show the HTML representation or trust the notebook. <br />On GitHub, the HTML representation is unable to render, please try loading this page with nbviewer.org.</b></div><div class=\"sk-container\" hidden><div class=\"sk-item sk-dashed-wrapped\"><div class=\"sk-label-container\"><div class=\"sk-label sk-toggleable\"><input class=\"sk-toggleable__control sk-hidden--visually\" id=\"sk-estimator-id-69\" type=\"checkbox\" ><label for=\"sk-estimator-id-69\" class=\"sk-toggleable__label sk-toggleable__label-arrow\">Pipeline</label><div class=\"sk-toggleable__content\"><pre>Pipeline(steps=[(&#x27;cleaner&#x27;, &lt;__main__.predictors object at 0x000001BCAE2DBD90&gt;),\n",
              "                (&#x27;vectorizer&#x27;,\n",
              "                 CountVectorizer(ngram_range=(1, 2),\n",
              "                                 tokenizer=&lt;bound method TreebankWordTokenizer.tokenize of &lt;nltk.tokenize.treebank.TreebankWordTokenizer object at 0x000001BCAE4B40D0&gt;&gt;)),\n",
              "                (&#x27;classifier&#x27;,\n",
              "                 LinearSVC(class_weight=&#x27;balanced&#x27;, max_iter=10000))])</pre></div></div></div><div class=\"sk-serial\"><div class=\"sk-item\"><div class=\"sk-estimator sk-toggleable\"><input class=\"sk-toggleable__control sk-hidden--visually\" id=\"sk-estimator-id-70\" type=\"checkbox\" ><label for=\"sk-estimator-id-70\" class=\"sk-toggleable__label sk-toggleable__label-arrow\">predictors</label><div class=\"sk-toggleable__content\"><pre>&lt;__main__.predictors object at 0x000001BCAE2DBD90&gt;</pre></div></div></div><div class=\"sk-item\"><div class=\"sk-estimator sk-toggleable\"><input class=\"sk-toggleable__control sk-hidden--visually\" id=\"sk-estimator-id-71\" type=\"checkbox\" ><label for=\"sk-estimator-id-71\" class=\"sk-toggleable__label sk-toggleable__label-arrow\">CountVectorizer</label><div class=\"sk-toggleable__content\"><pre>CountVectorizer(ngram_range=(1, 2),\n",
              "                tokenizer=&lt;bound method TreebankWordTokenizer.tokenize of &lt;nltk.tokenize.treebank.TreebankWordTokenizer object at 0x000001BCAE4B40D0&gt;&gt;)</pre></div></div></div><div class=\"sk-item\"><div class=\"sk-estimator sk-toggleable\"><input class=\"sk-toggleable__control sk-hidden--visually\" id=\"sk-estimator-id-72\" type=\"checkbox\" ><label for=\"sk-estimator-id-72\" class=\"sk-toggleable__label sk-toggleable__label-arrow\">LinearSVC</label><div class=\"sk-toggleable__content\"><pre>LinearSVC(class_weight=&#x27;balanced&#x27;, max_iter=10000)</pre></div></div></div></div></div></div></div>"
            ],
            "text/plain": [
              "Pipeline(steps=[('cleaner', <__main__.predictors object at 0x000001BCAE2DBD90>),\n",
              "                ('vectorizer',\n",
              "                 CountVectorizer(ngram_range=(1, 2),\n",
              "                                 tokenizer=<bound method TreebankWordTokenizer.tokenize of <nltk.tokenize.treebank.TreebankWordTokenizer object at 0x000001BCAE4B40D0>>)),\n",
              "                ('classifier',\n",
              "                 LinearSVC(class_weight='balanced', max_iter=10000))])"
            ]
          },
          "execution_count": 74,
          "metadata": {},
          "output_type": "execute_result"
        }
      ],
      "source": [
        "classifier = svm.LinearSVC(max_iter = 10000, class_weight= 'balanced')\n",
        "\n",
        "# Create the pipeline\n",
        "\n",
        "pipe_category = Pipeline([(\"cleaner\", predictors()),\n",
        "('vectorizer', vector_no_lemma),\n",
        "('classifier', classifier)])\n",
        "\n",
        "pipe_category.fit(x1_train, y1_train)"
      ]
    },
    {
      "cell_type": "code",
      "execution_count": 75,
      "metadata": {},
      "outputs": [
        {
          "name": "stdout",
          "output_type": "stream",
          "text": [
            "Accuracy: 0.5453\n",
            "Precision: 0.5258\n",
            "Recall: 0.4491\n",
            "F1 Score: 0.4675\n"
          ]
        }
      ],
      "source": [
        "#evaluation metrics for the validation data\n",
        "\n",
        "evaluation_metrics(x1_val, y1_val, pipe_category)"
      ]
    },
    {
      "cell_type": "code",
      "execution_count": 76,
      "metadata": {},
      "outputs": [
        {
          "name": "stderr",
          "output_type": "stream",
          "text": [
            "d:\\Anaconda\\lib\\site-packages\\sklearn\\feature_extraction\\text.py:528: UserWarning: The parameter 'token_pattern' will not be used since 'tokenizer' is not None'\n",
            "  warnings.warn(\n"
          ]
        },
        {
          "name": "stdout",
          "output_type": "stream",
          "text": [
            "Migliori iperparametri: {'classifier__C': 0.2, 'classifier__class_weight': 'balanced', 'vectorizer__ngram_range': (1, 2)}\n"
          ]
        }
      ],
      "source": [
        "params = {'vectorizer__ngram_range': [(1,1),(1,2)],\n",
        "          'classifier__C': [0.2, 0.4, 1],\n",
        "          'classifier__class_weight': ['balanced', None]}\n",
        "\n",
        "pipe1_optimized = GridSearchCV(pipe_category,param_grid=params,cv=10,scoring=make_scorer(f1_score, average=\"macro\"),n_jobs=n_cpu-1,refit=True)\n",
        "pipe1_optimized.fit(x1_train, y1_train)\n",
        "print(\"Migliori iperparametri:\",pipe1_optimized.best_params_)"
      ]
    },
    {
      "cell_type": "code",
      "execution_count": 77,
      "metadata": {},
      "outputs": [
        {
          "name": "stderr",
          "output_type": "stream",
          "text": [
            "d:\\Anaconda\\lib\\site-packages\\sklearn\\feature_extraction\\text.py:528: UserWarning: The parameter 'token_pattern' will not be used since 'tokenizer' is not None'\n",
            "  warnings.warn(\n"
          ]
        },
        {
          "data": {
            "text/html": [
              "<style>#sk-container-id-19 {color: black;background-color: white;}#sk-container-id-19 pre{padding: 0;}#sk-container-id-19 div.sk-toggleable {background-color: white;}#sk-container-id-19 label.sk-toggleable__label {cursor: pointer;display: block;width: 100%;margin-bottom: 0;padding: 0.3em;box-sizing: border-box;text-align: center;}#sk-container-id-19 label.sk-toggleable__label-arrow:before {content: \"▸\";float: left;margin-right: 0.25em;color: #696969;}#sk-container-id-19 label.sk-toggleable__label-arrow:hover:before {color: black;}#sk-container-id-19 div.sk-estimator:hover label.sk-toggleable__label-arrow:before {color: black;}#sk-container-id-19 div.sk-toggleable__content {max-height: 0;max-width: 0;overflow: hidden;text-align: left;background-color: #f0f8ff;}#sk-container-id-19 div.sk-toggleable__content pre {margin: 0.2em;color: black;border-radius: 0.25em;background-color: #f0f8ff;}#sk-container-id-19 input.sk-toggleable__control:checked~div.sk-toggleable__content {max-height: 200px;max-width: 100%;overflow: auto;}#sk-container-id-19 input.sk-toggleable__control:checked~label.sk-toggleable__label-arrow:before {content: \"▾\";}#sk-container-id-19 div.sk-estimator input.sk-toggleable__control:checked~label.sk-toggleable__label {background-color: #d4ebff;}#sk-container-id-19 div.sk-label input.sk-toggleable__control:checked~label.sk-toggleable__label {background-color: #d4ebff;}#sk-container-id-19 input.sk-hidden--visually {border: 0;clip: rect(1px 1px 1px 1px);clip: rect(1px, 1px, 1px, 1px);height: 1px;margin: -1px;overflow: hidden;padding: 0;position: absolute;width: 1px;}#sk-container-id-19 div.sk-estimator {font-family: monospace;background-color: #f0f8ff;border: 1px dotted black;border-radius: 0.25em;box-sizing: border-box;margin-bottom: 0.5em;}#sk-container-id-19 div.sk-estimator:hover {background-color: #d4ebff;}#sk-container-id-19 div.sk-parallel-item::after {content: \"\";width: 100%;border-bottom: 1px solid gray;flex-grow: 1;}#sk-container-id-19 div.sk-label:hover label.sk-toggleable__label {background-color: #d4ebff;}#sk-container-id-19 div.sk-serial::before {content: \"\";position: absolute;border-left: 1px solid gray;box-sizing: border-box;top: 0;bottom: 0;left: 50%;z-index: 0;}#sk-container-id-19 div.sk-serial {display: flex;flex-direction: column;align-items: center;background-color: white;padding-right: 0.2em;padding-left: 0.2em;position: relative;}#sk-container-id-19 div.sk-item {position: relative;z-index: 1;}#sk-container-id-19 div.sk-parallel {display: flex;align-items: stretch;justify-content: center;background-color: white;position: relative;}#sk-container-id-19 div.sk-item::before, #sk-container-id-19 div.sk-parallel-item::before {content: \"\";position: absolute;border-left: 1px solid gray;box-sizing: border-box;top: 0;bottom: 0;left: 50%;z-index: -1;}#sk-container-id-19 div.sk-parallel-item {display: flex;flex-direction: column;z-index: 1;position: relative;background-color: white;}#sk-container-id-19 div.sk-parallel-item:first-child::after {align-self: flex-end;width: 50%;}#sk-container-id-19 div.sk-parallel-item:last-child::after {align-self: flex-start;width: 50%;}#sk-container-id-19 div.sk-parallel-item:only-child::after {width: 0;}#sk-container-id-19 div.sk-dashed-wrapped {border: 1px dashed gray;margin: 0 0.4em 0.5em 0.4em;box-sizing: border-box;padding-bottom: 0.4em;background-color: white;}#sk-container-id-19 div.sk-label label {font-family: monospace;font-weight: bold;display: inline-block;line-height: 1.2em;}#sk-container-id-19 div.sk-label-container {text-align: center;}#sk-container-id-19 div.sk-container {/* jupyter's `normalize.less` sets `[hidden] { display: none; }` but bootstrap.min.css set `[hidden] { display: none !important; }` so we also need the `!important` here to be able to override the default hidden behavior on the sphinx rendered scikit-learn.org. See: https://github.com/scikit-learn/scikit-learn/issues/21755 */display: inline-block !important;position: relative;}#sk-container-id-19 div.sk-text-repr-fallback {display: none;}</style><div id=\"sk-container-id-19\" class=\"sk-top-container\"><div class=\"sk-text-repr-fallback\"><pre>Pipeline(steps=[(&#x27;cleaner&#x27;, &lt;__main__.predictors object at 0x000001BCAE2DBD90&gt;),\n",
              "                (&#x27;vectorizer&#x27;,\n",
              "                 CountVectorizer(ngram_range=(1, 2),\n",
              "                                 tokenizer=&lt;bound method TreebankWordTokenizer.tokenize of &lt;nltk.tokenize.treebank.TreebankWordTokenizer object at 0x000001BCAE4B40D0&gt;&gt;)),\n",
              "                (&#x27;classifier&#x27;,\n",
              "                 LinearSVC(C=0.2, class_weight=&#x27;balanced&#x27;, max_iter=10000))])</pre><b>In a Jupyter environment, please rerun this cell to show the HTML representation or trust the notebook. <br />On GitHub, the HTML representation is unable to render, please try loading this page with nbviewer.org.</b></div><div class=\"sk-container\" hidden><div class=\"sk-item sk-dashed-wrapped\"><div class=\"sk-label-container\"><div class=\"sk-label sk-toggleable\"><input class=\"sk-toggleable__control sk-hidden--visually\" id=\"sk-estimator-id-73\" type=\"checkbox\" ><label for=\"sk-estimator-id-73\" class=\"sk-toggleable__label sk-toggleable__label-arrow\">Pipeline</label><div class=\"sk-toggleable__content\"><pre>Pipeline(steps=[(&#x27;cleaner&#x27;, &lt;__main__.predictors object at 0x000001BCAE2DBD90&gt;),\n",
              "                (&#x27;vectorizer&#x27;,\n",
              "                 CountVectorizer(ngram_range=(1, 2),\n",
              "                                 tokenizer=&lt;bound method TreebankWordTokenizer.tokenize of &lt;nltk.tokenize.treebank.TreebankWordTokenizer object at 0x000001BCAE4B40D0&gt;&gt;)),\n",
              "                (&#x27;classifier&#x27;,\n",
              "                 LinearSVC(C=0.2, class_weight=&#x27;balanced&#x27;, max_iter=10000))])</pre></div></div></div><div class=\"sk-serial\"><div class=\"sk-item\"><div class=\"sk-estimator sk-toggleable\"><input class=\"sk-toggleable__control sk-hidden--visually\" id=\"sk-estimator-id-74\" type=\"checkbox\" ><label for=\"sk-estimator-id-74\" class=\"sk-toggleable__label sk-toggleable__label-arrow\">predictors</label><div class=\"sk-toggleable__content\"><pre>&lt;__main__.predictors object at 0x000001BCAE2DBD90&gt;</pre></div></div></div><div class=\"sk-item\"><div class=\"sk-estimator sk-toggleable\"><input class=\"sk-toggleable__control sk-hidden--visually\" id=\"sk-estimator-id-75\" type=\"checkbox\" ><label for=\"sk-estimator-id-75\" class=\"sk-toggleable__label sk-toggleable__label-arrow\">CountVectorizer</label><div class=\"sk-toggleable__content\"><pre>CountVectorizer(ngram_range=(1, 2),\n",
              "                tokenizer=&lt;bound method TreebankWordTokenizer.tokenize of &lt;nltk.tokenize.treebank.TreebankWordTokenizer object at 0x000001BCAE4B40D0&gt;&gt;)</pre></div></div></div><div class=\"sk-item\"><div class=\"sk-estimator sk-toggleable\"><input class=\"sk-toggleable__control sk-hidden--visually\" id=\"sk-estimator-id-76\" type=\"checkbox\" ><label for=\"sk-estimator-id-76\" class=\"sk-toggleable__label sk-toggleable__label-arrow\">LinearSVC</label><div class=\"sk-toggleable__content\"><pre>LinearSVC(C=0.2, class_weight=&#x27;balanced&#x27;, max_iter=10000)</pre></div></div></div></div></div></div></div>"
            ],
            "text/plain": [
              "Pipeline(steps=[('cleaner', <__main__.predictors object at 0x000001BCAE2DBD90>),\n",
              "                ('vectorizer',\n",
              "                 CountVectorizer(ngram_range=(1, 2),\n",
              "                                 tokenizer=<bound method TreebankWordTokenizer.tokenize of <nltk.tokenize.treebank.TreebankWordTokenizer object at 0x000001BCAE4B40D0>>)),\n",
              "                ('classifier',\n",
              "                 LinearSVC(C=0.2, class_weight='balanced', max_iter=10000))])"
            ]
          },
          "execution_count": 77,
          "metadata": {},
          "output_type": "execute_result"
        }
      ],
      "source": [
        "best_params = pipe1_optimized.best_params_\n",
        "pipe_category.set_params(**best_params)\n",
        "pipe_category.fit(x1_train, y1_train)"
      ]
    },
    {
      "cell_type": "code",
      "execution_count": 78,
      "metadata": {},
      "outputs": [
        {
          "name": "stdout",
          "output_type": "stream",
          "text": [
            "Accuracy: 0.5124\n",
            "Precision: 0.4932\n",
            "Recall: 0.4438\n",
            "F1 Score: 0.4597\n"
          ]
        }
      ],
      "source": [
        "#evaluation metrics for the test data\n",
        "\n",
        "evaluation_metrics(x1_test, y1_test, pipe_category)"
      ]
    },
    {
      "cell_type": "code",
      "execution_count": 26,
      "metadata": {},
      "outputs": [],
      "source": [
        "\n",
        "import tkinter as tk\n",
        "from PIL import ImageTk\n",
        "from tkinter import *\n",
        "import PIL.Image\n",
        "\n",
        "if __name__ == '__main__':\n",
        "\n",
        "    def getPrediction():\n",
        "    \n",
        "        input_text = text_box.get(\"1.0\", \"end-1c\")\n",
        "        input_text=[input_text]\n",
        "        \n",
        "        prediction = pipe_sexism.predict(input_text)\n",
        "        pred_label.config(text=\"\")\n",
        "        \n",
        "        if (prediction == 'sexist'):\n",
        "            prediction = pipe_category.predict(input_text)\n",
        "\n",
        "        pred_label.config(text=prediction[0])\n",
        "        text_box.delete(\"1.0\", tk.END)\n",
        "        pred_label.grid(columnspan=3,column=1,row=10)\n",
        "\n",
        "\n",
        "    root = tk.Tk()\n",
        "    root.title(\"Sexism relevation\")\n",
        "\n",
        "    canv= tk.Canvas(root,width=600,height=300)\n",
        "    canv.grid(columnspan=5,rowspan=20)\n",
        "\n",
        "    logo = open(\"logo.png\",\"rb\")\n",
        "    logo = PIL.Image.open(logo)\n",
        "    logo = logo.resize((100,100))\n",
        "    logo =ImageTk.PhotoImage(logo)\n",
        "    logo_label = tk.Label(image = logo)\n",
        "    logo_label.image = logo\n",
        "    logo_label.grid(column=2,row=1,columnspan=1)\n",
        "\n",
        "\n",
        "    istructions=tk.Label(root, text=\"Insert a message\", font=\"Raleway\")\n",
        "    istructions.grid(columnspan=3,column=1,row=5)\n",
        "    text_box = Text(root,height=3, width=40)\n",
        "    text_box.config(state='normal')  \n",
        "    text_box.grid(columnspan=3,column=1,row=8)\n",
        "\n",
        "    pred_label=tk.Label(root, text=\"\", font=\"Raleway\")\n",
        "\n",
        "\n",
        "    send_button = tk.Button(root, text =\"Send\", command = getPrediction)\n",
        "    send_button.grid(columnspan=1,column=4,row=8)\n",
        "    root.mainloop()\n",
        "\n",
        "\n"
      ]
    }
  ],
  "metadata": {
    "colab": {
      "include_colab_link": true,
      "provenance": []
    },
    "kernelspec": {
      "display_name": "base",
      "language": "python",
      "name": "python3"
    },
    "language_info": {
      "codemirror_mode": {
        "name": "ipython",
        "version": 3
      },
      "file_extension": ".py",
      "mimetype": "text/x-python",
      "name": "python",
      "nbconvert_exporter": "python",
      "pygments_lexer": "ipython3",
      "version": "3.9.13"
    },
    "orig_nbformat": 4
  },
  "nbformat": 4,
  "nbformat_minor": 0
}
