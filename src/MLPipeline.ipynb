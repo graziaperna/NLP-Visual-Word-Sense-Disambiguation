{
  "cells": [
    {
      "cell_type": "code",
      "execution_count": 15,
      "metadata": {
        "id": "dxoEEdu-BCYs"
      },
      "outputs": [
        {
          "name": "stdout",
          "output_type": "stream",
          "text": [
            "Requirement already satisfied: spaCy in c:\\users\\user\\anaconda3\\lib\\site-packages (3.5.3)\n",
            "Requirement already satisfied: smart-open<7.0.0,>=5.2.1 in c:\\users\\user\\anaconda3\\lib\\site-packages (from spaCy) (5.2.1)\n",
            "Requirement already satisfied: preshed<3.1.0,>=3.0.2 in c:\\users\\user\\anaconda3\\lib\\site-packages (from spaCy) (3.0.8)\n",
            "Requirement already satisfied: wasabi<1.2.0,>=0.9.1 in c:\\users\\user\\anaconda3\\lib\\site-packages (from spaCy) (1.1.1)\n",
            "Requirement already satisfied: numpy>=1.15.0 in c:\\users\\user\\anaconda3\\lib\\site-packages (from spaCy) (1.21.5)\n",
            "Requirement already satisfied: spacy-legacy<3.1.0,>=3.0.11 in c:\\users\\user\\anaconda3\\lib\\site-packages (from spaCy) (3.0.12)\n",
            "Requirement already satisfied: pathy>=0.10.0 in c:\\users\\user\\anaconda3\\lib\\site-packages (from spaCy) (0.10.1)\n",
            "Requirement already satisfied: requests<3.0.0,>=2.13.0 in c:\\users\\user\\anaconda3\\lib\\site-packages (from spaCy) (2.29.0)\n",
            "Requirement already satisfied: cymem<2.1.0,>=2.0.2 in c:\\users\\user\\anaconda3\\lib\\site-packages (from spaCy) (2.0.7)\n",
            "Requirement already satisfied: jinja2 in c:\\users\\user\\anaconda3\\lib\\site-packages (from spaCy) (2.11.3)\n",
            "Requirement already satisfied: thinc<8.2.0,>=8.1.8 in c:\\users\\user\\anaconda3\\lib\\site-packages (from spaCy) (8.1.10)\n",
            "Requirement already satisfied: catalogue<2.1.0,>=2.0.6 in c:\\users\\user\\anaconda3\\lib\\site-packages (from spaCy) (2.0.8)\n",
            "Requirement already satisfied: typer<0.8.0,>=0.3.0 in c:\\users\\user\\anaconda3\\lib\\site-packages (from spaCy) (0.7.0)\n",
            "Requirement already satisfied: murmurhash<1.1.0,>=0.28.0 in c:\\users\\user\\anaconda3\\lib\\site-packages (from spaCy) (1.0.9)\n",
            "Requirement already satisfied: tqdm<5.0.0,>=4.38.0 in c:\\users\\user\\anaconda3\\lib\\site-packages (from spaCy) (4.65.0)\n",
            "Requirement already satisfied: setuptools in c:\\users\\user\\anaconda3\\lib\\site-packages (from spaCy) (66.0.0)\n",
            "Requirement already satisfied: srsly<3.0.0,>=2.4.3 in c:\\users\\user\\anaconda3\\lib\\site-packages (from spaCy) (2.4.6)\n",
            "Requirement already satisfied: packaging>=20.0 in c:\\users\\user\\anaconda3\\lib\\site-packages (from spaCy) (23.0)\n",
            "Requirement already satisfied: pydantic!=1.8,!=1.8.1,<1.11.0,>=1.7.4 in c:\\users\\user\\anaconda3\\lib\\site-packages (from spaCy) (1.10.8)\n",
            "Requirement already satisfied: langcodes<4.0.0,>=3.2.0 in c:\\users\\user\\anaconda3\\lib\\site-packages (from spaCy) (3.3.0)\n",
            "Requirement already satisfied: spacy-loggers<2.0.0,>=1.0.0 in c:\\users\\user\\anaconda3\\lib\\site-packages (from spaCy) (1.0.4)\n",
            "Requirement already satisfied: typing-extensions>=4.2.0 in c:\\users\\user\\anaconda3\\lib\\site-packages (from pydantic!=1.8,!=1.8.1,<1.11.0,>=1.7.4->spaCy) (4.5.0)\n",
            "Requirement already satisfied: idna<4,>=2.5 in c:\\users\\user\\anaconda3\\lib\\site-packages (from requests<3.0.0,>=2.13.0->spaCy) (3.4)\n",
            "Requirement already satisfied: urllib3<1.27,>=1.21.1 in c:\\users\\user\\anaconda3\\lib\\site-packages (from requests<3.0.0,>=2.13.0->spaCy) (1.26.15)\n",
            "Requirement already satisfied: charset-normalizer<4,>=2 in c:\\users\\user\\anaconda3\\lib\\site-packages (from requests<3.0.0,>=2.13.0->spaCy) (2.0.4)\n",
            "Requirement already satisfied: certifi>=2017.4.17 in c:\\users\\user\\anaconda3\\lib\\site-packages (from requests<3.0.0,>=2.13.0->spaCy) (2023.5.7)\n",
            "Requirement already satisfied: confection<1.0.0,>=0.0.1 in c:\\users\\user\\anaconda3\\lib\\site-packages (from thinc<8.2.0,>=8.1.8->spaCy) (0.0.4)\n",
            "Requirement already satisfied: blis<0.8.0,>=0.7.8 in c:\\users\\user\\anaconda3\\lib\\site-packages (from thinc<8.2.0,>=8.1.8->spaCy) (0.7.9)\n",
            "Requirement already satisfied: colorama in c:\\users\\user\\anaconda3\\lib\\site-packages (from tqdm<5.0.0,>=4.38.0->spaCy) (0.4.6)\n",
            "Requirement already satisfied: click<9.0.0,>=7.1.1 in c:\\users\\user\\anaconda3\\lib\\site-packages (from typer<0.8.0,>=0.3.0->spaCy) (8.0.4)\n",
            "Requirement already satisfied: MarkupSafe>=0.23 in c:\\users\\user\\anaconda3\\lib\\site-packages (from jinja2->spaCy) (2.0.1)\n",
            "Note: you may need to restart the kernel to use updated packages.\n",
            "Requirement already satisfied: keras in c:\\users\\user\\anaconda3\\lib\\site-packages (2.12.0)\n",
            "Note: you may need to restart the kernel to use updated packages.\n"
          ]
        },
        {
          "name": "stderr",
          "output_type": "stream",
          "text": [
            "UsageError: Line magic function `%python` not found (But cell magic `%%python` exists, did you mean that instead?).\n"
          ]
        }
      ],
      "source": [
        "%pip install -U spaCy\n",
        "%pip install keras\n",
        "%python -m spacy download it_core_news_lg\n",
        "%pip install -U jax jaxlib\n",
        "%pip install clean-text\n",
        "%pip install --upgrade ipykernel\n",
        "#da eseguire al primo utilizzo"
      ]
    },
    {
      "cell_type": "code",
      "execution_count": 16,
      "metadata": {
        "id": "Wel4vXK2BCYu"
      },
      "outputs": [],
      "source": [
        "import string\n",
        "import spacy\n",
        "import json\n",
        "import re\n",
        "import numpy as np\n",
        "import pandas as pd\n",
        "from sklearn.feature_extraction.text import CountVectorizer,TfidfVectorizer\n",
        "from sklearn.base import TransformerMixin\n",
        "from sklearn.pipeline import Pipeline\n",
        "from spacy.lang.it.stop_words import STOP_WORDS\n",
        "from spacy.lang.it import Italian\n",
        "from sklearn.pipeline import Pipeline\n",
        "from sklearn.feature_extraction.text import CountVectorizer, TfidfTransformer\n",
        "from sklearn.model_selection import train_test_split, GridSearchCV\n",
        "from sklearn.ensemble import RandomForestClassifier\n",
        "from sklearn.multioutput import MultiOutputClassifier\n",
        "from sklearn.metrics import accuracy_score, precision_score, recall_score, f1_score, make_scorer\n",
        "from sklearn.model_selection import GridSearchCV\n",
        "from nltk.corpus import stopwords\n",
        "from nltk.tokenize import word_tokenize\n",
        "from nltk.stem.porter import PorterStemmer\n",
        "from pandas import read_csv\n",
        "from sklearn.svm import SVC\n",
        "from sklearn import metrics\n",
        "from sklearn import svm\n",
        "from sklearn import neural_network\n",
        "from sklearn import ensemble\n",
        "from nltk.corpus import stopwords\n",
        "from nltk.tokenize import word_tokenize\n",
        "from nltk.stem.porter import PorterStemmer\n",
        "from pandas import read_csv\n",
        "import nltk\n",
        "\n",
        "\n",
        "#init spaCy\n",
        "punctuations = string.punctuation\n",
        "nlp = spacy.load(\"it_core_news_lg\")\n",
        "stop_words = spacy.lang.it.stop_words.STOP_WORDS\n",
        "parser = Italian()\n",
        "\n",
        "# Custom transformer using spaCy\n",
        "class predictors(TransformerMixin):\n",
        "    def transform(self, X, **transform_params):\n",
        "        # Cleaning Text\n",
        "        return [clean_text(text) for text in X]\n",
        "\n",
        "    def fit(self, X, y=None, **fit_params):\n",
        "        return self\n",
        "\n",
        "    def get_params(self, deep=True):\n",
        "        return {}\n",
        "\n",
        "# Basic function to clean the text\n",
        "def clean_text(text):\n",
        "    # Removing spaces and converting text into lowercase\n",
        "    \n",
        "    return text.strip().lower()\n",
        "\n",
        "# Tokenizer function\n",
        "def spacy_tokenizer(sentence):\n",
        "    mytokens = parser(sentence)\n",
        "    mytokens = [ word.text for word in mytokens ]\n",
        "    # remove stop words\n",
        "    mytokens = [ word for word in mytokens if word not in stop_words and word not in punctuations ]\n",
        "    # return preprocessed list of tokens\n",
        "    return mytokens"
      ]
    },
    {
      "cell_type": "code",
      "execution_count": 17,
      "metadata": {
        "colab": {
          "base_uri": "https://localhost:8080/"
        },
        "id": "kmyyylg4Cg3U",
        "outputId": "ceed22cd-c394-41cf-b576-fd892f5ed982"
      },
      "outputs": [
        {
          "name": "stderr",
          "output_type": "stream",
          "text": [
            "[nltk_data] Downloading package stopwords to\n",
            "[nltk_data]     C:\\Users\\USER\\AppData\\Roaming\\nltk_data...\n",
            "[nltk_data]   Package stopwords is already up-to-date!\n"
          ]
        },
        {
          "data": {
            "text/plain": [
              "True"
            ]
          },
          "execution_count": 17,
          "metadata": {},
          "output_type": "execute_result"
        }
      ],
      "source": [
        "nltk.download('stopwords')"
      ]
    },
    {
      "cell_type": "code",
      "execution_count": 18,
      "metadata": {
        "colab": {
          "base_uri": "https://localhost:8080/",
          "height": 455
        },
        "id": "SvR_yoZ3BCYv",
        "outputId": "7acb3bfe-bf2d-4d39-a9b1-0127641e04b4"
      },
      "outputs": [
        {
          "data": {
            "text/html": [
              "<div>\n",
              "<style scoped>\n",
              "    .dataframe tbody tr th:only-of-type {\n",
              "        vertical-align: middle;\n",
              "    }\n",
              "\n",
              "    .dataframe tbody tr th {\n",
              "        vertical-align: top;\n",
              "    }\n",
              "\n",
              "    .dataframe thead th {\n",
              "        text-align: right;\n",
              "    }\n",
              "</style>\n",
              "<table border=\"1\" class=\"dataframe\">\n",
              "  <thead>\n",
              "    <tr style=\"text-align: right;\">\n",
              "      <th></th>\n",
              "      <th>text</th>\n",
              "      <th>label_sexist</th>\n",
              "    </tr>\n",
              "    <tr>\n",
              "      <th>ID</th>\n",
              "      <th></th>\n",
              "      <th></th>\n",
              "    </tr>\n",
              "  </thead>\n",
              "  <tbody>\n",
              "    <tr>\n",
              "      <th>0</th>\n",
              "      <td>In Nigeria, if you rape a woman, the men rape ...</td>\n",
              "      <td>not sexist</td>\n",
              "    </tr>\n",
              "    <tr>\n",
              "      <th>1</th>\n",
              "      <td>Then, she's a keeper. 😉</td>\n",
              "      <td>not sexist</td>\n",
              "    </tr>\n",
              "    <tr>\n",
              "      <th>2</th>\n",
              "      <td>This is like the Metallica video where the poo...</td>\n",
              "      <td>not sexist</td>\n",
              "    </tr>\n",
              "    <tr>\n",
              "      <th>3</th>\n",
              "      <td>woman?</td>\n",
              "      <td>not sexist</td>\n",
              "    </tr>\n",
              "    <tr>\n",
              "      <th>4</th>\n",
              "      <td>I bet she wished she had a gun</td>\n",
              "      <td>not sexist</td>\n",
              "    </tr>\n",
              "    <tr>\n",
              "      <th>...</th>\n",
              "      <td>...</td>\n",
              "      <td>...</td>\n",
              "    </tr>\n",
              "    <tr>\n",
              "      <th>19995</th>\n",
              "      <td>girls really get fucked almost every weekend ?</td>\n",
              "      <td>not sexist</td>\n",
              "    </tr>\n",
              "    <tr>\n",
              "      <th>19996</th>\n",
              "      <td>The hatred for moslems are Reasonable and Just...</td>\n",
              "      <td>not sexist</td>\n",
              "    </tr>\n",
              "    <tr>\n",
              "      <th>19997</th>\n",
              "      <td>Now this is a woman who gets it. 👆</td>\n",
              "      <td>not sexist</td>\n",
              "    </tr>\n",
              "    <tr>\n",
              "      <th>19998</th>\n",
              "      <td>“American Idol” finalist [USER] said nothing i...</td>\n",
              "      <td>not sexist</td>\n",
              "    </tr>\n",
              "    <tr>\n",
              "      <th>19999</th>\n",
              "      <td>this bi--th should be stoped she's the rapist</td>\n",
              "      <td>sexist</td>\n",
              "    </tr>\n",
              "  </tbody>\n",
              "</table>\n",
              "<p>20000 rows × 2 columns</p>\n",
              "</div>"
            ],
            "text/plain": [
              "                                                    text label_sexist\n",
              "ID                                                                   \n",
              "0      In Nigeria, if you rape a woman, the men rape ...   not sexist\n",
              "1                                Then, she's a keeper. 😉   not sexist\n",
              "2      This is like the Metallica video where the poo...   not sexist\n",
              "3                                                 woman?   not sexist\n",
              "4                         I bet she wished she had a gun   not sexist\n",
              "...                                                  ...          ...\n",
              "19995     girls really get fucked almost every weekend ?   not sexist\n",
              "19996  The hatred for moslems are Reasonable and Just...   not sexist\n",
              "19997                 Now this is a woman who gets it. 👆   not sexist\n",
              "19998  “American Idol” finalist [USER] said nothing i...   not sexist\n",
              "19999      this bi--th should be stoped she's the rapist       sexist\n",
              "\n",
              "[20000 rows x 2 columns]"
            ]
          },
          "execution_count": 18,
          "metadata": {},
          "output_type": "execute_result"
        }
      ],
      "source": [
        "df = read_csv('../Dataset/final_dataset_sexist.csv')\n",
        "X = df['text']\n",
        "y = df['label_sexist']\n",
        "df.set_index('ID')"
      ]
    },
    {
      "cell_type": "code",
      "execution_count": 19,
      "metadata": {
        "id": "CoUpof7FFfS9"
      },
      "outputs": [],
      "source": [
        "vector = CountVectorizer(tokenizer = spacy_tokenizer, ngram_range=(1,1))"
      ]
    },
    {
      "cell_type": "code",
      "execution_count": 20,
      "metadata": {
        "id": "ppom7gakEyxi"
      },
      "outputs": [],
      "source": [
        "from sklearn.model_selection import train_test_split\n",
        "X_train, X_test, y_train, y_test = train_test_split(X, y, test_size=0.35, random_state=42)\n",
        "y_test = y_test.reset_index(drop=True)"
      ]
    },
    {
      "cell_type": "code",
      "execution_count": 21,
      "metadata": {
        "colab": {
          "base_uri": "https://localhost:8080/"
        },
        "id": "susyjG-voYoU",
        "outputId": "1f196f82-6a2c-4d15-e0dc-c357b36e36ee"
      },
      "outputs": [
        {
          "name": "stdout",
          "output_type": "stream",
          "text": [
            "x_train shape: (13000,)\n",
            "y_train shape: (13000,)\n",
            "x_test shape: (7000,)\n",
            "y_test shape: (7000,)\n"
          ]
        }
      ],
      "source": [
        "print(f\"x_train shape: {X_train.shape}\")  # (50, 4)\n",
        "print(f\"y_train shape: {y_train.shape}\")  # (50, 4)  ==> 2d, so something is wrong\n",
        "print(f\"x_test shape: {X_test.shape}\")  # (50,) => also bad\n",
        "print(f\"y_test shape: {y_test.shape}\")\n"
      ]
    },
    {
      "cell_type": "code",
      "execution_count": 22,
      "metadata": {
        "colab": {
          "base_uri": "https://localhost:8080/",
          "height": 250
        },
        "id": "k7XGh6XkE2D7",
        "outputId": "9df56327-71ae-4a48-952d-d6c23eaa4525"
      },
      "outputs": [
        {
          "name": "stderr",
          "output_type": "stream",
          "text": [
            "c:\\Users\\USER\\anaconda3\\lib\\site-packages\\sklearn\\svm\\_base.py:985: ConvergenceWarning: Liblinear failed to converge, increase the number of iterations.\n",
            "  warnings.warn(\"Liblinear failed to converge, increase \"\n"
          ]
        },
        {
          "data": {
            "text/plain": [
              "Pipeline(steps=[('cleaner', <__main__.predictors object at 0x0000015B87273C10>),\n",
              "                ('vectorizer',\n",
              "                 CountVectorizer(tokenizer=<function spacy_tokenizer at 0x0000015BFE243310>)),\n",
              "                ('classifier', LinearSVC())])"
            ]
          },
          "execution_count": 22,
          "metadata": {},
          "output_type": "execute_result"
        }
      ],
      "source": [
        "from sklearn.preprocessing import MultiLabelBinarizer\n",
        "from sklearn.pipeline import Pipeline\n",
        "from sklearn.feature_extraction.text import CountVectorizer\n",
        "from sklearn.multiclass import OneVsRestClassifier\n",
        "from sklearn.svm import LinearSVC\n",
        "\n",
        "#Linear Support Vector Machine classifier\n",
        "classifier = svm.LinearSVC()\n",
        "# Multi-layer Perceptron classifier\n",
        "#classifier = neural_network.MLPClassifier(hidden_layer_sizes=(512,),verbose=True,max_iter=10)\n",
        "# Random Foreset\n",
        "#classifier = ensemble.RandomForestClassifier()\n",
        "# Create the pipeline\n",
        "pipe = Pipeline([(\"cleaner\", predictors()),\n",
        "('vectorizer', vector),\n",
        "('classifier', classifier)])\n",
        "\n",
        "# Addestramento del modello\n",
        "pipe.fit(X_train, y_train)"
      ]
    },
    {
      "cell_type": "code",
      "execution_count": 23,
      "metadata": {
        "id": "mktie4bNf03P"
      },
      "outputs": [
        {
          "name": "stdout",
          "output_type": "stream",
          "text": [
            "Prevista classe: ['sexist']\n"
          ]
        }
      ],
      "source": [
        "single_instance = [\"you are my beautiful bitch \"]\n",
        "prediction = pipe.predict(single_instance)\n",
        "print(f\"Prevista classe: {prediction}\")"
      ]
    },
    {
      "cell_type": "code",
      "execution_count": 24,
      "metadata": {
        "id": "DYRWZZTlYzWD"
      },
      "outputs": [],
      "source": [
        "#!pip install scikit-learn -U\n",
        "import sklearn.metrics"
      ]
    },
    {
      "cell_type": "code",
      "execution_count": 25,
      "metadata": {
        "colab": {
          "base_uri": "https://localhost:8080/"
        },
        "id": "7haCG9c2KhCe",
        "outputId": "decdbe03-47b4-4cec-91fb-3bf4a15d8507"
      },
      "outputs": [
        {
          "name": "stdout",
          "output_type": "stream",
          "text": [
            "Accuracy: 0.7997142857142857\n",
            "======================================================\n",
            "P-macro=0.7228835805630008, R-macro=0.7106968771760673, F1-macro=0.7162795301723162\n",
            "======================================================\n",
            "P-micro=0.7997142857142857, R-micro=0.7997142857142857, F1-micro=0.7997142857142857\n",
            "======================================================\n",
            "              precision    recall  f1-score   support\n",
            "\n",
            "  not sexist     0.8599    0.8806    0.8701      5334\n",
            "      sexist     0.5858    0.5408    0.5624      1666\n",
            "\n",
            "    accuracy                         0.7997      7000\n",
            "   macro avg     0.7229    0.7107    0.7163      7000\n",
            "weighted avg     0.7947    0.7997    0.7969      7000\n",
            "\n"
          ]
        }
      ],
      "source": [
        "predicted = pipe.predict(X_test)\n",
        "sklearn.metrics.f1_score(y_test, predicted,average='weighted',zero_division=1)\n",
        "\n",
        "predicted = pipe.predict(X_test)\n",
        "\n",
        "acc = metrics.accuracy_score(y_test, predicted)\n",
        "print(\"Accuracy:\", acc)\n",
        "print(\"======================================================\")\n",
        "precision_macro = metrics.precision_score(y_test, predicted, average='macro')\n",
        "recall_macro = metrics.recall_score(y_test, predicted, average='macro')\n",
        "fm_macro = metrics.f1_score(y_test, predicted, average='macro')\n",
        "print(\"P-macro={0}, R-macro={1}, F1-macro={2}\".format(precision_macro, recall_macro, fm_macro))\n",
        "print(\"======================================================\")\n",
        "precision_micro = metrics.precision_score(y_test, predicted, average='micro')\n",
        "recall_micro = metrics.recall_score(y_test, predicted, average='micro')\n",
        "fm_micro = metrics.f1_score(y_test, predicted, average='micro')\n",
        "print(\"P-micro={0}, R-micro={1}, F1-micro={2}\".format(precision_micro, recall_micro, fm_micro))\n",
        "print(\"======================================================\")\n",
        "print(metrics.classification_report(y_test, predicted, digits=4))"
      ]
    },
    {
      "cell_type": "code",
      "execution_count": 26,
      "metadata": {},
      "outputs": [
        {
          "data": {
            "text/html": [
              "<div>\n",
              "<style scoped>\n",
              "    .dataframe tbody tr th:only-of-type {\n",
              "        vertical-align: middle;\n",
              "    }\n",
              "\n",
              "    .dataframe tbody tr th {\n",
              "        vertical-align: top;\n",
              "    }\n",
              "\n",
              "    .dataframe thead th {\n",
              "        text-align: right;\n",
              "    }\n",
              "</style>\n",
              "<table border=\"1\" class=\"dataframe\">\n",
              "  <thead>\n",
              "    <tr style=\"text-align: right;\">\n",
              "      <th></th>\n",
              "      <th>text</th>\n",
              "      <th>label_category</th>\n",
              "    </tr>\n",
              "    <tr>\n",
              "      <th>ID</th>\n",
              "      <th></th>\n",
              "      <th></th>\n",
              "    </tr>\n",
              "  </thead>\n",
              "  <tbody>\n",
              "    <tr>\n",
              "      <th>0</th>\n",
              "      <td>In Nigeria, if you rape a woman, the men rape ...</td>\n",
              "      <td>none</td>\n",
              "    </tr>\n",
              "    <tr>\n",
              "      <th>1</th>\n",
              "      <td>Then, she's a keeper. 😉</td>\n",
              "      <td>none</td>\n",
              "    </tr>\n",
              "    <tr>\n",
              "      <th>2</th>\n",
              "      <td>This is like the Metallica video where the poo...</td>\n",
              "      <td>none</td>\n",
              "    </tr>\n",
              "    <tr>\n",
              "      <th>3</th>\n",
              "      <td>woman?</td>\n",
              "      <td>none</td>\n",
              "    </tr>\n",
              "    <tr>\n",
              "      <th>4</th>\n",
              "      <td>I bet she wished she had a gun</td>\n",
              "      <td>none</td>\n",
              "    </tr>\n",
              "    <tr>\n",
              "      <th>...</th>\n",
              "      <td>...</td>\n",
              "      <td>...</td>\n",
              "    </tr>\n",
              "    <tr>\n",
              "      <th>19995</th>\n",
              "      <td>girls really get fucked almost every weekend ?</td>\n",
              "      <td>none</td>\n",
              "    </tr>\n",
              "    <tr>\n",
              "      <th>19996</th>\n",
              "      <td>The hatred for moslems are Reasonable and Just...</td>\n",
              "      <td>none</td>\n",
              "    </tr>\n",
              "    <tr>\n",
              "      <th>19997</th>\n",
              "      <td>Now this is a woman who gets it. 👆</td>\n",
              "      <td>none</td>\n",
              "    </tr>\n",
              "    <tr>\n",
              "      <th>19998</th>\n",
              "      <td>“American Idol” finalist [USER] said nothing i...</td>\n",
              "      <td>none</td>\n",
              "    </tr>\n",
              "    <tr>\n",
              "      <th>19999</th>\n",
              "      <td>this bi--th should be stoped she's the rapist</td>\n",
              "      <td>2. derogation</td>\n",
              "    </tr>\n",
              "  </tbody>\n",
              "</table>\n",
              "<p>20000 rows × 2 columns</p>\n",
              "</div>"
            ],
            "text/plain": [
              "                                                    text label_category\n",
              "ID                                                                     \n",
              "0      In Nigeria, if you rape a woman, the men rape ...           none\n",
              "1                                Then, she's a keeper. 😉           none\n",
              "2      This is like the Metallica video where the poo...           none\n",
              "3                                                 woman?           none\n",
              "4                         I bet she wished she had a gun           none\n",
              "...                                                  ...            ...\n",
              "19995     girls really get fucked almost every weekend ?           none\n",
              "19996  The hatred for moslems are Reasonable and Just...           none\n",
              "19997                 Now this is a woman who gets it. 👆           none\n",
              "19998  “American Idol” finalist [USER] said nothing i...           none\n",
              "19999      this bi--th should be stoped she's the rapist  2. derogation\n",
              "\n",
              "[20000 rows x 2 columns]"
            ]
          },
          "execution_count": 26,
          "metadata": {},
          "output_type": "execute_result"
        }
      ],
      "source": [
        "df1 = read_csv('../Dataset/final_dataset_category.csv')\n",
        "X1 = df1['text']\n",
        "y1 = df1['label_category']\n",
        "df1.set_index('ID')"
      ]
    },
    {
      "cell_type": "code",
      "execution_count": 27,
      "metadata": {},
      "outputs": [],
      "source": [
        "from sklearn.model_selection import train_test_split\n",
        "X1_train, X1_test, y1_train, y1_test = train_test_split(X1, y1, test_size=0.35, random_state=42)\n",
        "y1_test = y1_test.reset_index(drop=True)"
      ]
    },
    {
      "cell_type": "code",
      "execution_count": 38,
      "metadata": {},
      "outputs": [
        {
          "name": "stdout",
          "output_type": "stream",
          "text": [
            "Iteration 1, loss = 0.94723545\n",
            "Iteration 2, loss = 0.54812353\n",
            "Iteration 3, loss = 0.30988144\n",
            "Iteration 4, loss = 0.16686241\n",
            "Iteration 5, loss = 0.09055720\n",
            "Iteration 6, loss = 0.05078440\n",
            "Iteration 7, loss = 0.03092699\n",
            "Iteration 8, loss = 0.02013398\n",
            "Iteration 9, loss = 0.01388315\n",
            "Iteration 10, loss = 0.01010841\n"
          ]
        },
        {
          "name": "stderr",
          "output_type": "stream",
          "text": [
            "c:\\Users\\USER\\anaconda3\\lib\\site-packages\\sklearn\\neural_network\\_multilayer_perceptron.py:614: ConvergenceWarning: Stochastic Optimizer: Maximum iterations (10) reached and the optimization hasn't converged yet.\n",
            "  warnings.warn(\n"
          ]
        },
        {
          "data": {
            "text/plain": [
              "Pipeline(steps=[('cleaner', <__main__.predictors object at 0x0000015B872746D0>),\n",
              "                ('vectorizer',\n",
              "                 CountVectorizer(tokenizer=<function spacy_tokenizer at 0x0000015BFE243310>)),\n",
              "                ('classifier',\n",
              "                 MLPClassifier(hidden_layer_sizes=(512,), max_iter=10,\n",
              "                               verbose=True))])"
            ]
          },
          "execution_count": 38,
          "metadata": {},
          "output_type": "execute_result"
        }
      ],
      "source": [
        "#Linear Support Vector Machine classifier\n",
        "#classifier = svm.LinearSVC()\n",
        "# Multi-layer Perceptron classifier\n",
        "classifier = neural_network.MLPClassifier(hidden_layer_sizes=(512,),verbose=True,max_iter=10)\n",
        "# Random Foreset\n",
        "#classifier = ensemble.RandomForestClassifier()\n",
        "# Create the pipeline\n",
        "pipe = Pipeline([(\"cleaner\", predictors()),\n",
        "('vectorizer', vector),\n",
        "('classifier', classifier)])\n",
        "\n",
        "# Addestramento del modello\n",
        "pipe.fit(X1_train, y1_train)"
      ]
    },
    {
      "cell_type": "code",
      "execution_count": 41,
      "metadata": {},
      "outputs": [
        {
          "name": "stdout",
          "output_type": "stream",
          "text": [
            "Prevista classe: ['none']\n"
          ]
        }
      ],
      "source": [
        "single_instance = [\"if you will eat that apple, i will kill you with a knife\"]\n",
        "prediction = pipe.predict(single_instance)\n",
        "print(f\"Prevista classe: {prediction}\")"
      ]
    },
    {
      "cell_type": "code",
      "execution_count": 40,
      "metadata": {},
      "outputs": [
        {
          "name": "stdout",
          "output_type": "stream",
          "text": [
            "Accuracy: 0.7708571428571429\n",
            "======================================================\n",
            "P-macro=0.4622072018555855, R-macro=0.33575159182737213, F1-macro=0.36691961622477776\n",
            "======================================================\n",
            "P-micro=0.7708571428571429, R-micro=0.7708571428571429, F1-micro=0.7708571428571429\n",
            "======================================================\n",
            "                                          precision    recall  f1-score   support\n",
            "\n",
            "1. threats, plans to harm and incitement     0.4444    0.1569    0.2319       153\n",
            "                           2. derogation     0.4062    0.3242    0.3606       768\n",
            "                            3. animosity     0.3960    0.2065    0.2715       581\n",
            "               4. prejudiced discussions     0.2308    0.0549    0.0887       164\n",
            "                                    none     0.8336    0.9363    0.8819      5334\n",
            "\n",
            "                                accuracy                         0.7709      7000\n",
            "                               macro avg     0.4622    0.3358    0.3669      7000\n",
            "                            weighted avg     0.7277    0.7709    0.7413      7000\n",
            "\n"
          ]
        }
      ],
      "source": [
        "predicted = pipe.predict(X1_test)\n",
        "sklearn.metrics.f1_score(y1_test, predicted,average='weighted',zero_division=0)\n",
        "\n",
        "predicted = pipe.predict(X1_test)\n",
        "\n",
        "acc = metrics.accuracy_score(y1_test, predicted)\n",
        "print(\"Accuracy:\", acc)\n",
        "print(\"======================================================\")\n",
        "precision_macro = metrics.precision_score(y1_test, predicted, average='macro')\n",
        "recall_macro = metrics.recall_score(y1_test, predicted, average='macro')\n",
        "fm_macro = metrics.f1_score(y1_test, predicted, average='macro')\n",
        "print(\"P-macro={0}, R-macro={1}, F1-macro={2}\".format(precision_macro, recall_macro, fm_macro))\n",
        "print(\"======================================================\")\n",
        "precision_micro = metrics.precision_score(y1_test, predicted, average='micro')\n",
        "recall_micro = metrics.recall_score(y1_test, predicted, average='micro')\n",
        "fm_micro = metrics.f1_score(y1_test, predicted, average='micro')\n",
        "print(\"P-micro={0}, R-micro={1}, F1-micro={2}\".format(precision_micro, recall_micro, fm_micro))\n",
        "print(\"======================================================\")\n",
        "print(metrics.classification_report(y1_test, predicted, digits=4))"
      ]
    }
  ],
  "metadata": {
    "colab": {
      "include_colab_link": true,
      "provenance": []
    },
    "kernelspec": {
      "display_name": "base",
      "language": "python",
      "name": "python3"
    },
    "language_info": {
      "codemirror_mode": {
        "name": "ipython",
        "version": 3
      },
      "file_extension": ".py",
      "mimetype": "text/x-python",
      "name": "python",
      "nbconvert_exporter": "python",
      "pygments_lexer": "ipython3",
      "version": "3.9.13"
    },
    "orig_nbformat": 4
  },
  "nbformat": 4,
  "nbformat_minor": 0
}
