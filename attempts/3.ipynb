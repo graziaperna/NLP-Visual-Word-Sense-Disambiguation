{
  "cells": [
    {
      "cell_type": "code",
      "execution_count": 1,
      "metadata": {
        "id": "dxoEEdu-BCYs"
      },
      "outputs": [],
      "source": [
        "#%pip install -U spaCy\n",
        "#%pip install keras\n",
        "#%python -m spacy download en_core_web_sm\n",
        "#%pip install -U jax jaxlib\n",
        "#%pip install clean-text\n",
        "#%pip install --upgrade ipykernel\n",
        "#da eseguire al primo utilizzo"
      ]
    },
    {
      "cell_type": "code",
      "execution_count": 2,
      "metadata": {
        "id": "Wel4vXK2BCYu"
      },
      "outputs": [],
      "source": [
        "import string\n",
        "import spacy\n",
        "import json\n",
        "import re\n",
        "import numpy as np\n",
        "import pandas as pd\n",
        "from sklearn.feature_extraction.text import CountVectorizer,TfidfVectorizer\n",
        "from sklearn.base import TransformerMixin\n",
        "from sklearn.pipeline import Pipeline\n",
        "from spacy.lang.it.stop_words import STOP_WORDS\n",
        "from spacy.lang.en import English\n",
        "from sklearn.pipeline import Pipeline\n",
        "from sklearn.feature_extraction.text import CountVectorizer, TfidfTransformer\n",
        "from sklearn.model_selection import train_test_split, GridSearchCV\n",
        "from sklearn.ensemble import RandomForestClassifier\n",
        "from sklearn.multioutput import MultiOutputClassifier\n",
        "from sklearn.metrics import accuracy_score, precision_score, recall_score, f1_score, make_scorer\n",
        "from sklearn.model_selection import GridSearchCV\n",
        "from nltk.corpus import stopwords\n",
        "from nltk.tokenize import word_tokenize\n",
        "from nltk.stem.porter import PorterStemmer\n",
        "from pandas import read_csv\n",
        "from sklearn.svm import SVC\n",
        "from sklearn import metrics\n",
        "from sklearn import svm\n",
        "from sklearn import neural_network\n",
        "from sklearn import ensemble\n",
        "from nltk.corpus import stopwords\n",
        "from nltk.tokenize import word_tokenize\n",
        "from nltk.stem.porter import PorterStemmer\n",
        "from pandas import read_csv\n",
        "import nltk\n",
        "import random\n",
        "from sklearn.model_selection import KFold\n",
        "from sklearn.preprocessing import MultiLabelBinarizer\n",
        "from sklearn.pipeline import Pipeline\n",
        "from sklearn.feature_extraction.text import TfidfVectorizer\n",
        "from sklearn.multiclass import OneVsRestClassifier\n",
        "from sklearn.svm import LinearSVC\n",
        "from sklearn.utils import class_weight\n",
        "import sklearn.metrics\n",
        "from sklearn.metrics import precision_score, recall_score, f1_score\n",
        "\n",
        "#init spaCy\n",
        "punctuations = string.punctuation\n",
        "nlp = spacy.load(\"en_core_web_lg\")\n",
        "stop_words = spacy.lang.en.stop_words.STOP_WORDS\n",
        "parser = English()\n",
        "\n",
        "# Custom transformer using spaCy\n",
        "class predictors(TransformerMixin):\n",
        "    def transform(self, X, **transform_params):\n",
        "        # Cleaning Text\n",
        "        return [clean_text(text) for text in X]\n",
        "\n",
        "    def fit(self, X, y=None, **fit_params):\n",
        "        return self\n",
        "\n",
        "    def get_params(self, deep=True):\n",
        "        return {}\n",
        "\n",
        "# Basic function to clean the text\n",
        "def clean_text(text):\n",
        "    # Removing spaces and converting text into lowercase\n",
        "    translator = str.maketrans(\"\", \"\", string.punctuation)\n",
        "    text_without_punctuation = text.translate(translator)\n",
        "    return text_without_punctuation.lower()\n",
        "    #return text.strip().lower()\n",
        "\n",
        "# Tokenizer function\n",
        "def spacy_tokenizer(sentence):\n",
        "    mytokens = parser(sentence)\n",
        "    mytokens = [ word.text for word in mytokens ]\n",
        "    # remove stop words\n",
        "    mytokens = [ word for word in mytokens if word not in stop_words and word not in punctuations ]\n",
        "    # return preprocessed list of tokens\n",
        "    return mytokens\n",
        "\n"
      ]
    },
    {
      "cell_type": "code",
      "execution_count": 3,
      "metadata": {
        "colab": {
          "base_uri": "https://localhost:8080/"
        },
        "id": "kmyyylg4Cg3U",
        "outputId": "ceed22cd-c394-41cf-b576-fd892f5ed982"
      },
      "outputs": [
        {
          "name": "stderr",
          "output_type": "stream",
          "text": [
            "[nltk_data] Downloading package stopwords to\n",
            "[nltk_data]     C:\\Users\\perna\\AppData\\Roaming\\nltk_data...\n",
            "[nltk_data]   Package stopwords is already up-to-date!\n"
          ]
        },
        {
          "data": {
            "text/plain": [
              "True"
            ]
          },
          "execution_count": 3,
          "metadata": {},
          "output_type": "execute_result"
        }
      ],
      "source": [
        "nltk.download('stopwords')"
      ]
    },
    {
      "cell_type": "code",
      "execution_count": 4,
      "metadata": {
        "colab": {
          "base_uri": "https://localhost:8080/",
          "height": 455
        },
        "id": "SvR_yoZ3BCYv",
        "outputId": "7acb3bfe-bf2d-4d39-a9b1-0127641e04b4"
      },
      "outputs": [
        {
          "name": "stdout",
          "output_type": "stream",
          "text": [
            "not sexist    15146\n",
            "sexist         4854\n",
            "Name: label_sexist, dtype: int64\n"
          ]
        },
        {
          "data": {
            "text/html": [
              "<div>\n",
              "<style scoped>\n",
              "    .dataframe tbody tr th:only-of-type {\n",
              "        vertical-align: middle;\n",
              "    }\n",
              "\n",
              "    .dataframe tbody tr th {\n",
              "        vertical-align: top;\n",
              "    }\n",
              "\n",
              "    .dataframe thead th {\n",
              "        text-align: right;\n",
              "    }\n",
              "</style>\n",
              "<table border=\"1\" class=\"dataframe\">\n",
              "  <thead>\n",
              "    <tr style=\"text-align: right;\">\n",
              "      <th></th>\n",
              "      <th>text</th>\n",
              "      <th>label_sexist</th>\n",
              "    </tr>\n",
              "    <tr>\n",
              "      <th>ID</th>\n",
              "      <th></th>\n",
              "      <th></th>\n",
              "    </tr>\n",
              "  </thead>\n",
              "  <tbody>\n",
              "    <tr>\n",
              "      <th>0</th>\n",
              "      <td>In Nigeria, if you rape a woman, the men rape ...</td>\n",
              "      <td>not sexist</td>\n",
              "    </tr>\n",
              "    <tr>\n",
              "      <th>1</th>\n",
              "      <td>Then, she's a keeper. 😉</td>\n",
              "      <td>not sexist</td>\n",
              "    </tr>\n",
              "    <tr>\n",
              "      <th>2</th>\n",
              "      <td>This is like the Metallica video where the poo...</td>\n",
              "      <td>not sexist</td>\n",
              "    </tr>\n",
              "    <tr>\n",
              "      <th>3</th>\n",
              "      <td>woman?</td>\n",
              "      <td>not sexist</td>\n",
              "    </tr>\n",
              "    <tr>\n",
              "      <th>4</th>\n",
              "      <td>I bet she wished she had a gun</td>\n",
              "      <td>not sexist</td>\n",
              "    </tr>\n",
              "    <tr>\n",
              "      <th>...</th>\n",
              "      <td>...</td>\n",
              "      <td>...</td>\n",
              "    </tr>\n",
              "    <tr>\n",
              "      <th>19995</th>\n",
              "      <td>girls really get fucked almost every weekend ?</td>\n",
              "      <td>not sexist</td>\n",
              "    </tr>\n",
              "    <tr>\n",
              "      <th>19996</th>\n",
              "      <td>The hatred for moslems are Reasonable and Just...</td>\n",
              "      <td>not sexist</td>\n",
              "    </tr>\n",
              "    <tr>\n",
              "      <th>19997</th>\n",
              "      <td>Now this is a woman who gets it. 👆</td>\n",
              "      <td>not sexist</td>\n",
              "    </tr>\n",
              "    <tr>\n",
              "      <th>19998</th>\n",
              "      <td>“American Idol” finalist [USER] said nothing i...</td>\n",
              "      <td>not sexist</td>\n",
              "    </tr>\n",
              "    <tr>\n",
              "      <th>19999</th>\n",
              "      <td>this bi--th should be stoped she's the rapist</td>\n",
              "      <td>sexist</td>\n",
              "    </tr>\n",
              "  </tbody>\n",
              "</table>\n",
              "<p>20000 rows × 2 columns</p>\n",
              "</div>"
            ],
            "text/plain": [
              "                                                    text label_sexist\n",
              "ID                                                                   \n",
              "0      In Nigeria, if you rape a woman, the men rape ...   not sexist\n",
              "1                                Then, she's a keeper. 😉   not sexist\n",
              "2      This is like the Metallica video where the poo...   not sexist\n",
              "3                                                 woman?   not sexist\n",
              "4                         I bet she wished she had a gun   not sexist\n",
              "...                                                  ...          ...\n",
              "19995     girls really get fucked almost every weekend ?   not sexist\n",
              "19996  The hatred for moslems are Reasonable and Just...   not sexist\n",
              "19997                 Now this is a woman who gets it. 👆   not sexist\n",
              "19998  “American Idol” finalist [USER] said nothing i...   not sexist\n",
              "19999      this bi--th should be stoped she's the rapist       sexist\n",
              "\n",
              "[20000 rows x 2 columns]"
            ]
          },
          "execution_count": 4,
          "metadata": {},
          "output_type": "execute_result"
        }
      ],
      "source": [
        "df = read_csv('../Dataset/final_dataset_sexist.csv')\n",
        "\n",
        "X = df['text']\n",
        "y = df['label_sexist']\n",
        "print(y.value_counts())\n",
        "df.set_index('ID')\n"
      ]
    },
    {
      "cell_type": "code",
      "execution_count": 5,
      "metadata": {
        "id": "CoUpof7FFfS9"
      },
      "outputs": [],
      "source": [
        "vector = CountVectorizer(tokenizer = spacy_tokenizer, ngram_range=(1,2))"
      ]
    },
    {
      "cell_type": "code",
      "execution_count": 6,
      "metadata": {
        "id": "ppom7gakEyxi"
      },
      "outputs": [],
      "source": [
        "#Linear Support Vector Machine classifier\n",
        "accuracy_scores = []\n",
        "precision_scores = []\n",
        "recall_scores = []\n",
        "f1_scores = []\n",
        "accuracy_label = []\n",
        "precision_label = []\n",
        "recall_label = []\n",
        "f1_label = []\n",
        "\n",
        "class_labels = np.unique(y)\n",
        "classifier = svm.LinearSVC(max_iter = 10000, class_weight= {\"not sexist\": 0.2, \"sexist\": 1})\n",
        "# Multi-layer Perceptron classifier\n",
        "#classifier = neural_network.MLPClassifier(hidden_layer_sizes=(512,),verbose=True,max_iter=10)\n",
        "# Random Foreset\n",
        "#classifier = ensemble.RandomForestClassifier(class_weight='balanced')\n",
        "\n",
        "# Create the pipeline\n",
        "\n",
        "pipe = Pipeline([(\"cleaner\", predictors()),\n",
        "('vectorizer', vector),\n",
        "('classifier', classifier)])\n",
        "\n",
        "kf = KFold(n_splits=10, shuffle=True, random_state=42)\n",
        "\n",
        "for train_index, test_index in kf.split(X):\n",
        "    # Divisione dei dati in fold di addestramento e di test\n",
        "    X_train, X_test = X[train_index], X[test_index]\n",
        "    y_train, y_test = y[train_index], y[test_index]\n",
        "    # Addestramento del modello\n",
        "    pipe.fit(X_train, y_train)\n",
        "\n",
        "    # Valutazione delle performance del modello sul test set\n",
        "    predicted = pipe.predict(X_test)\n",
        "\n",
        "    # Calcolo delle metriche di valutazione per il fold corrente\n",
        "    accuracy = accuracy_score(y_test, predicted)\n",
        "    precision = precision_score(y_test, predicted, average='weighted')\n",
        "    recall = recall_score(y_test, predicted, average='weighted')\n",
        "    f1 = f1_score(y_test, predicted, average='weighted')\n",
        "\n",
        "    # Aggiunta delle metriche del fold corrente alle liste\n",
        "    accuracy_scores.append(accuracy)\n",
        "    precision_scores.append(precision)\n",
        "    recall_scores.append(recall)\n",
        "    f1_scores.append(f1)\n",
        "\n",
        "    # Calcolo delle metriche per ogni singola classe\n",
        "    precision_label = precision_score(y_test, predicted, average=None, labels=class_labels)\n",
        "    recall_label = recall_score(y_test, predicted, average=None, labels=class_labels)\n",
        "    f1_label = f1_score(y_test, predicted, average=None, labels=class_labels)\n",
        "\n",
        "#X_train, X_test, y_train, y_test = train_test_split(X, y, test_size=0.3, random_state=42)\n",
        "#y_test = y_test.reset_index(drop=True)"
      ]
    },
    {
      "cell_type": "code",
      "execution_count": 7,
      "metadata": {
        "colab": {
          "base_uri": "https://localhost:8080/"
        },
        "id": "7haCG9c2KhCe",
        "outputId": "decdbe03-47b4-4cec-91fb-3bf4a15d8507"
      },
      "outputs": [
        {
          "name": "stdout",
          "output_type": "stream",
          "text": [
            "---------------------------------\n",
            "Metriche finali:\n",
            "Accuratezza media: 0.8350\n",
            "Precisione media: 0.8264\n",
            "Richiamo medio: 0.8350\n",
            "F1-score medio: 0.8266\n",
            "---------------------------------\n",
            "\n",
            "---------------------------------\n",
            "Metriche per ogni singola classe:\n",
            "Classe 'not sexist':\n",
            "Precisione: 0.8648\n",
            "Richiamo: 0.9250\n",
            "F1-score: 0.8939\n",
            "\n",
            "Classe 'sexist':\n",
            "Precisione: 0.6944\n",
            "Richiamo: 0.5407\n",
            "F1-score: 0.6080\n",
            "\n",
            "---------------------------------\n"
          ]
        }
      ],
      "source": [
        "mean_accuracy = np.mean(accuracy_scores)\n",
        "mean_precision = np.mean(precision_scores)\n",
        "mean_recall = np.mean(recall_scores)\n",
        "mean_f1 = np.mean(f1_scores)\n",
        "\n",
        "# Stampa delle metriche\n",
        "print(\"---------------------------------\")\n",
        "print(\"Metriche finali:\")\n",
        "print(f\"Accuratezza media: {mean_accuracy:.4f}\")\n",
        "print(f\"Precisione media: {mean_precision:.4f}\")\n",
        "print(f\"Richiamo medio: {mean_recall:.4f}\")\n",
        "print(f\"F1-score medio: {mean_f1:.4f}\")\n",
        "print(\"---------------------------------\\n\")\n",
        "\n",
        "# Stampa delle metriche per ogni singola classe\n",
        "print(\"---------------------------------\")\n",
        "print(\"Metriche per ogni singola classe:\")\n",
        "for i, label in enumerate(class_labels):\n",
        "    print(f\"Classe '{label}':\")\n",
        "    print(f\"Precisione: {precision_label[i]:.4f}\")\n",
        "    print(f\"Richiamo: {recall_label[i]:.4f}\")\n",
        "    print(f\"F1-score: {f1_label[i]:.4f}\")\n",
        "    print()\n",
        "print(\"---------------------------------\")"
      ]
    },
    {
      "cell_type": "code",
      "execution_count": 48,
      "metadata": {},
      "outputs": [
        {
          "name": "stdout",
          "output_type": "stream",
          "text": [
            "2. derogation                               2271\n",
            "3. animosity                                1665\n",
            "4. prejudiced discussions                    475\n",
            "1. threats, plans to harm and incitement     443\n",
            "Name: label_category, dtype: int64\n"
          ]
        }
      ],
      "source": [
        "df1 = read_csv('../Dataset/final_dataset_category.csv')\n",
        "X1 = df1['text']\n",
        "y1 = df1['label_category']\n",
        "df1.set_index('ID')\n",
        "print(y1.value_counts())\n"
      ]
    },
    {
      "cell_type": "code",
      "execution_count": 56,
      "metadata": {},
      "outputs": [],
      "source": [
        "from transformers import BertTokenizer\n",
        "\n",
        "tokenizer = BertTokenizer.from_pretrained('bert-large-uncased')\n",
        "vector1 = TfidfVectorizer(tokenizer = tokenizer.tokenize, ngram_range=(1,2))\n",
        "#vector1 = CountVectorizer(tokenizer = tokenizer.tokenize, ngram_range=(1,2))"
      ]
    },
    {
      "cell_type": "code",
      "execution_count": 57,
      "metadata": {},
      "outputs": [],
      "source": [
        "#Linear Support Vector Machine classifier\n",
        "accuracy_scores = []\n",
        "precision_scores = []\n",
        "recall_scores = []\n",
        "f1_scores = []\n",
        "accuracy_label = []\n",
        "precision_label = []\n",
        "recall_label = []\n",
        "f1_label = []\n",
        "\n",
        "class_labels = np.unique(y1)\n",
        "classifier = svm.LinearSVC(max_iter = 10000)\n",
        "# Multi-layer Perceptron classifier\n",
        "#classifier = neural_network.MLPClassifier(hidden_layer_sizes=(512,),verbose=True,max_iter=10)\n",
        "# Random Foreset\n",
        "#classifier = ensemble.RandomForestClassifier(class_weight='balanced')\n",
        "\n",
        "# Create the pipeline\n",
        "\n",
        "pipe1 = Pipeline([(\"cleaner\", predictors()),\n",
        "('vectorizer', vector1),\n",
        "('classifier', classifier)])\n",
        "\n",
        "kf = KFold(n_splits=10, shuffle=True, random_state=42)\n",
        "\n",
        "for train_index, test_index in kf.split(X1):\n",
        "    # Divisione dei dati in fold di addestramento e di test\n",
        "    X1_train, X1_test = X1[train_index], X1[test_index]\n",
        "    y1_train, y1_test = y1[train_index], y1[test_index]\n",
        "    # Addestramento del modello\n",
        "    pipe1.fit(X1_train, y1_train)\n",
        "\n",
        "    # Valutazione delle performance del modello sul test set\n",
        "    predicted = pipe1.predict(X1_test)\n",
        "\n",
        "    # Calcolo delle metriche di valutazione per il fold corrente\n",
        "    accuracy = accuracy_score(y1_test, predicted)\n",
        "    precision = precision_score(y1_test, predicted, average='weighted')\n",
        "    recall = recall_score(y1_test, predicted, average='weighted')\n",
        "    f1 = f1_score(y1_test, predicted, average='weighted')\n",
        "\n",
        "    # Aggiunta delle metriche del fold corrente alle liste\n",
        "    accuracy_scores.append(accuracy)\n",
        "    precision_scores.append(precision)\n",
        "    recall_scores.append(recall)\n",
        "    f1_scores.append(f1)\n",
        "\n",
        "    # Calcolo delle metriche per ogni singola classe\n",
        "    precision_label = precision_score(y1_test, predicted, average=None, labels=class_labels)\n",
        "    recall_label = recall_score(y1_test, predicted, average=None, labels=class_labels)\n",
        "    f1_label = f1_score(y1_test, predicted, average=None, labels=class_labels)\n"
      ]
    },
    {
      "cell_type": "code",
      "execution_count": 58,
      "metadata": {},
      "outputs": [
        {
          "name": "stdout",
          "output_type": "stream",
          "text": [
            "---------------------------------\n",
            "Metriche finali:\n",
            "Accuratezza media: 0.5503\n",
            "Precisione media: 0.5575\n",
            "Richiamo medio: 0.5503\n",
            "F1-score medio: 0.5319\n",
            "---------------------------------\n",
            "\n",
            "---------------------------------\n",
            "Metriche per ogni singola classe:\n",
            "Classe '1. threats, plans to harm and incitement':\n",
            "Precisione: 0.6970\n",
            "Richiamo: 0.5111\n",
            "F1-score: 0.5897\n",
            "\n",
            "Classe '2. derogation':\n",
            "Precisione: 0.5488\n",
            "Richiamo: 0.7653\n",
            "F1-score: 0.6392\n",
            "\n",
            "Classe '3. animosity':\n",
            "Precisione: 0.5385\n",
            "Richiamo: 0.4118\n",
            "F1-score: 0.4667\n",
            "\n",
            "Classe '4. prejudiced discussions':\n",
            "Precisione: 0.6000\n",
            "Richiamo: 0.2632\n",
            "F1-score: 0.3659\n",
            "\n",
            "---------------------------------\n"
          ]
        }
      ],
      "source": [
        "mean_accuracy = np.mean(accuracy_scores)\n",
        "mean_precision = np.mean(precision_scores)\n",
        "mean_recall = np.mean(recall_scores)\n",
        "mean_f1 = np.mean(f1_scores)\n",
        "\n",
        "# Stampa delle metriche\n",
        "print(\"---------------------------------\")\n",
        "print(\"Metriche finali:\")\n",
        "print(f\"Accuratezza media: {mean_accuracy:.4f}\")\n",
        "print(f\"Precisione media: {mean_precision:.4f}\")\n",
        "print(f\"Richiamo medio: {mean_recall:.4f}\")\n",
        "print(f\"F1-score medio: {mean_f1:.4f}\")\n",
        "print(\"---------------------------------\\n\")\n",
        "\n",
        "# Stampa delle metriche per ogni singola classe\n",
        "print(\"---------------------------------\")\n",
        "print(\"Metriche per ogni singola classe:\")\n",
        "for i, label in enumerate(class_labels):\n",
        "    print(f\"Classe '{label}':\")\n",
        "    print(f\"Precisione: {precision_label[i]:.4f}\")\n",
        "    print(f\"Richiamo: {recall_label[i]:.4f}\")\n",
        "    print(f\"F1-score: {f1_label[i]:.4f}\")\n",
        "    print()\n",
        "print(\"---------------------------------\")"
      ]
    },
    {
      "cell_type": "code",
      "execution_count": 16,
      "metadata": {},
      "outputs": [
        {
          "name": "stdout",
          "output_type": "stream",
          "text": [
            "Classe: ['1. threats, plans to harm and incitement']\n"
          ]
        }
      ],
      "source": [
        "single_instance = [\"I can smell her dying from here.\"]\n",
        "prediction = pipe.predict(single_instance)\n",
        "\n",
        "if (prediction == 'sexist'):\n",
        "    prediction = pipe1.predict(single_instance)\n",
        "\n",
        "print(f\"Classe: {prediction}\")"
      ]
    }
  ],
  "metadata": {
    "colab": {
      "include_colab_link": true,
      "provenance": []
    },
    "kernelspec": {
      "display_name": "base",
      "language": "python",
      "name": "python3"
    },
    "language_info": {
      "codemirror_mode": {
        "name": "ipython",
        "version": 3
      },
      "file_extension": ".py",
      "mimetype": "text/x-python",
      "name": "python",
      "nbconvert_exporter": "python",
      "pygments_lexer": "ipython3",
      "version": "3.9.13"
    },
    "orig_nbformat": 4
  },
  "nbformat": 4,
  "nbformat_minor": 0
}
